{
  "nbformat": 4,
  "nbformat_minor": 0,
  "metadata": {
    "colab": {
      "name": "HW_1.ipynb",
      "provenance": [],
      "collapsed_sections": []
    },
    "kernelspec": {
      "name": "python3",
      "display_name": "Python 3"
    }
  },
  "cells": [
    {
      "cell_type": "markdown",
      "metadata": {
        "id": "4tihWN6KU5Ug",
        "colab_type": "text"
      },
      "source": [
        "# HW 1: Problem 2\n",
        "\n",
        "## Description\n",
        "\n",
        "This program takes in a list of numpy matrices and attempts to multiply them together. If it fails, an exception will be raised and described.\n",
        "\n",
        "Testcases have been made for easy grading and validation. Three testcases check for different methods of successful matrix multiplication. Another testcase checks for proper exception handling in the case of an incompatible multiplication of matrices."
      ]
    },
    {
      "cell_type": "markdown",
      "metadata": {
        "id": "Uf44bH1cVRqW",
        "colab_type": "text"
      },
      "source": [
        "## The Function"
      ]
    },
    {
      "cell_type": "code",
      "metadata": {
        "id": "NbS-zS_65JT6",
        "colab_type": "code",
        "colab": {}
      },
      "source": [
        "import numpy as np\n",
        "\n",
        "\n",
        "def multiply_matrices(arrays):\n",
        "    # Initialize to first matrix in the array\n",
        "    product = arrays[0]\n",
        "\n",
        "    # Multiply all matrices iteratively\n",
        "    for mat in arrays[1:]:\n",
        "        # Catch and raise any compatibility errors\n",
        "        try:\n",
        "            # Perform matrix multiplication with numpy\n",
        "            product = np.matmul(product, mat)\n",
        "\n",
        "        except ValueError as e:\n",
        "            # Raise the compatibility error\n",
        "            raise ValueError(\n",
        "                \"ValueError: The matrix \"\n",
        "                + str(mat)\n",
        "                + \" is not compatible with the matrix \"\n",
        "                + str(product)\n",
        "            )\n",
        "\n",
        "    return product\n"
      ],
      "execution_count": 0,
      "outputs": []
    },
    {
      "cell_type": "markdown",
      "metadata": {
        "id": "okPzL-3uXhWc",
        "colab_type": "text"
      },
      "source": [
        "## The Math\n",
        "\n",
        "Matrix multiplication is done by taking the dot product of certain rows and columns, resulting in a final, potentially smaller, matrix.\n",
        "\n",
        "For example take the matrix\n",
        "$\\begin{bmatrix}\n",
        "    a  &  b      \\\\\n",
        "    c  &  d\n",
        "\\end{bmatrix}$\n",
        "and the matrix\n",
        "$\\begin{bmatrix}\n",
        "    e  &  f  &  g      \\\\\n",
        "    h  &  i  &  j\n",
        "\\end{bmatrix}$. These can be multiplied together with the formula:\n",
        "\n",
        "$\\begin{bmatrix}\n",
        "    a  &  b      \\\\\n",
        "    c  &  d\n",
        "\\end{bmatrix}\n",
        "\\times\n",
        "\\begin{bmatrix}\n",
        "    e  &  f  &  g      \\\\\n",
        "    h  &  i  &  j\n",
        "\\end{bmatrix}\n",
        "=\n",
        "\\begin{bmatrix}\n",
        "    (a \\times e) + (b \\times h)  &  (a \\times f) + (b \\times i)  &  (a \\times g) + (b \\times j)      \\\\\n",
        "    (c \\times e) + (d \\times h)  &  (c \\times f) + (d \\times i)  &  (c \\times g) + (d \\times j)      \\\\\n",
        "\\end{bmatrix}$\n",
        "\n",
        "Now if matrix multiplication is applied to all matrices in the given array, we can find the correct result."
      ]
    },
    {
      "cell_type": "markdown",
      "metadata": {
        "id": "GE4c9clYVg2v",
        "colab_type": "text"
      },
      "source": [
        "## Testcases\n"
      ]
    },
    {
      "cell_type": "code",
      "metadata": {
        "id": "eDo2UThi8-lY",
        "colab_type": "code",
        "colab": {}
      },
      "source": [
        "# testcase_01: 2x3 matrix multiplied by a 3x2 matrix\n",
        "testcase_01 = [np.array([[1, 2, 3], [4, 5, 6]]), np.array([[7, 8], [9, 10], [11, 12]])]\n",
        "print(\"testcase_01: Passed!\") if (\n",
        "    multiply_matrices(testcase_01) == np.array([[58, 64], [139, 154]])\n",
        ").all() else print(\"testcase_01: Failed!\")\n",
        "\n",
        "# testcase_02: 2x2 matrix multiplied by a 2x1 matrix\n",
        "testcase_02 = [np.array([[1, 2], [3, 4]]), np.array([[5], [6]])]\n",
        "print(\"testcase_02: Passed!\") if (\n",
        "    multiply_matrices(testcase_02) == np.array([[17], [39]])\n",
        ").all() else print(\"testcase_02: Failed!\")\n",
        "\n",
        "# testcase_03: 2x3 matrix multiplied by a 3x2 matrix, multiplied by a 2x1 matrix\n",
        "testcase_03 = [\n",
        "    np.array([[1, 2, 3], [4, 5, 6]]),\n",
        "    np.array([[7, 8], [9, 10], [11, 12]]),\n",
        "    np.array([2, 1]),\n",
        "]\n",
        "print(\"testcase_03: Passed!\") if (\n",
        "    multiply_matrices(testcase_03) == np.array([180, 432])\n",
        ").all() else print(\"testcase_03: Failed!\")\n",
        "\n",
        "# testcase_04: 2x3 matrix multiplied by a 3x2 matrix, multiplied by a 1x2 matrix. Intended to fail. Error raised.\n",
        "testcase_04 = [\n",
        "    np.array([[1, 2, 3], [4, 5, 6]]),\n",
        "    np.array([[7, 8], [9, 10], [11, 12]]),\n",
        "    np.array([[2, 1]]),\n",
        "]\n",
        "try:\n",
        "    multiply_matrices(testcase_04)\n",
        "    print(\"testcase_04: Failed!\")\n",
        "except ValueError as e:\n",
        "    print(\"testcase_04: Passed!\")"
      ],
      "execution_count": 0,
      "outputs": []
    }
  ]
}