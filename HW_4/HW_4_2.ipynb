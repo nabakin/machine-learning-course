{
  "nbformat": 4,
  "nbformat_minor": 0,
  "metadata": {
    "colab": {
      "name": "HW_4_2.ipynb",
      "provenance": [],
      "collapsed_sections": []
    },
    "kernelspec": {
      "name": "python3",
      "display_name": "Python 3"
    },
    "accelerator": "GPU"
  },
  "cells": [
    {
      "cell_type": "markdown",
      "metadata": {
        "id": "KSrgMJ5vKFzQ",
        "colab_type": "text"
      },
      "source": [
        "# Fine-tuning VGG16 "
      ]
    },
    {
      "cell_type": "markdown",
      "metadata": {
        "id": "TIW7bZaAK-Hf",
        "colab_type": "text"
      },
      "source": [
        "This is based on section 5.3 *Using a pretrained convnet* of the book *Deep learning with Python* by Francois Chollet. I have made several changes to the code. I use the data that is already provided by Google. I don't download the data from Kaggle as in the deep learning book."
      ]
    },
    {
      "cell_type": "markdown",
      "metadata": {
        "id": "nsBq__dVo2pj",
        "colab_type": "text"
      },
      "source": [
        "## Feature extraction"
      ]
    },
    {
      "cell_type": "markdown",
      "metadata": {
        "id": "0g6ETAM9o54M",
        "colab_type": "text"
      },
      "source": [
        "Feature extraction consists of using the representations learned by a previous network to extract interesting features from new samples. These features are then run through a new classifier, which is trained from scratch.\n",
        "\n",
        "We will use here the convolutional base of the VGG16 model to extract the features. We will feed these features to a densely connected classifier with dropout. We will fine-tune some layers."
      ]
    },
    {
      "cell_type": "markdown",
      "metadata": {
        "id": "BqIG8QHMLNOn",
        "colab_type": "text"
      },
      "source": [
        "## Download the data"
      ]
    },
    {
      "cell_type": "markdown",
      "metadata": {
        "id": "t3I1jd7cKV6_",
        "colab_type": "text"
      },
      "source": [
        "Download the example data, a zip. of 2,000 JPG pictures of cats and dogs and extract it locally in ```/tmp```.\n",
        "\n"
      ]
    },
    {
      "cell_type": "code",
      "metadata": {
        "id": "JWjprHEXJ5Qi",
        "colab_type": "code",
        "outputId": "e8453bb2-bf59-4397-fea2-96f0428c06b5",
        "colab": {
          "base_uri": "https://localhost:8080/",
          "height": 208
        }
      },
      "source": [
        "!wget --no-check-certificate \\\n",
        "    https://storage.googleapis.com/mledu-datasets/cats_and_dogs_filtered.zip \\\n",
        "    -O /tmp/cats_and_dogs_filtered.zip"
      ],
      "execution_count": 0,
      "outputs": [
        {
          "output_type": "stream",
          "text": [
            "--2020-04-21 01:45:10--  https://storage.googleapis.com/mledu-datasets/cats_and_dogs_filtered.zip\n",
            "Resolving storage.googleapis.com (storage.googleapis.com)... 108.177.126.128, 2a00:1450:4013:c00::80\n",
            "Connecting to storage.googleapis.com (storage.googleapis.com)|108.177.126.128|:443... connected.\n",
            "HTTP request sent, awaiting response... 200 OK\n",
            "Length: 68606236 (65M) [application/zip]\n",
            "Saving to: ‘/tmp/cats_and_dogs_filtered.zip’\n",
            "\n",
            "/tmp/cats_and_dogs_ 100%[===================>]  65.43M   162MB/s    in 0.4s    \n",
            "\n",
            "2020-04-21 01:45:10 (162 MB/s) - ‘/tmp/cats_and_dogs_filtered.zip’ saved [68606236/68606236]\n",
            "\n"
          ],
          "name": "stdout"
        }
      ]
    },
    {
      "cell_type": "code",
      "metadata": {
        "id": "WvoHtdA-K6Rw",
        "colab_type": "code",
        "colab": {}
      },
      "source": [
        "import os\n",
        "import zipfile\n",
        "\n",
        "local_zip = '/tmp/cats_and_dogs_filtered.zip'\n",
        "zip_ref = zipfile.ZipFile(local_zip, 'r')\n",
        "zip_ref.extractall('/tmp')\n",
        "zip_ref.close()"
      ],
      "execution_count": 0,
      "outputs": []
    },
    {
      "cell_type": "markdown",
      "metadata": {
        "id": "shZiOBnJMyy_",
        "colab_type": "text"
      },
      "source": [
        "Note that the data provided by Google does not have a test set."
      ]
    },
    {
      "cell_type": "code",
      "metadata": {
        "id": "dL8ikM89LlsH",
        "colab_type": "code",
        "colab": {}
      },
      "source": [
        "base_dir = '/tmp/cats_and_dogs_filtered'\n",
        "train_dir = os.path.join(base_dir, 'train')\n",
        "validation_dir = os.path.join(base_dir, 'validation')\n",
        "\n",
        "# Directory with our training cat pictures\n",
        "train_cats_dir = os.path.join(train_dir, 'cats')\n",
        "\n",
        "# Directory with our training dog pictures\n",
        "train_dogs_dir = os.path.join(train_dir, 'dogs')\n",
        "\n",
        "# Directory with our validation cat pictures\n",
        "validation_cats_dir = os.path.join(validation_dir, 'cats')\n",
        "\n",
        "# Directory with our validation dog pictures\n",
        "validation_dogs_dir = os.path.join(validation_dir, 'dogs')"
      ],
      "execution_count": 0,
      "outputs": []
    },
    {
      "cell_type": "markdown",
      "metadata": {
        "id": "inyP8bcdXnn-",
        "colab_type": "text"
      },
      "source": [
        "## Build network with VGG16 convolution base and custom densely connected layers"
      ]
    },
    {
      "cell_type": "markdown",
      "metadata": {
        "id": "kQ48W5T9rHWu",
        "colab_type": "text"
      },
      "source": [
        "### Load the convolutional base"
      ]
    },
    {
      "cell_type": "code",
      "metadata": {
        "id": "Y0FgtANCXm_H",
        "colab_type": "code",
        "outputId": "1061d7d7-1f5f-40b4-86ec-5cd7b26eac6f",
        "colab": {
          "base_uri": "https://localhost:8080/",
          "height": 69
        }
      },
      "source": [
        "from keras.applications.xception import Xception\n",
        "\n",
        "conv_base = Xception(\n",
        "    weights='imagenet', \n",
        "    include_top=False, \n",
        "    input_shape=(150, 150, 3))"
      ],
      "execution_count": 0,
      "outputs": [
        {
          "output_type": "stream",
          "text": [
            "Using TensorFlow backend.\n"
          ],
          "name": "stderr"
        },
        {
          "output_type": "stream",
          "text": [
            "Downloading data from https://github.com/fchollet/deep-learning-models/releases/download/v0.4/xception_weights_tf_dim_ordering_tf_kernels_notop.h5\n",
            "83689472/83683744 [==============================] - 3s 0us/step\n"
          ],
          "name": "stdout"
        }
      ]
    },
    {
      "cell_type": "markdown",
      "metadata": {
        "id": "D6OBHOO9q1ou",
        "colab_type": "text"
      },
      "source": [
        "### Freeze the convolutional base"
      ]
    },
    {
      "cell_type": "code",
      "metadata": {
        "id": "UleRo4Dpq6Ld",
        "colab_type": "code",
        "colab": {}
      },
      "source": [
        "conv_base.trainable = False"
      ],
      "execution_count": 0,
      "outputs": []
    },
    {
      "cell_type": "markdown",
      "metadata": {
        "id": "Qfx6PqhPrb7Q",
        "colab_type": "text"
      },
      "source": [
        "### Concatenate the convolutional base and densely connected layers"
      ]
    },
    {
      "cell_type": "code",
      "metadata": {
        "id": "qUpmocDAO3xm",
        "colab_type": "code",
        "colab": {}
      },
      "source": [
        "from keras import layers\n",
        "from keras import models\n",
        "from keras import optimizers\n",
        "\n",
        "model = models.Sequential()\n",
        "model.add(conv_base)\n",
        "model.add(layers.Flatten())\n",
        "model.add(layers.Dense(256, activation='relu'))\n",
        "model.add(layers.Dense(128, activation='relu'))\n",
        "#model.add(layers.Dropout(0.1))\n",
        "model.add(layers.Dense(1, activation='sigmoid'))"
      ],
      "execution_count": 0,
      "outputs": []
    },
    {
      "cell_type": "code",
      "metadata": {
        "id": "Fh6gZSeAjF7c",
        "colab_type": "code",
        "outputId": "c527ac29-95e5-4dfe-aa03-82e7ec20e970",
        "colab": {
          "base_uri": "https://localhost:8080/",
          "height": 330
        }
      },
      "source": [
        "model.summary()"
      ],
      "execution_count": 0,
      "outputs": [
        {
          "output_type": "stream",
          "text": [
            "Model: \"sequential_1\"\n",
            "_________________________________________________________________\n",
            "Layer (type)                 Output Shape              Param #   \n",
            "=================================================================\n",
            "xception (Model)             (None, 5, 5, 2048)        20861480  \n",
            "_________________________________________________________________\n",
            "flatten_1 (Flatten)          (None, 51200)             0         \n",
            "_________________________________________________________________\n",
            "dense_1 (Dense)              (None, 256)               13107456  \n",
            "_________________________________________________________________\n",
            "dense_2 (Dense)              (None, 128)               32896     \n",
            "_________________________________________________________________\n",
            "dense_3 (Dense)              (None, 1)                 129       \n",
            "=================================================================\n",
            "Total params: 34,001,961\n",
            "Trainable params: 13,140,481\n",
            "Non-trainable params: 20,861,480\n",
            "_________________________________________________________________\n"
          ],
          "name": "stdout"
        }
      ]
    },
    {
      "cell_type": "markdown",
      "metadata": {
        "id": "eZjBiddhi5Qj",
        "colab_type": "text"
      },
      "source": [
        "## Train the model end to end with frozen convolutional base"
      ]
    },
    {
      "cell_type": "code",
      "metadata": {
        "id": "tfAQlC2Oi41L",
        "colab_type": "code",
        "outputId": "dfa4802d-7021-438a-a714-ca10a4fb6959",
        "colab": {
          "base_uri": "https://localhost:8080/",
          "height": 1000
        }
      },
      "source": [
        "from keras.preprocessing.image import ImageDataGenerator\n",
        "from keras import optimizers\n",
        "\n",
        "# data augmentation\n",
        "\n",
        "train_datagen = ImageDataGenerator(\n",
        "    rescale=1./255, \n",
        "    rotation_range=40,\n",
        "    width_shift_range=0.2,\n",
        "    height_shift_range=0.2,\n",
        "    shear_range=0.2,\n",
        "    zoom_range=0.2,\n",
        "    horizontal_flip=True,\n",
        "    fill_mode='nearest'\n",
        ")\n",
        "\n",
        "train_generator = train_datagen.flow_from_directory(\n",
        "    train_dir,\n",
        "    target_size=(150, 150),\n",
        "    batch_size=20,\n",
        "    class_mode='binary')\n",
        "\n",
        "validation_datagen = ImageDataGenerator(rescale=1./255)\n",
        "\n",
        "validation_generator = validation_datagen.flow_from_directory(\n",
        "    validation_dir,\n",
        "    target_size=(150, 150),\n",
        "    batch_size=20,\n",
        "    class_mode='binary')\n",
        "\n",
        "# compile model\n",
        "\n",
        "model.compile(\n",
        "    loss='binary_crossentropy', \n",
        "    optimizer=optimizers.RMSprop(lr=2e-5), \n",
        "    metrics=['acc'])\n",
        "\n",
        "# train\n",
        "\n",
        "history = model.fit_generator(\n",
        "    train_generator,\n",
        "    steps_per_epoch=100,\n",
        "    epochs=30,\n",
        "    validation_data=validation_generator,\n",
        "    validation_steps=50\n",
        ")"
      ],
      "execution_count": 0,
      "outputs": [
        {
          "output_type": "stream",
          "text": [
            "Found 2000 images belonging to 2 classes.\n",
            "Found 1000 images belonging to 2 classes.\n",
            "Epoch 1/30\n",
            "100/100 [==============================] - 26s 258ms/step - loss: 0.4506 - acc: 0.7695 - val_loss: 0.0693 - val_acc: 0.9310\n",
            "Epoch 2/30\n",
            "100/100 [==============================] - 17s 169ms/step - loss: 0.3756 - acc: 0.8265 - val_loss: 0.2580 - val_acc: 0.9520\n",
            "Epoch 3/30\n",
            "100/100 [==============================] - 17s 170ms/step - loss: 0.3516 - acc: 0.8345 - val_loss: 0.0035 - val_acc: 0.9610\n",
            "Epoch 4/30\n",
            "100/100 [==============================] - 17s 168ms/step - loss: 0.3363 - acc: 0.8520 - val_loss: 0.4042 - val_acc: 0.9650\n",
            "Epoch 5/30\n",
            "100/100 [==============================] - 17s 168ms/step - loss: 0.3222 - acc: 0.8520 - val_loss: 0.0090 - val_acc: 0.9650\n",
            "Epoch 6/30\n",
            "100/100 [==============================] - 17s 167ms/step - loss: 0.3254 - acc: 0.8600 - val_loss: 0.6197 - val_acc: 0.9650\n",
            "Epoch 7/30\n",
            "100/100 [==============================] - 17s 167ms/step - loss: 0.3424 - acc: 0.8460 - val_loss: 7.2152e-04 - val_acc: 0.9550\n",
            "Epoch 8/30\n",
            "100/100 [==============================] - 17s 166ms/step - loss: 0.3110 - acc: 0.8660 - val_loss: 1.3859 - val_acc: 0.9650\n",
            "Epoch 9/30\n",
            "100/100 [==============================] - 17s 167ms/step - loss: 0.3192 - acc: 0.8555 - val_loss: 3.7927e-04 - val_acc: 0.9650\n",
            "Epoch 10/30\n",
            "100/100 [==============================] - 17s 168ms/step - loss: 0.2945 - acc: 0.8750 - val_loss: 0.4197 - val_acc: 0.9640\n",
            "Epoch 11/30\n",
            "100/100 [==============================] - 17s 166ms/step - loss: 0.3245 - acc: 0.8540 - val_loss: 0.2383 - val_acc: 0.9660\n",
            "Epoch 12/30\n",
            "100/100 [==============================] - 17s 167ms/step - loss: 0.2849 - acc: 0.8705 - val_loss: 0.0197 - val_acc: 0.9690\n",
            "Epoch 13/30\n",
            "100/100 [==============================] - 17s 169ms/step - loss: 0.2854 - acc: 0.8760 - val_loss: 0.0035 - val_acc: 0.9620\n",
            "Epoch 14/30\n",
            "100/100 [==============================] - 17s 167ms/step - loss: 0.2760 - acc: 0.8780 - val_loss: 0.5446 - val_acc: 0.9610\n",
            "Epoch 15/30\n",
            "100/100 [==============================] - 17s 167ms/step - loss: 0.2845 - acc: 0.8740 - val_loss: 0.4328 - val_acc: 0.9670\n",
            "Epoch 16/30\n",
            "100/100 [==============================] - 17s 167ms/step - loss: 0.2678 - acc: 0.8845 - val_loss: 0.6649 - val_acc: 0.9530\n",
            "Epoch 17/30\n",
            "100/100 [==============================] - 17s 166ms/step - loss: 0.2973 - acc: 0.8720 - val_loss: 5.9964e-05 - val_acc: 0.9670\n",
            "Epoch 18/30\n",
            "100/100 [==============================] - 17s 166ms/step - loss: 0.2871 - acc: 0.8815 - val_loss: 0.5020 - val_acc: 0.9640\n",
            "Epoch 19/30\n",
            "100/100 [==============================] - 17s 168ms/step - loss: 0.2586 - acc: 0.8820 - val_loss: 0.4259 - val_acc: 0.9660\n",
            "Epoch 20/30\n",
            "100/100 [==============================] - 17s 168ms/step - loss: 0.2854 - acc: 0.8765 - val_loss: 0.1416 - val_acc: 0.9700\n",
            "Epoch 21/30\n",
            "100/100 [==============================] - 17s 168ms/step - loss: 0.2873 - acc: 0.8730 - val_loss: 0.3085 - val_acc: 0.9670\n",
            "Epoch 22/30\n",
            "100/100 [==============================] - 17s 169ms/step - loss: 0.2837 - acc: 0.8775 - val_loss: 0.1056 - val_acc: 0.9660\n",
            "Epoch 23/30\n",
            "100/100 [==============================] - 17s 167ms/step - loss: 0.2759 - acc: 0.8785 - val_loss: 0.1390 - val_acc: 0.9680\n",
            "Epoch 24/30\n",
            "100/100 [==============================] - 17s 167ms/step - loss: 0.2806 - acc: 0.8745 - val_loss: 0.0441 - val_acc: 0.9670\n",
            "Epoch 25/30\n",
            "100/100 [==============================] - 17s 168ms/step - loss: 0.2632 - acc: 0.8850 - val_loss: 0.1592 - val_acc: 0.9720\n",
            "Epoch 26/30\n",
            "100/100 [==============================] - 17s 166ms/step - loss: 0.2625 - acc: 0.8910 - val_loss: 1.3438e-04 - val_acc: 0.9670\n",
            "Epoch 27/30\n",
            "100/100 [==============================] - 17s 167ms/step - loss: 0.2761 - acc: 0.8805 - val_loss: 0.0852 - val_acc: 0.9660\n",
            "Epoch 28/30\n",
            "100/100 [==============================] - 17s 167ms/step - loss: 0.2818 - acc: 0.8800 - val_loss: 0.2842 - val_acc: 0.9690\n",
            "Epoch 29/30\n",
            "100/100 [==============================] - 17s 167ms/step - loss: 0.2750 - acc: 0.8810 - val_loss: 0.0036 - val_acc: 0.9700\n",
            "Epoch 30/30\n",
            "100/100 [==============================] - 17s 167ms/step - loss: 0.2884 - acc: 0.8775 - val_loss: 0.0131 - val_acc: 0.9600\n"
          ],
          "name": "stdout"
        }
      ]
    },
    {
      "cell_type": "markdown",
      "metadata": {
        "id": "xqRc_vHKc92U",
        "colab_type": "text"
      },
      "source": [
        "## Display curves of loss and accuracy during training"
      ]
    },
    {
      "cell_type": "code",
      "metadata": {
        "id": "ybWwdzz9bwuQ",
        "colab_type": "code",
        "outputId": "d69de113-edbb-48ed-ebb8-181adb830768",
        "colab": {
          "base_uri": "https://localhost:8080/",
          "height": 545
        }
      },
      "source": [
        "%matplotlib inline\n",
        "\n",
        "import matplotlib.pyplot as plt\n",
        "\n",
        "acc = history.history['acc']\n",
        "val_acc = history.history['val_acc']\n",
        "\n",
        "loss = history.history['loss']\n",
        "val_loss = history.history['val_loss']\n",
        "\n",
        "epochs = range(1, len(acc) + 1)\n",
        "\n",
        "# training and validation accuracy\n",
        "\n",
        "plt.plot(epochs, acc, 'bo', label='training acc')\n",
        "plt.plot(epochs, val_acc, 'b', label='validation acc')\n",
        "plt.title('training and validation accuracy')\n",
        "plt.legend()\n",
        "\n",
        "plt.figure()\n",
        "\n",
        "# training and validation loss\n",
        "\n",
        "plt.plot(epochs, loss, 'bo', label='training loss')\n",
        "plt.plot(epochs, val_loss, 'b', label='validation loss')\n",
        "plt.title('training and validation loss')\n",
        "plt.legend()\n",
        "\n",
        "plt.show()"
      ],
      "execution_count": 0,
      "outputs": [
        {
          "output_type": "display_data",
          "data": {
            "image/png": "[encoded data removed]",
            "text/plain": [
              "<Figure size 432x288 with 1 Axes>"
            ]
          },
          "metadata": {
            "tags": [],
            "needs_background": "light"
          }
        },
        {
          "output_type": "display_data",
          "data": {
            "image/png": "[encoded data removed]",
            "text/plain": [
              "<Figure size 432x288 with 1 Axes>"
            ]
          },
          "metadata": {
            "tags": [],
            "needs_background": "light"
          }
        }
      ]
    },
    {
      "cell_type": "markdown",
      "metadata": {
        "id": "lOWsxpey8lN0",
        "colab_type": "text"
      },
      "source": [
        "## Fine-tuning"
      ]
    },
    {
      "cell_type": "code",
      "metadata": {
        "id": "PwkVMx8N8qMw",
        "colab_type": "code",
        "colab": {}
      },
      "source": [
        "conv_base.trainable = True\n",
        "\n",
        "set_trainable = False\n",
        "for layer in conv_base.layers:\n",
        "  if layer.name[:7] == 'block12' or layer.name == 'add_131':\n",
        "    set_trainable = True\n",
        "  else:\n",
        "    set_trainable = False\n",
        "  if set_trainable:\n",
        "    layer.trainable = True\n",
        "  else:\n",
        "    layer.trainable = False"
      ],
      "execution_count": 0,
      "outputs": []
    },
    {
      "cell_type": "code",
      "metadata": {
        "id": "DyN-J7rs9cvo",
        "colab_type": "code",
        "outputId": "c2272966-6240-4caf-b4e4-714ea423e946",
        "colab": {
          "base_uri": "https://localhost:8080/",
          "height": 1000
        }
      },
      "source": [
        "# compile model\n",
        "\n",
        "model.compile(\n",
        "    loss='binary_crossentropy',\n",
        "    #\n",
        "    # choose a smaller learning rate\n",
        "    #\n",
        "    optimizer=optimizers.RMSprop(lr=1e-5), \n",
        "    metrics=['acc'])\n",
        "\n",
        "# train\n",
        "\n",
        "history = model.fit_generator(\n",
        "    train_generator,\n",
        "    steps_per_epoch=100,\n",
        "    epochs=100,\n",
        "    validation_data=validation_generator,\n",
        "    validation_steps=50)"
      ],
      "execution_count": 0,
      "outputs": [
        {
          "output_type": "stream",
          "text": [
            "Epoch 1/100\n",
            "100/100 [==============================] - 21s 211ms/step - loss: 0.2381 - acc: 0.8945 - val_loss: 0.1101 - val_acc: 0.9390\n",
            "Epoch 2/100\n",
            "100/100 [==============================] - 17s 173ms/step - loss: 0.2398 - acc: 0.8990 - val_loss: 0.2105 - val_acc: 0.9410\n",
            "Epoch 3/100\n",
            "100/100 [==============================] - 17s 173ms/step - loss: 0.2445 - acc: 0.8965 - val_loss: 0.0351 - val_acc: 0.9210\n",
            "Epoch 4/100\n",
            "100/100 [==============================] - 17s 175ms/step - loss: 0.2328 - acc: 0.9045 - val_loss: 0.1862 - val_acc: 0.9360\n",
            "Epoch 5/100\n",
            "100/100 [==============================] - 17s 173ms/step - loss: 0.2200 - acc: 0.9075 - val_loss: 0.0751 - val_acc: 0.9310\n",
            "Epoch 6/100\n",
            "100/100 [==============================] - 17s 173ms/step - loss: 0.2344 - acc: 0.8995 - val_loss: 0.1204 - val_acc: 0.9360\n",
            "Epoch 7/100\n",
            "100/100 [==============================] - 17s 173ms/step - loss: 0.2172 - acc: 0.9130 - val_loss: 0.1646 - val_acc: 0.9350\n",
            "Epoch 8/100\n",
            "100/100 [==============================] - 17s 173ms/step - loss: 0.2329 - acc: 0.9040 - val_loss: 0.3507 - val_acc: 0.9390\n",
            "Epoch 9/100\n",
            "100/100 [==============================] - 17s 175ms/step - loss: 0.2246 - acc: 0.9055 - val_loss: 0.1774 - val_acc: 0.9390\n",
            "Epoch 10/100\n",
            "100/100 [==============================] - 17s 174ms/step - loss: 0.2251 - acc: 0.9080 - val_loss: 0.1362 - val_acc: 0.9340\n",
            "Epoch 11/100\n",
            "100/100 [==============================] - 17s 173ms/step - loss: 0.2069 - acc: 0.9165 - val_loss: 0.3542 - val_acc: 0.9200\n",
            "Epoch 12/100\n",
            "100/100 [==============================] - 17s 173ms/step - loss: 0.2119 - acc: 0.9110 - val_loss: 0.1759 - val_acc: 0.9210\n",
            "Epoch 13/100\n",
            "100/100 [==============================] - 17s 174ms/step - loss: 0.2239 - acc: 0.9115 - val_loss: 0.0195 - val_acc: 0.9370\n",
            "Epoch 14/100\n",
            "100/100 [==============================] - 17s 173ms/step - loss: 0.2220 - acc: 0.9120 - val_loss: 0.0657 - val_acc: 0.9310\n",
            "Epoch 15/100\n",
            "100/100 [==============================] - 17s 173ms/step - loss: 0.2249 - acc: 0.9020 - val_loss: 0.0382 - val_acc: 0.9360\n",
            "Epoch 16/100\n",
            "100/100 [==============================] - 17s 172ms/step - loss: 0.2019 - acc: 0.9155 - val_loss: 0.0834 - val_acc: 0.9350\n",
            "Epoch 17/100\n",
            "100/100 [==============================] - 17s 173ms/step - loss: 0.1981 - acc: 0.9160 - val_loss: 0.0707 - val_acc: 0.9290\n",
            "Epoch 18/100\n",
            "100/100 [==============================] - 17s 173ms/step - loss: 0.2233 - acc: 0.9105 - val_loss: 0.0756 - val_acc: 0.9350\n",
            "Epoch 19/100\n",
            "100/100 [==============================] - 17s 173ms/step - loss: 0.1821 - acc: 0.9185 - val_loss: 0.2580 - val_acc: 0.9410\n",
            "Epoch 20/100\n",
            "100/100 [==============================] - 17s 173ms/step - loss: 0.1938 - acc: 0.9155 - val_loss: 0.1276 - val_acc: 0.9040\n",
            "Epoch 21/100\n",
            "100/100 [==============================] - 17s 173ms/step - loss: 0.1961 - acc: 0.9195 - val_loss: 0.0515 - val_acc: 0.9390\n",
            "Epoch 22/100\n",
            "100/100 [==============================] - 17s 173ms/step - loss: 0.1791 - acc: 0.9225 - val_loss: 0.0429 - val_acc: 0.9410\n",
            "Epoch 23/100\n",
            "100/100 [==============================] - 17s 173ms/step - loss: 0.2139 - acc: 0.9215 - val_loss: 0.1714 - val_acc: 0.9340\n",
            "Epoch 24/100\n",
            "100/100 [==============================] - 17s 172ms/step - loss: 0.1925 - acc: 0.9160 - val_loss: 0.0127 - val_acc: 0.9340\n",
            "Epoch 25/100\n",
            "100/100 [==============================] - 17s 173ms/step - loss: 0.1938 - acc: 0.9210 - val_loss: 0.2686 - val_acc: 0.9310\n",
            "Epoch 26/100\n",
            "100/100 [==============================] - 17s 172ms/step - loss: 0.1835 - acc: 0.9275 - val_loss: 0.2167 - val_acc: 0.9300\n",
            "Epoch 27/100\n",
            "100/100 [==============================] - 17s 175ms/step - loss: 0.1839 - acc: 0.9265 - val_loss: 0.1947 - val_acc: 0.9370\n",
            "Epoch 28/100\n",
            "100/100 [==============================] - 17s 173ms/step - loss: 0.1921 - acc: 0.9260 - val_loss: 0.2249 - val_acc: 0.9290\n",
            "Epoch 29/100\n",
            "100/100 [==============================] - 17s 173ms/step - loss: 0.1831 - acc: 0.9265 - val_loss: 0.1199 - val_acc: 0.9420\n",
            "Epoch 30/100\n",
            "100/100 [==============================] - 17s 173ms/step - loss: 0.1746 - acc: 0.9340 - val_loss: 0.1712 - val_acc: 0.9440\n",
            "Epoch 31/100\n",
            "100/100 [==============================] - 17s 174ms/step - loss: 0.1837 - acc: 0.9215 - val_loss: 0.1475 - val_acc: 0.9290\n",
            "Epoch 32/100\n",
            "100/100 [==============================] - 17s 175ms/step - loss: 0.2006 - acc: 0.9035 - val_loss: 0.0240 - val_acc: 0.9210\n",
            "Epoch 33/100\n",
            "100/100 [==============================] - 17s 173ms/step - loss: 0.1586 - acc: 0.9305 - val_loss: 0.3409 - val_acc: 0.9330\n",
            "Epoch 34/100\n",
            "100/100 [==============================] - 17s 173ms/step - loss: 0.1728 - acc: 0.9295 - val_loss: 0.2294 - val_acc: 0.9370\n",
            "Epoch 35/100\n",
            "100/100 [==============================] - 17s 174ms/step - loss: 0.1706 - acc: 0.9275 - val_loss: 0.2527 - val_acc: 0.9260\n",
            "Epoch 36/100\n",
            "100/100 [==============================] - 17s 175ms/step - loss: 0.1880 - acc: 0.9260 - val_loss: 0.1893 - val_acc: 0.9300\n",
            "Epoch 37/100\n",
            "100/100 [==============================] - 17s 173ms/step - loss: 0.1709 - acc: 0.9300 - val_loss: 0.0428 - val_acc: 0.9280\n",
            "Epoch 38/100\n",
            "100/100 [==============================] - 17s 173ms/step - loss: 0.1670 - acc: 0.9315 - val_loss: 0.1074 - val_acc: 0.9220\n",
            "Epoch 39/100\n",
            "100/100 [==============================] - 17s 174ms/step - loss: 0.1779 - acc: 0.9360 - val_loss: 0.0074 - val_acc: 0.9400\n",
            "Epoch 40/100\n",
            "100/100 [==============================] - 17s 173ms/step - loss: 0.1716 - acc: 0.9345 - val_loss: 0.2281 - val_acc: 0.9390\n",
            "Epoch 41/100\n",
            "100/100 [==============================] - 17s 174ms/step - loss: 0.1768 - acc: 0.9320 - val_loss: 0.1875 - val_acc: 0.9270\n",
            "Epoch 42/100\n",
            "100/100 [==============================] - 17s 173ms/step - loss: 0.1659 - acc: 0.9335 - val_loss: 0.1683 - val_acc: 0.9330\n",
            "Epoch 43/100\n",
            "100/100 [==============================] - 17s 173ms/step - loss: 0.1596 - acc: 0.9345 - val_loss: 0.2121 - val_acc: 0.9460\n",
            "Epoch 44/100\n",
            "100/100 [==============================] - 17s 173ms/step - loss: 0.1675 - acc: 0.9290 - val_loss: 0.3673 - val_acc: 0.9310\n",
            "Epoch 45/100\n",
            "100/100 [==============================] - 17s 174ms/step - loss: 0.1649 - acc: 0.9365 - val_loss: 0.0070 - val_acc: 0.9440\n",
            "Epoch 46/100\n",
            "100/100 [==============================] - 17s 174ms/step - loss: 0.1627 - acc: 0.9355 - val_loss: 0.1509 - val_acc: 0.9400\n",
            "Epoch 47/100\n",
            "100/100 [==============================] - 17s 172ms/step - loss: 0.1631 - acc: 0.9385 - val_loss: 0.0145 - val_acc: 0.9350\n",
            "Epoch 48/100\n",
            "100/100 [==============================] - 17s 173ms/step - loss: 0.1494 - acc: 0.9405 - val_loss: 0.3315 - val_acc: 0.9390\n",
            "Epoch 49/100\n",
            "100/100 [==============================] - 17s 172ms/step - loss: 0.1505 - acc: 0.9365 - val_loss: 0.2929 - val_acc: 0.9310\n",
            "Epoch 50/100\n",
            "100/100 [==============================] - 17s 174ms/step - loss: 0.1307 - acc: 0.9425 - val_loss: 0.1958 - val_acc: 0.9420\n",
            "Epoch 51/100\n",
            "100/100 [==============================] - 17s 173ms/step - loss: 0.1705 - acc: 0.9330 - val_loss: 0.0400 - val_acc: 0.9430\n",
            "Epoch 52/100\n",
            "100/100 [==============================] - 17s 173ms/step - loss: 0.1596 - acc: 0.9430 - val_loss: 0.0321 - val_acc: 0.9440\n",
            "Epoch 53/100\n",
            "100/100 [==============================] - 17s 172ms/step - loss: 0.1494 - acc: 0.9455 - val_loss: 0.0784 - val_acc: 0.9360\n",
            "Epoch 54/100\n",
            "100/100 [==============================] - 17s 174ms/step - loss: 0.1623 - acc: 0.9380 - val_loss: 0.1943 - val_acc: 0.9410\n",
            "Epoch 55/100\n",
            "100/100 [==============================] - 17s 174ms/step - loss: 0.1454 - acc: 0.9440 - val_loss: 0.3597 - val_acc: 0.9350\n",
            "Epoch 56/100\n",
            "100/100 [==============================] - 17s 173ms/step - loss: 0.1485 - acc: 0.9465 - val_loss: 0.0975 - val_acc: 0.9260\n",
            "Epoch 57/100\n",
            "100/100 [==============================] - 17s 172ms/step - loss: 0.1321 - acc: 0.9530 - val_loss: 0.1279 - val_acc: 0.9440\n",
            "Epoch 58/100\n",
            "100/100 [==============================] - 17s 173ms/step - loss: 0.1312 - acc: 0.9445 - val_loss: 0.2772 - val_acc: 0.9430\n",
            "Epoch 59/100\n",
            "100/100 [==============================] - 17s 173ms/step - loss: 0.1358 - acc: 0.9430 - val_loss: 0.1749 - val_acc: 0.9440\n",
            "Epoch 60/100\n",
            "100/100 [==============================] - 17s 174ms/step - loss: 0.1229 - acc: 0.9540 - val_loss: 0.0336 - val_acc: 0.9450\n",
            "Epoch 61/100\n",
            "100/100 [==============================] - 17s 173ms/step - loss: 0.1621 - acc: 0.9440 - val_loss: 0.1839 - val_acc: 0.9430\n",
            "Epoch 62/100\n",
            "100/100 [==============================] - 17s 173ms/step - loss: 0.1455 - acc: 0.9430 - val_loss: 0.0450 - val_acc: 0.9430\n",
            "Epoch 63/100\n",
            "100/100 [==============================] - 18s 176ms/step - loss: 0.1338 - acc: 0.9485 - val_loss: 1.0218 - val_acc: 0.9410\n",
            "Epoch 64/100\n",
            "100/100 [==============================] - 17s 174ms/step - loss: 0.1333 - acc: 0.9470 - val_loss: 0.1492 - val_acc: 0.9380\n",
            "Epoch 65/100\n",
            "100/100 [==============================] - 17s 173ms/step - loss: 0.1442 - acc: 0.9485 - val_loss: 0.0758 - val_acc: 0.9460\n",
            "Epoch 66/100\n",
            "100/100 [==============================] - 17s 173ms/step - loss: 0.1550 - acc: 0.9370 - val_loss: 0.1246 - val_acc: 0.9470\n",
            "Epoch 67/100\n",
            "100/100 [==============================] - 17s 173ms/step - loss: 0.1326 - acc: 0.9430 - val_loss: 0.0953 - val_acc: 0.9430\n",
            "Epoch 68/100\n",
            "100/100 [==============================] - 17s 174ms/step - loss: 0.1341 - acc: 0.9475 - val_loss: 0.3108 - val_acc: 0.9320\n",
            "Epoch 69/100\n",
            "100/100 [==============================] - 17s 175ms/step - loss: 0.1226 - acc: 0.9550 - val_loss: 0.3534 - val_acc: 0.9430\n",
            "Epoch 70/100\n",
            "100/100 [==============================] - 17s 173ms/step - loss: 0.1350 - acc: 0.9480 - val_loss: 0.0556 - val_acc: 0.9470\n",
            "Epoch 71/100\n",
            "100/100 [==============================] - 17s 173ms/step - loss: 0.1278 - acc: 0.9485 - val_loss: 0.0851 - val_acc: 0.9370\n",
            "Epoch 72/100\n",
            "100/100 [==============================] - 17s 174ms/step - loss: 0.1334 - acc: 0.9470 - val_loss: 0.0247 - val_acc: 0.9490\n",
            "Epoch 73/100\n",
            "100/100 [==============================] - 17s 174ms/step - loss: 0.1482 - acc: 0.9460 - val_loss: 0.5312 - val_acc: 0.9360\n",
            "Epoch 74/100\n",
            "100/100 [==============================] - 17s 173ms/step - loss: 0.1320 - acc: 0.9450 - val_loss: 0.0078 - val_acc: 0.9410\n",
            "Epoch 75/100\n",
            "100/100 [==============================] - 17s 173ms/step - loss: 0.1302 - acc: 0.9515 - val_loss: 0.0473 - val_acc: 0.9350\n",
            "Epoch 76/100\n",
            "100/100 [==============================] - 17s 173ms/step - loss: 0.1206 - acc: 0.9540 - val_loss: 0.2402 - val_acc: 0.9400\n",
            "Epoch 77/100\n",
            "100/100 [==============================] - 17s 173ms/step - loss: 0.1231 - acc: 0.9465 - val_loss: 0.3645 - val_acc: 0.9260\n",
            "Epoch 78/100\n",
            "100/100 [==============================] - 17s 173ms/step - loss: 0.1238 - acc: 0.9555 - val_loss: 0.8112 - val_acc: 0.9490\n",
            "Epoch 79/100\n",
            "100/100 [==============================] - 17s 173ms/step - loss: 0.1394 - acc: 0.9425 - val_loss: 0.0620 - val_acc: 0.9420\n",
            "Epoch 80/100\n",
            "100/100 [==============================] - 17s 172ms/step - loss: 0.1113 - acc: 0.9560 - val_loss: 0.2834 - val_acc: 0.9390\n",
            "Epoch 81/100\n",
            "100/100 [==============================] - 18s 176ms/step - loss: 0.1355 - acc: 0.9500 - val_loss: 0.1547 - val_acc: 0.9430\n",
            "Epoch 82/100\n",
            "100/100 [==============================] - 17s 174ms/step - loss: 0.1284 - acc: 0.9480 - val_loss: 0.4354 - val_acc: 0.9400\n",
            "Epoch 83/100\n",
            "100/100 [==============================] - 18s 175ms/step - loss: 0.1189 - acc: 0.9515 - val_loss: 0.0841 - val_acc: 0.9420\n",
            "Epoch 84/100\n",
            "100/100 [==============================] - 17s 173ms/step - loss: 0.1213 - acc: 0.9555 - val_loss: 0.1052 - val_acc: 0.9350\n",
            "Epoch 85/100\n",
            "100/100 [==============================] - 17s 173ms/step - loss: 0.1302 - acc: 0.9450 - val_loss: 0.8817 - val_acc: 0.9350\n",
            "Epoch 86/100\n",
            "100/100 [==============================] - 17s 174ms/step - loss: 0.1056 - acc: 0.9610 - val_loss: 0.2344 - val_acc: 0.9380\n",
            "Epoch 87/100\n",
            "100/100 [==============================] - 17s 175ms/step - loss: 0.1147 - acc: 0.9555 - val_loss: 0.1680 - val_acc: 0.9520\n",
            "Epoch 88/100\n",
            "100/100 [==============================] - 17s 174ms/step - loss: 0.1351 - acc: 0.9565 - val_loss: 0.0079 - val_acc: 0.9510\n",
            "Epoch 89/100\n",
            "100/100 [==============================] - 18s 175ms/step - loss: 0.1130 - acc: 0.9555 - val_loss: 0.4219 - val_acc: 0.9380\n",
            "Epoch 90/100\n",
            "100/100 [==============================] - 17s 174ms/step - loss: 0.1063 - acc: 0.9530 - val_loss: 0.0258 - val_acc: 0.9410\n",
            "Epoch 91/100\n",
            "100/100 [==============================] - 17s 174ms/step - loss: 0.1227 - acc: 0.9520 - val_loss: 0.3472 - val_acc: 0.9410\n",
            "Epoch 92/100\n",
            "100/100 [==============================] - 18s 175ms/step - loss: 0.1321 - acc: 0.9540 - val_loss: 0.0692 - val_acc: 0.9310\n",
            "Epoch 93/100\n",
            "100/100 [==============================] - 17s 173ms/step - loss: 0.1477 - acc: 0.9530 - val_loss: 0.0198 - val_acc: 0.9450\n",
            "Epoch 94/100\n",
            "100/100 [==============================] - 17s 173ms/step - loss: 0.1098 - acc: 0.9575 - val_loss: 0.0254 - val_acc: 0.9410\n",
            "Epoch 95/100\n",
            "100/100 [==============================] - 17s 174ms/step - loss: 0.1043 - acc: 0.9630 - val_loss: 0.0525 - val_acc: 0.9400\n",
            "Epoch 96/100\n",
            "100/100 [==============================] - 17s 174ms/step - loss: 0.0988 - acc: 0.9695 - val_loss: 0.6722 - val_acc: 0.9380\n",
            "Epoch 97/100\n",
            "100/100 [==============================] - 17s 174ms/step - loss: 0.1207 - acc: 0.9470 - val_loss: 0.0149 - val_acc: 0.9470\n",
            "Epoch 98/100\n",
            "100/100 [==============================] - 17s 173ms/step - loss: 0.1033 - acc: 0.9630 - val_loss: 0.2016 - val_acc: 0.9510\n",
            "Epoch 99/100\n",
            "100/100 [==============================] - 18s 176ms/step - loss: 0.1152 - acc: 0.9575 - val_loss: 0.0632 - val_acc: 0.9480\n",
            "Epoch 100/100\n",
            "100/100 [==============================] - 17s 174ms/step - loss: 0.1309 - acc: 0.9555 - val_loss: 0.2978 - val_acc: 0.9510\n"
          ],
          "name": "stdout"
        }
      ]
    },
    {
      "cell_type": "markdown",
      "metadata": {
        "id": "eVBQgh5M-Rtz",
        "colab_type": "text"
      },
      "source": [
        "## Display learning curves during fine-tuning"
      ]
    },
    {
      "cell_type": "code",
      "metadata": {
        "id": "mbkIw7Ie-NP4",
        "colab_type": "code",
        "outputId": "73eba3fd-146a-4537-b8cf-5c4a4dcc2c24",
        "colab": {
          "base_uri": "https://localhost:8080/",
          "height": 545
        }
      },
      "source": [
        "%matplotlib inline\n",
        "\n",
        "import matplotlib.pyplot as plt\n",
        "\n",
        "acc = history.history['acc']\n",
        "val_acc = history.history['val_acc']\n",
        "\n",
        "loss = history.history['loss']\n",
        "val_loss = history.history['val_loss']\n",
        "\n",
        "epochs = range(1, len(acc) + 1)\n",
        "\n",
        "# training and validation accuracy\n",
        "\n",
        "plt.plot(epochs, acc, 'bo', label='training acc')\n",
        "plt.plot(epochs, val_acc, 'b', label='validation acc')\n",
        "plt.title('training and validation accuracy')\n",
        "plt.legend()\n",
        "\n",
        "plt.figure()\n",
        "\n",
        "# training and validation loss\n",
        "\n",
        "plt.plot(epochs, loss, 'bo', label='training loss')\n",
        "plt.plot(epochs, val_loss, 'b', label='validation loss')\n",
        "plt.title('training and validation loss')\n",
        "plt.legend()\n",
        "\n",
        "plt.show()"
      ],
      "execution_count": 0,
      "outputs": [
        {
          "output_type": "display_data",
          "data": {
            "image/png": "[encoded data removed]",
            "text/plain": [
              "<Figure size 432x288 with 1 Axes>"
            ]
          },
          "metadata": {
            "tags": [],
            "needs_background": "light"
          }
        },
        {
          "output_type": "display_data",
          "data": {
            "image/png": "[encoded data removed]",
            "text/plain": [
              "<Figure size 432x288 with 1 Axes>"
            ]
          },
          "metadata": {
            "tags": [],
            "needs_background": "light"
          }
        }
      ]
    },
    {
      "cell_type": "markdown",
      "metadata": {
        "id": "obQi6N4ZShdi",
        "colab_type": "text"
      },
      "source": [
        "This looks like overfitting. I should try  adding dropout for the densely connected layer."
      ]
    },
    {
      "cell_type": "markdown",
      "metadata": {
        "id": "he3Nw6TOJwjx",
        "colab_type": "text"
      },
      "source": [
        "## Print out validation loss and accuracy"
      ]
    },
    {
      "cell_type": "code",
      "metadata": {
        "id": "SVQtrk7uJdhl",
        "colab_type": "code",
        "colab": {}
      },
      "source": [
        "val_loss, val_acc = model.evaluate_generator(validation_generator, steps=50)"
      ],
      "execution_count": 0,
      "outputs": []
    },
    {
      "cell_type": "code",
      "metadata": {
        "id": "HpdddLi1SUMe",
        "colab_type": "code",
        "outputId": "680f2635-b342-4787-b000-6bf6ab688332",
        "colab": {
          "base_uri": "https://localhost:8080/",
          "height": 52
        }
      },
      "source": [
        "print(\"Validation loss:\", val_loss)\n",
        "print(\"Validation accuracy:\", val_acc)"
      ],
      "execution_count": 0,
      "outputs": [
        {
          "output_type": "stream",
          "text": [
            "Validation loss: 0.158817857503891\n",
            "Validation accuracy: 0.9509999752044678\n"
          ],
          "name": "stdout"
        }
      ]
    },
    {
      "cell_type": "markdown",
      "metadata": {
        "id": "7Ww756WToby8",
        "colab_type": "text"
      },
      "source": [
        "## Save the model"
      ]
    },
    {
      "cell_type": "code",
      "metadata": {
        "id": "0lTUpUdwobKW",
        "colab_type": "code",
        "colab": {}
      },
      "source": [
        "model_fname = 'cats_and_dogs_small_4.h5' \n",
        "model.save(model_fname)"
      ],
      "execution_count": 0,
      "outputs": []
    },
    {
      "cell_type": "code",
      "metadata": {
        "id": "YhEoI8ZTok-X",
        "colab_type": "code",
        "colab": {}
      },
      "source": [
        "from google.colab import files\n",
        "\n",
        "with open(model_fname, 'r') as f:\n",
        "  files.download(model_fname)"
      ],
      "execution_count": 0,
      "outputs": []
    },
    {
      "cell_type": "code",
      "metadata": {
        "id": "VNEL4CCcS0Oj",
        "colab_type": "code",
        "colab": {}
      },
      "source": [
        ""
      ],
      "execution_count": 0,
      "outputs": []
    }
  ]
}