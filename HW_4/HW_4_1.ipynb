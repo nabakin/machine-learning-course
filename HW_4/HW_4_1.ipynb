{
  "nbformat": 4,
  "nbformat_minor": 0,
  "metadata": {
    "colab": {
      "name": "HW_4_1.ipynb",
      "provenance": [],
      "collapsed_sections": []
    },
    "kernelspec": {
      "name": "python3",
      "display_name": "Python 3"
    },
    "accelerator": "GPU"
  },
  "cells": [
    {
      "cell_type": "markdown",
      "metadata": {
        "id": "KSrgMJ5vKFzQ",
        "colab_type": "text"
      },
      "source": [
        "# Fine-tuning VGG16 "
      ]
    },
    {
      "cell_type": "markdown",
      "metadata": {
        "id": "TIW7bZaAK-Hf",
        "colab_type": "text"
      },
      "source": [
        "This is based on section 5.3 *Using a pretrained convnet* of the book *Deep learning with Python* by Francois Chollet. I have made several changes to the code. I use the data that is already provided by Google. I don't download the data from Kaggle as in the deep learning book."
      ]
    },
    {
      "cell_type": "markdown",
      "metadata": {
        "id": "nsBq__dVo2pj",
        "colab_type": "text"
      },
      "source": [
        "## Feature extraction"
      ]
    },
    {
      "cell_type": "markdown",
      "metadata": {
        "id": "0g6ETAM9o54M",
        "colab_type": "text"
      },
      "source": [
        "Feature extraction consists of using the representations learned by a previous network to extract interesting features from new samples. These features are then run through a new classifier, which is trained from scratch.\n",
        "\n",
        "We will use here the convolutional base of the VGG16 model to extract the features. We will feed these features to a densely connected classifier with dropout. We will fine-tune some layers."
      ]
    },
    {
      "cell_type": "markdown",
      "metadata": {
        "id": "BqIG8QHMLNOn",
        "colab_type": "text"
      },
      "source": [
        "## Download the data"
      ]
    },
    {
      "cell_type": "markdown",
      "metadata": {
        "id": "t3I1jd7cKV6_",
        "colab_type": "text"
      },
      "source": [
        "Download the example data, a zip. of 2,000 JPG pictures of cats and dogs and extract it locally in ```/tmp```.\n",
        "\n"
      ]
    },
    {
      "cell_type": "code",
      "metadata": {
        "id": "JWjprHEXJ5Qi",
        "colab_type": "code",
        "outputId": "82969a82-a48e-48f8-cdfb-af359d1b5299",
        "colab": {
          "base_uri": "https://localhost:8080/",
          "height": 208
        }
      },
      "source": [
        "!wget --no-check-certificate \\\n",
        "    https://storage.googleapis.com/mledu-datasets/cats_and_dogs_filtered.zip \\\n",
        "    -O /tmp/cats_and_dogs_filtered.zip"
      ],
      "execution_count": 0,
      "outputs": [
        {
          "output_type": "stream",
          "text": [
            "--2020-04-21 00:46:08--  https://storage.googleapis.com/mledu-datasets/cats_and_dogs_filtered.zip\n",
            "Resolving storage.googleapis.com (storage.googleapis.com)... 74.125.68.128, 2404:6800:4003:c03::80\n",
            "Connecting to storage.googleapis.com (storage.googleapis.com)|74.125.68.128|:443... connected.\n",
            "HTTP request sent, awaiting response... 200 OK\n",
            "Length: 68606236 (65M) [application/zip]\n",
            "Saving to: ‘/tmp/cats_and_dogs_filtered.zip’\n",
            "\n",
            "/tmp/cats_and_dogs_ 100%[===================>]  65.43M  48.2MB/s    in 1.4s    \n",
            "\n",
            "2020-04-21 00:46:10 (48.2 MB/s) - ‘/tmp/cats_and_dogs_filtered.zip’ saved [68606236/68606236]\n",
            "\n"
          ],
          "name": "stdout"
        }
      ]
    },
    {
      "cell_type": "code",
      "metadata": {
        "id": "WvoHtdA-K6Rw",
        "colab_type": "code",
        "colab": {}
      },
      "source": [
        "import os\n",
        "import zipfile\n",
        "\n",
        "local_zip = '/tmp/cats_and_dogs_filtered.zip'\n",
        "zip_ref = zipfile.ZipFile(local_zip, 'r')\n",
        "zip_ref.extractall('/tmp')\n",
        "zip_ref.close()"
      ],
      "execution_count": 0,
      "outputs": []
    },
    {
      "cell_type": "markdown",
      "metadata": {
        "id": "shZiOBnJMyy_",
        "colab_type": "text"
      },
      "source": [
        "Note that the data provided by Google does not have a test set."
      ]
    },
    {
      "cell_type": "code",
      "metadata": {
        "id": "dL8ikM89LlsH",
        "colab_type": "code",
        "colab": {}
      },
      "source": [
        "base_dir = '/tmp/cats_and_dogs_filtered'\n",
        "train_dir = os.path.join(base_dir, 'train')\n",
        "validation_dir = os.path.join(base_dir, 'validation')\n",
        "\n",
        "# Directory with our training cat pictures\n",
        "train_cats_dir = os.path.join(train_dir, 'cats')\n",
        "\n",
        "# Directory with our training dog pictures\n",
        "train_dogs_dir = os.path.join(train_dir, 'dogs')\n",
        "\n",
        "# Directory with our validation cat pictures\n",
        "validation_cats_dir = os.path.join(validation_dir, 'cats')\n",
        "\n",
        "# Directory with our validation dog pictures\n",
        "validation_dogs_dir = os.path.join(validation_dir, 'dogs')"
      ],
      "execution_count": 0,
      "outputs": []
    },
    {
      "cell_type": "markdown",
      "metadata": {
        "id": "inyP8bcdXnn-",
        "colab_type": "text"
      },
      "source": [
        "## Build network with VGG16 convolution base and custom densely connected layers"
      ]
    },
    {
      "cell_type": "markdown",
      "metadata": {
        "id": "kQ48W5T9rHWu",
        "colab_type": "text"
      },
      "source": [
        "### Load the convolutional base"
      ]
    },
    {
      "cell_type": "code",
      "metadata": {
        "id": "Y0FgtANCXm_H",
        "colab_type": "code",
        "outputId": "fb9160b7-0943-4503-a4a6-491e013f3c90",
        "colab": {
          "base_uri": "https://localhost:8080/",
          "height": 1000
        }
      },
      "source": [
        "from keras.applications.xception import Xception\n",
        "\n",
        "conv_base = Xception(\n",
        "    weights='imagenet', \n",
        "    include_top=False, \n",
        "    input_shape=(150, 150, 3))"
      ],
      "execution_count": 0,
      "outputs": [
        {
          "output_type": "stream",
          "text": [
            "Model: \"xception\"\n",
            "__________________________________________________________________________________________________\n",
            "Layer (type)                    Output Shape         Param #     Connected to                     \n",
            "==================================================================================================\n",
            "input_12 (InputLayer)           (None, 150, 150, 3)  0                                            \n",
            "__________________________________________________________________________________________________\n",
            "block1_conv1 (Conv2D)           (None, 74, 74, 32)   864         input_12[0][0]                   \n",
            "__________________________________________________________________________________________________\n",
            "block1_conv1_bn (BatchNormaliza (None, 74, 74, 32)   128         block1_conv1[0][0]               \n",
            "__________________________________________________________________________________________________\n",
            "block1_conv1_act (Activation)   (None, 74, 74, 32)   0           block1_conv1_bn[0][0]            \n",
            "__________________________________________________________________________________________________\n",
            "block1_conv2 (Conv2D)           (None, 72, 72, 64)   18432       block1_conv1_act[0][0]           \n",
            "__________________________________________________________________________________________________\n",
            "block1_conv2_bn (BatchNormaliza (None, 72, 72, 64)   256         block1_conv2[0][0]               \n",
            "__________________________________________________________________________________________________\n",
            "block1_conv2_act (Activation)   (None, 72, 72, 64)   0           block1_conv2_bn[0][0]            \n",
            "__________________________________________________________________________________________________\n",
            "block2_sepconv1 (SeparableConv2 (None, 72, 72, 128)  8768        block1_conv2_act[0][0]           \n",
            "__________________________________________________________________________________________________\n",
            "block2_sepconv1_bn (BatchNormal (None, 72, 72, 128)  512         block2_sepconv1[0][0]            \n",
            "__________________________________________________________________________________________________\n",
            "block2_sepconv2_act (Activation (None, 72, 72, 128)  0           block2_sepconv1_bn[0][0]         \n",
            "__________________________________________________________________________________________________\n",
            "block2_sepconv2 (SeparableConv2 (None, 72, 72, 128)  17536       block2_sepconv2_act[0][0]        \n",
            "__________________________________________________________________________________________________\n",
            "block2_sepconv2_bn (BatchNormal (None, 72, 72, 128)  512         block2_sepconv2[0][0]            \n",
            "__________________________________________________________________________________________________\n",
            "conv2d_45 (Conv2D)              (None, 36, 36, 128)  8192        block1_conv2_act[0][0]           \n",
            "__________________________________________________________________________________________________\n",
            "block2_pool (MaxPooling2D)      (None, 36, 36, 128)  0           block2_sepconv2_bn[0][0]         \n",
            "__________________________________________________________________________________________________\n",
            "batch_normalization_45 (BatchNo (None, 36, 36, 128)  512         conv2d_45[0][0]                  \n",
            "__________________________________________________________________________________________________\n",
            "add_133 (Add)                   (None, 36, 36, 128)  0           block2_pool[0][0]                \n",
            "                                                                 batch_normalization_45[0][0]     \n",
            "__________________________________________________________________________________________________\n",
            "block3_sepconv1_act (Activation (None, 36, 36, 128)  0           add_133[0][0]                    \n",
            "__________________________________________________________________________________________________\n",
            "block3_sepconv1 (SeparableConv2 (None, 36, 36, 256)  33920       block3_sepconv1_act[0][0]        \n",
            "__________________________________________________________________________________________________\n",
            "block3_sepconv1_bn (BatchNormal (None, 36, 36, 256)  1024        block3_sepconv1[0][0]            \n",
            "__________________________________________________________________________________________________\n",
            "block3_sepconv2_act (Activation (None, 36, 36, 256)  0           block3_sepconv1_bn[0][0]         \n",
            "__________________________________________________________________________________________________\n",
            "block3_sepconv2 (SeparableConv2 (None, 36, 36, 256)  67840       block3_sepconv2_act[0][0]        \n",
            "__________________________________________________________________________________________________\n",
            "block3_sepconv2_bn (BatchNormal (None, 36, 36, 256)  1024        block3_sepconv2[0][0]            \n",
            "__________________________________________________________________________________________________\n",
            "conv2d_46 (Conv2D)              (None, 18, 18, 256)  32768       add_133[0][0]                    \n",
            "__________________________________________________________________________________________________\n",
            "block3_pool (MaxPooling2D)      (None, 18, 18, 256)  0           block3_sepconv2_bn[0][0]         \n",
            "__________________________________________________________________________________________________\n",
            "batch_normalization_46 (BatchNo (None, 18, 18, 256)  1024        conv2d_46[0][0]                  \n",
            "__________________________________________________________________________________________________\n",
            "add_134 (Add)                   (None, 18, 18, 256)  0           block3_pool[0][0]                \n",
            "                                                                 batch_normalization_46[0][0]     \n",
            "__________________________________________________________________________________________________\n",
            "block4_sepconv1_act (Activation (None, 18, 18, 256)  0           add_134[0][0]                    \n",
            "__________________________________________________________________________________________________\n",
            "block4_sepconv1 (SeparableConv2 (None, 18, 18, 728)  188672      block4_sepconv1_act[0][0]        \n",
            "__________________________________________________________________________________________________\n",
            "block4_sepconv1_bn (BatchNormal (None, 18, 18, 728)  2912        block4_sepconv1[0][0]            \n",
            "__________________________________________________________________________________________________\n",
            "block4_sepconv2_act (Activation (None, 18, 18, 728)  0           block4_sepconv1_bn[0][0]         \n",
            "__________________________________________________________________________________________________\n",
            "block4_sepconv2 (SeparableConv2 (None, 18, 18, 728)  536536      block4_sepconv2_act[0][0]        \n",
            "__________________________________________________________________________________________________\n",
            "block4_sepconv2_bn (BatchNormal (None, 18, 18, 728)  2912        block4_sepconv2[0][0]            \n",
            "__________________________________________________________________________________________________\n",
            "conv2d_47 (Conv2D)              (None, 9, 9, 728)    186368      add_134[0][0]                    \n",
            "__________________________________________________________________________________________________\n",
            "block4_pool (MaxPooling2D)      (None, 9, 9, 728)    0           block4_sepconv2_bn[0][0]         \n",
            "__________________________________________________________________________________________________\n",
            "batch_normalization_47 (BatchNo (None, 9, 9, 728)    2912        conv2d_47[0][0]                  \n",
            "__________________________________________________________________________________________________\n",
            "add_135 (Add)                   (None, 9, 9, 728)    0           block4_pool[0][0]                \n",
            "                                                                 batch_normalization_47[0][0]     \n",
            "__________________________________________________________________________________________________\n",
            "block5_sepconv1_act (Activation (None, 9, 9, 728)    0           add_135[0][0]                    \n",
            "__________________________________________________________________________________________________\n",
            "block5_sepconv1 (SeparableConv2 (None, 9, 9, 728)    536536      block5_sepconv1_act[0][0]        \n",
            "__________________________________________________________________________________________________\n",
            "block5_sepconv1_bn (BatchNormal (None, 9, 9, 728)    2912        block5_sepconv1[0][0]            \n",
            "__________________________________________________________________________________________________\n",
            "block5_sepconv2_act (Activation (None, 9, 9, 728)    0           block5_sepconv1_bn[0][0]         \n",
            "__________________________________________________________________________________________________\n",
            "block5_sepconv2 (SeparableConv2 (None, 9, 9, 728)    536536      block5_sepconv2_act[0][0]        \n",
            "__________________________________________________________________________________________________\n",
            "block5_sepconv2_bn (BatchNormal (None, 9, 9, 728)    2912        block5_sepconv2[0][0]            \n",
            "__________________________________________________________________________________________________\n",
            "block5_sepconv3_act (Activation (None, 9, 9, 728)    0           block5_sepconv2_bn[0][0]         \n",
            "__________________________________________________________________________________________________\n",
            "block5_sepconv3 (SeparableConv2 (None, 9, 9, 728)    536536      block5_sepconv3_act[0][0]        \n",
            "__________________________________________________________________________________________________\n",
            "block5_sepconv3_bn (BatchNormal (None, 9, 9, 728)    2912        block5_sepconv3[0][0]            \n",
            "__________________________________________________________________________________________________\n",
            "add_136 (Add)                   (None, 9, 9, 728)    0           block5_sepconv3_bn[0][0]         \n",
            "                                                                 add_135[0][0]                    \n",
            "__________________________________________________________________________________________________\n",
            "block6_sepconv1_act (Activation (None, 9, 9, 728)    0           add_136[0][0]                    \n",
            "__________________________________________________________________________________________________\n",
            "block6_sepconv1 (SeparableConv2 (None, 9, 9, 728)    536536      block6_sepconv1_act[0][0]        \n",
            "__________________________________________________________________________________________________\n",
            "block6_sepconv1_bn (BatchNormal (None, 9, 9, 728)    2912        block6_sepconv1[0][0]            \n",
            "__________________________________________________________________________________________________\n",
            "block6_sepconv2_act (Activation (None, 9, 9, 728)    0           block6_sepconv1_bn[0][0]         \n",
            "__________________________________________________________________________________________________\n",
            "block6_sepconv2 (SeparableConv2 (None, 9, 9, 728)    536536      block6_sepconv2_act[0][0]        \n",
            "__________________________________________________________________________________________________\n",
            "block6_sepconv2_bn (BatchNormal (None, 9, 9, 728)    2912        block6_sepconv2[0][0]            \n",
            "__________________________________________________________________________________________________\n",
            "block6_sepconv3_act (Activation (None, 9, 9, 728)    0           block6_sepconv2_bn[0][0]         \n",
            "__________________________________________________________________________________________________\n",
            "block6_sepconv3 (SeparableConv2 (None, 9, 9, 728)    536536      block6_sepconv3_act[0][0]        \n",
            "__________________________________________________________________________________________________\n",
            "block6_sepconv3_bn (BatchNormal (None, 9, 9, 728)    2912        block6_sepconv3[0][0]            \n",
            "__________________________________________________________________________________________________\n",
            "add_137 (Add)                   (None, 9, 9, 728)    0           block6_sepconv3_bn[0][0]         \n",
            "                                                                 add_136[0][0]                    \n",
            "__________________________________________________________________________________________________\n",
            "block7_sepconv1_act (Activation (None, 9, 9, 728)    0           add_137[0][0]                    \n",
            "__________________________________________________________________________________________________\n",
            "block7_sepconv1 (SeparableConv2 (None, 9, 9, 728)    536536      block7_sepconv1_act[0][0]        \n",
            "__________________________________________________________________________________________________\n",
            "block7_sepconv1_bn (BatchNormal (None, 9, 9, 728)    2912        block7_sepconv1[0][0]            \n",
            "__________________________________________________________________________________________________\n",
            "block7_sepconv2_act (Activation (None, 9, 9, 728)    0           block7_sepconv1_bn[0][0]         \n",
            "__________________________________________________________________________________________________\n",
            "block7_sepconv2 (SeparableConv2 (None, 9, 9, 728)    536536      block7_sepconv2_act[0][0]        \n",
            "__________________________________________________________________________________________________\n",
            "block7_sepconv2_bn (BatchNormal (None, 9, 9, 728)    2912        block7_sepconv2[0][0]            \n",
            "__________________________________________________________________________________________________\n",
            "block7_sepconv3_act (Activation (None, 9, 9, 728)    0           block7_sepconv2_bn[0][0]         \n",
            "__________________________________________________________________________________________________\n",
            "block7_sepconv3 (SeparableConv2 (None, 9, 9, 728)    536536      block7_sepconv3_act[0][0]        \n",
            "__________________________________________________________________________________________________\n",
            "block7_sepconv3_bn (BatchNormal (None, 9, 9, 728)    2912        block7_sepconv3[0][0]            \n",
            "__________________________________________________________________________________________________\n",
            "add_138 (Add)                   (None, 9, 9, 728)    0           block7_sepconv3_bn[0][0]         \n",
            "                                                                 add_137[0][0]                    \n",
            "__________________________________________________________________________________________________\n",
            "block8_sepconv1_act (Activation (None, 9, 9, 728)    0           add_138[0][0]                    \n",
            "__________________________________________________________________________________________________\n",
            "block8_sepconv1 (SeparableConv2 (None, 9, 9, 728)    536536      block8_sepconv1_act[0][0]        \n",
            "__________________________________________________________________________________________________\n",
            "block8_sepconv1_bn (BatchNormal (None, 9, 9, 728)    2912        block8_sepconv1[0][0]            \n",
            "__________________________________________________________________________________________________\n",
            "block8_sepconv2_act (Activation (None, 9, 9, 728)    0           block8_sepconv1_bn[0][0]         \n",
            "__________________________________________________________________________________________________\n",
            "block8_sepconv2 (SeparableConv2 (None, 9, 9, 728)    536536      block8_sepconv2_act[0][0]        \n",
            "__________________________________________________________________________________________________\n",
            "block8_sepconv2_bn (BatchNormal (None, 9, 9, 728)    2912        block8_sepconv2[0][0]            \n",
            "__________________________________________________________________________________________________\n",
            "block8_sepconv3_act (Activation (None, 9, 9, 728)    0           block8_sepconv2_bn[0][0]         \n",
            "__________________________________________________________________________________________________\n",
            "block8_sepconv3 (SeparableConv2 (None, 9, 9, 728)    536536      block8_sepconv3_act[0][0]        \n",
            "__________________________________________________________________________________________________\n",
            "block8_sepconv3_bn (BatchNormal (None, 9, 9, 728)    2912        block8_sepconv3[0][0]            \n",
            "__________________________________________________________________________________________________\n",
            "add_139 (Add)                   (None, 9, 9, 728)    0           block8_sepconv3_bn[0][0]         \n",
            "                                                                 add_138[0][0]                    \n",
            "__________________________________________________________________________________________________\n",
            "block9_sepconv1_act (Activation (None, 9, 9, 728)    0           add_139[0][0]                    \n",
            "__________________________________________________________________________________________________\n",
            "block9_sepconv1 (SeparableConv2 (None, 9, 9, 728)    536536      block9_sepconv1_act[0][0]        \n",
            "__________________________________________________________________________________________________\n",
            "block9_sepconv1_bn (BatchNormal (None, 9, 9, 728)    2912        block9_sepconv1[0][0]            \n",
            "__________________________________________________________________________________________________\n",
            "block9_sepconv2_act (Activation (None, 9, 9, 728)    0           block9_sepconv1_bn[0][0]         \n",
            "__________________________________________________________________________________________________\n",
            "block9_sepconv2 (SeparableConv2 (None, 9, 9, 728)    536536      block9_sepconv2_act[0][0]        \n",
            "__________________________________________________________________________________________________\n",
            "block9_sepconv2_bn (BatchNormal (None, 9, 9, 728)    2912        block9_sepconv2[0][0]            \n",
            "__________________________________________________________________________________________________\n",
            "block9_sepconv3_act (Activation (None, 9, 9, 728)    0           block9_sepconv2_bn[0][0]         \n",
            "__________________________________________________________________________________________________\n",
            "block9_sepconv3 (SeparableConv2 (None, 9, 9, 728)    536536      block9_sepconv3_act[0][0]        \n",
            "__________________________________________________________________________________________________\n",
            "block9_sepconv3_bn (BatchNormal (None, 9, 9, 728)    2912        block9_sepconv3[0][0]            \n",
            "__________________________________________________________________________________________________\n",
            "add_140 (Add)                   (None, 9, 9, 728)    0           block9_sepconv3_bn[0][0]         \n",
            "                                                                 add_139[0][0]                    \n",
            "__________________________________________________________________________________________________\n",
            "block10_sepconv1_act (Activatio (None, 9, 9, 728)    0           add_140[0][0]                    \n",
            "__________________________________________________________________________________________________\n",
            "block10_sepconv1 (SeparableConv (None, 9, 9, 728)    536536      block10_sepconv1_act[0][0]       \n",
            "__________________________________________________________________________________________________\n",
            "block10_sepconv1_bn (BatchNorma (None, 9, 9, 728)    2912        block10_sepconv1[0][0]           \n",
            "__________________________________________________________________________________________________\n",
            "block10_sepconv2_act (Activatio (None, 9, 9, 728)    0           block10_sepconv1_bn[0][0]        \n",
            "__________________________________________________________________________________________________\n",
            "block10_sepconv2 (SeparableConv (None, 9, 9, 728)    536536      block10_sepconv2_act[0][0]       \n",
            "__________________________________________________________________________________________________\n",
            "block10_sepconv2_bn (BatchNorma (None, 9, 9, 728)    2912        block10_sepconv2[0][0]           \n",
            "__________________________________________________________________________________________________\n",
            "block10_sepconv3_act (Activatio (None, 9, 9, 728)    0           block10_sepconv2_bn[0][0]        \n",
            "__________________________________________________________________________________________________\n",
            "block10_sepconv3 (SeparableConv (None, 9, 9, 728)    536536      block10_sepconv3_act[0][0]       \n",
            "__________________________________________________________________________________________________\n",
            "block10_sepconv3_bn (BatchNorma (None, 9, 9, 728)    2912        block10_sepconv3[0][0]           \n",
            "__________________________________________________________________________________________________\n",
            "add_141 (Add)                   (None, 9, 9, 728)    0           block10_sepconv3_bn[0][0]        \n",
            "                                                                 add_140[0][0]                    \n",
            "__________________________________________________________________________________________________\n",
            "block11_sepconv1_act (Activatio (None, 9, 9, 728)    0           add_141[0][0]                    \n",
            "__________________________________________________________________________________________________\n",
            "block11_sepconv1 (SeparableConv (None, 9, 9, 728)    536536      block11_sepconv1_act[0][0]       \n",
            "__________________________________________________________________________________________________\n",
            "block11_sepconv1_bn (BatchNorma (None, 9, 9, 728)    2912        block11_sepconv1[0][0]           \n",
            "__________________________________________________________________________________________________\n",
            "block11_sepconv2_act (Activatio (None, 9, 9, 728)    0           block11_sepconv1_bn[0][0]        \n",
            "__________________________________________________________________________________________________\n",
            "block11_sepconv2 (SeparableConv (None, 9, 9, 728)    536536      block11_sepconv2_act[0][0]       \n",
            "__________________________________________________________________________________________________\n",
            "block11_sepconv2_bn (BatchNorma (None, 9, 9, 728)    2912        block11_sepconv2[0][0]           \n",
            "__________________________________________________________________________________________________\n",
            "block11_sepconv3_act (Activatio (None, 9, 9, 728)    0           block11_sepconv2_bn[0][0]        \n",
            "__________________________________________________________________________________________________\n",
            "block11_sepconv3 (SeparableConv (None, 9, 9, 728)    536536      block11_sepconv3_act[0][0]       \n",
            "__________________________________________________________________________________________________\n",
            "block11_sepconv3_bn (BatchNorma (None, 9, 9, 728)    2912        block11_sepconv3[0][0]           \n",
            "__________________________________________________________________________________________________\n",
            "add_142 (Add)                   (None, 9, 9, 728)    0           block11_sepconv3_bn[0][0]        \n",
            "                                                                 add_141[0][0]                    \n",
            "__________________________________________________________________________________________________\n",
            "block12_sepconv1_act (Activatio (None, 9, 9, 728)    0           add_142[0][0]                    \n",
            "__________________________________________________________________________________________________\n",
            "block12_sepconv1 (SeparableConv (None, 9, 9, 728)    536536      block12_sepconv1_act[0][0]       \n",
            "__________________________________________________________________________________________________\n",
            "block12_sepconv1_bn (BatchNorma (None, 9, 9, 728)    2912        block12_sepconv1[0][0]           \n",
            "__________________________________________________________________________________________________\n",
            "block12_sepconv2_act (Activatio (None, 9, 9, 728)    0           block12_sepconv1_bn[0][0]        \n",
            "__________________________________________________________________________________________________\n",
            "block12_sepconv2 (SeparableConv (None, 9, 9, 728)    536536      block12_sepconv2_act[0][0]       \n",
            "__________________________________________________________________________________________________\n",
            "block12_sepconv2_bn (BatchNorma (None, 9, 9, 728)    2912        block12_sepconv2[0][0]           \n",
            "__________________________________________________________________________________________________\n",
            "block12_sepconv3_act (Activatio (None, 9, 9, 728)    0           block12_sepconv2_bn[0][0]        \n",
            "__________________________________________________________________________________________________\n",
            "block12_sepconv3 (SeparableConv (None, 9, 9, 728)    536536      block12_sepconv3_act[0][0]       \n",
            "__________________________________________________________________________________________________\n",
            "block12_sepconv3_bn (BatchNorma (None, 9, 9, 728)    2912        block12_sepconv3[0][0]           \n",
            "__________________________________________________________________________________________________\n",
            "add_143 (Add)                   (None, 9, 9, 728)    0           block12_sepconv3_bn[0][0]        \n",
            "                                                                 add_142[0][0]                    \n",
            "__________________________________________________________________________________________________\n",
            "block13_sepconv1_act (Activatio (None, 9, 9, 728)    0           add_143[0][0]                    \n",
            "__________________________________________________________________________________________________\n",
            "block13_sepconv1 (SeparableConv (None, 9, 9, 728)    536536      block13_sepconv1_act[0][0]       \n",
            "__________________________________________________________________________________________________\n",
            "block13_sepconv1_bn (BatchNorma (None, 9, 9, 728)    2912        block13_sepconv1[0][0]           \n",
            "__________________________________________________________________________________________________\n",
            "block13_sepconv2_act (Activatio (None, 9, 9, 728)    0           block13_sepconv1_bn[0][0]        \n",
            "__________________________________________________________________________________________________\n",
            "block13_sepconv2 (SeparableConv (None, 9, 9, 1024)   752024      block13_sepconv2_act[0][0]       \n",
            "__________________________________________________________________________________________________\n",
            "block13_sepconv2_bn (BatchNorma (None, 9, 9, 1024)   4096        block13_sepconv2[0][0]           \n",
            "__________________________________________________________________________________________________\n",
            "conv2d_48 (Conv2D)              (None, 5, 5, 1024)   745472      add_143[0][0]                    \n",
            "__________________________________________________________________________________________________\n",
            "block13_pool (MaxPooling2D)     (None, 5, 5, 1024)   0           block13_sepconv2_bn[0][0]        \n",
            "__________________________________________________________________________________________________\n",
            "batch_normalization_48 (BatchNo (None, 5, 5, 1024)   4096        conv2d_48[0][0]                  \n",
            "__________________________________________________________________________________________________\n",
            "add_144 (Add)                   (None, 5, 5, 1024)   0           block13_pool[0][0]               \n",
            "                                                                 batch_normalization_48[0][0]     \n",
            "__________________________________________________________________________________________________\n",
            "block14_sepconv1 (SeparableConv (None, 5, 5, 1536)   1582080     add_144[0][0]                    \n",
            "__________________________________________________________________________________________________\n",
            "block14_sepconv1_bn (BatchNorma (None, 5, 5, 1536)   6144        block14_sepconv1[0][0]           \n",
            "__________________________________________________________________________________________________\n",
            "block14_sepconv1_act (Activatio (None, 5, 5, 1536)   0           block14_sepconv1_bn[0][0]        \n",
            "__________________________________________________________________________________________________\n",
            "block14_sepconv2 (SeparableConv (None, 5, 5, 2048)   3159552     block14_sepconv1_act[0][0]       \n",
            "__________________________________________________________________________________________________\n",
            "block14_sepconv2_bn (BatchNorma (None, 5, 5, 2048)   8192        block14_sepconv2[0][0]           \n",
            "__________________________________________________________________________________________________\n",
            "block14_sepconv2_act (Activatio (None, 5, 5, 2048)   0           block14_sepconv2_bn[0][0]        \n",
            "==================================================================================================\n",
            "Total params: 20,861,480\n",
            "Trainable params: 20,806,952\n",
            "Non-trainable params: 54,528\n",
            "__________________________________________________________________________________________________\n"
          ],
          "name": "stdout"
        }
      ]
    },
    {
      "cell_type": "markdown",
      "metadata": {
        "id": "D6OBHOO9q1ou",
        "colab_type": "text"
      },
      "source": [
        "### Freeze the convolutional base"
      ]
    },
    {
      "cell_type": "code",
      "metadata": {
        "id": "UleRo4Dpq6Ld",
        "colab_type": "code",
        "colab": {}
      },
      "source": [
        "conv_base.trainable = False"
      ],
      "execution_count": 0,
      "outputs": []
    },
    {
      "cell_type": "markdown",
      "metadata": {
        "id": "Qfx6PqhPrb7Q",
        "colab_type": "text"
      },
      "source": [
        "### Concatenate the convolutional base and densely connected layers"
      ]
    },
    {
      "cell_type": "code",
      "metadata": {
        "id": "qUpmocDAO3xm",
        "colab_type": "code",
        "colab": {}
      },
      "source": [
        "from keras import layers\n",
        "from keras import models\n",
        "from keras import optimizers\n",
        "\n",
        "model = models.Sequential()\n",
        "model.add(conv_base)\n",
        "model.add(layers.Flatten())\n",
        "model.add(layers.Dense(512, activation='relu'))\n",
        "#model.add(layers.Dropout(0.1))\n",
        "model.add(layers.Dense(1, activation='sigmoid'))"
      ],
      "execution_count": 0,
      "outputs": []
    },
    {
      "cell_type": "code",
      "metadata": {
        "id": "Fh6gZSeAjF7c",
        "colab_type": "code",
        "outputId": "30c012df-b05d-4390-c62e-8eb4cb58b6b7",
        "colab": {
          "base_uri": "https://localhost:8080/",
          "height": 295
        }
      },
      "source": [
        "model.summary()"
      ],
      "execution_count": 0,
      "outputs": [
        {
          "output_type": "stream",
          "text": [
            "Model: \"sequential_16\"\n",
            "_________________________________________________________________\n",
            "Layer (type)                 Output Shape              Param #   \n",
            "=================================================================\n",
            "xception (Model)             (None, 5, 5, 2048)        20861480  \n",
            "_________________________________________________________________\n",
            "flatten_16 (Flatten)         (None, 51200)             0         \n",
            "_________________________________________________________________\n",
            "dense_31 (Dense)             (None, 512)               26214912  \n",
            "_________________________________________________________________\n",
            "dense_32 (Dense)             (None, 1)                 513       \n",
            "=================================================================\n",
            "Total params: 47,076,905\n",
            "Trainable params: 26,215,425\n",
            "Non-trainable params: 20,861,480\n",
            "_________________________________________________________________\n"
          ],
          "name": "stdout"
        }
      ]
    },
    {
      "cell_type": "markdown",
      "metadata": {
        "id": "eZjBiddhi5Qj",
        "colab_type": "text"
      },
      "source": [
        "## Train the model end to end with frozen convolutional base"
      ]
    },
    {
      "cell_type": "code",
      "metadata": {
        "id": "tfAQlC2Oi41L",
        "colab_type": "code",
        "outputId": "be7dbcac-3c4b-46c1-a85c-5600a4e6c136",
        "colab": {
          "base_uri": "https://localhost:8080/",
          "height": 1000
        }
      },
      "source": [
        "from keras.preprocessing.image import ImageDataGenerator\n",
        "from keras import optimizers\n",
        "\n",
        "# data augmentation\n",
        "\n",
        "train_datagen = ImageDataGenerator(\n",
        "    rescale=1./255, \n",
        "    rotation_range=40,\n",
        "    width_shift_range=0.2,\n",
        "    height_shift_range=0.2,\n",
        "    shear_range=0.2,\n",
        "    zoom_range=0.2,\n",
        "    horizontal_flip=True,\n",
        "    fill_mode='nearest'\n",
        ")\n",
        "\n",
        "train_generator = train_datagen.flow_from_directory(\n",
        "    train_dir,\n",
        "    target_size=(150, 150),\n",
        "    batch_size=20,\n",
        "    class_mode='binary')\n",
        "\n",
        "validation_datagen = ImageDataGenerator(rescale=1./255)\n",
        "\n",
        "validation_generator = validation_datagen.flow_from_directory(\n",
        "    validation_dir,\n",
        "    target_size=(150, 150),\n",
        "    batch_size=20,\n",
        "    class_mode='binary')\n",
        "\n",
        "# compile model\n",
        "\n",
        "model.compile(\n",
        "    loss='binary_crossentropy', \n",
        "    optimizer=optimizers.RMSprop(lr=2e-5), \n",
        "    metrics=['acc'])\n",
        "\n",
        "# train\n",
        "\n",
        "history = model.fit_generator(\n",
        "    train_generator,\n",
        "    steps_per_epoch=100,\n",
        "    epochs=30,\n",
        "    validation_data=validation_generator,\n",
        "    validation_steps=50\n",
        ")"
      ],
      "execution_count": 0,
      "outputs": [
        {
          "output_type": "stream",
          "text": [
            "Found 2000 images belonging to 2 classes.\n",
            "Found 1000 images belonging to 2 classes.\n",
            "Epoch 1/30\n",
            "100/100 [==============================] - 24s 238ms/step - loss: 0.4840 - acc: 0.7635 - val_loss: 6.8676e-04 - val_acc: 0.9540\n",
            "Epoch 2/30\n",
            "100/100 [==============================] - 20s 199ms/step - loss: 0.3826 - acc: 0.8085 - val_loss: 0.0306 - val_acc: 0.9730\n",
            "Epoch 3/30\n",
            "100/100 [==============================] - 20s 198ms/step - loss: 0.3639 - acc: 0.8380 - val_loss: 0.0101 - val_acc: 0.9680\n",
            "Epoch 4/30\n",
            "100/100 [==============================] - 20s 199ms/step - loss: 0.3354 - acc: 0.8460 - val_loss: 9.8056e-04 - val_acc: 0.9730\n",
            "Epoch 5/30\n",
            "100/100 [==============================] - 20s 199ms/step - loss: 0.3122 - acc: 0.8650 - val_loss: 0.0169 - val_acc: 0.9720\n",
            "Epoch 6/30\n",
            "100/100 [==============================] - 20s 198ms/step - loss: 0.3040 - acc: 0.8665 - val_loss: 0.0193 - val_acc: 0.9440\n",
            "Epoch 7/30\n",
            "100/100 [==============================] - 20s 199ms/step - loss: 0.3247 - acc: 0.8615 - val_loss: 0.0899 - val_acc: 0.9760\n",
            "Epoch 8/30\n",
            "100/100 [==============================] - 20s 198ms/step - loss: 0.3037 - acc: 0.8620 - val_loss: 0.1203 - val_acc: 0.9640\n",
            "Epoch 9/30\n",
            "100/100 [==============================] - 20s 199ms/step - loss: 0.3020 - acc: 0.8605 - val_loss: 0.0963 - val_acc: 0.9610\n",
            "Epoch 10/30\n",
            "100/100 [==============================] - 20s 199ms/step - loss: 0.2913 - acc: 0.8690 - val_loss: 1.6405e-04 - val_acc: 0.9690\n",
            "Epoch 11/30\n",
            "100/100 [==============================] - 20s 197ms/step - loss: 0.2987 - acc: 0.8730 - val_loss: 0.1814 - val_acc: 0.9760\n",
            "Epoch 12/30\n",
            "100/100 [==============================] - 20s 197ms/step - loss: 0.2898 - acc: 0.8795 - val_loss: 0.0291 - val_acc: 0.9670\n",
            "Epoch 13/30\n",
            "100/100 [==============================] - 20s 199ms/step - loss: 0.2851 - acc: 0.8765 - val_loss: 0.4761 - val_acc: 0.9710\n",
            "Epoch 14/30\n",
            "100/100 [==============================] - 20s 197ms/step - loss: 0.2669 - acc: 0.8830 - val_loss: 0.6556 - val_acc: 0.9710\n",
            "Epoch 15/30\n",
            "100/100 [==============================] - 20s 198ms/step - loss: 0.3046 - acc: 0.8700 - val_loss: 3.3412e-07 - val_acc: 0.9700\n",
            "Epoch 16/30\n",
            "100/100 [==============================] - 20s 198ms/step - loss: 0.2947 - acc: 0.8835 - val_loss: 0.0138 - val_acc: 0.9700\n",
            "Epoch 17/30\n",
            "100/100 [==============================] - 20s 198ms/step - loss: 0.2764 - acc: 0.8880 - val_loss: 0.0143 - val_acc: 0.9730\n",
            "Epoch 18/30\n",
            "100/100 [==============================] - 20s 198ms/step - loss: 0.2557 - acc: 0.9030 - val_loss: 1.2627e-06 - val_acc: 0.9670\n",
            "Epoch 19/30\n",
            "100/100 [==============================] - 20s 198ms/step - loss: 0.2895 - acc: 0.8825 - val_loss: 0.1676 - val_acc: 0.9670\n",
            "Epoch 20/30\n",
            "100/100 [==============================] - 20s 197ms/step - loss: 0.2793 - acc: 0.8845 - val_loss: 6.5763e-05 - val_acc: 0.9650\n",
            "Epoch 21/30\n",
            "100/100 [==============================] - 20s 198ms/step - loss: 0.2714 - acc: 0.8890 - val_loss: 0.6513 - val_acc: 0.9710\n",
            "Epoch 22/30\n",
            "100/100 [==============================] - 20s 199ms/step - loss: 0.2785 - acc: 0.8775 - val_loss: 5.7930e-06 - val_acc: 0.9710\n",
            "Epoch 23/30\n",
            "100/100 [==============================] - 20s 197ms/step - loss: 0.2905 - acc: 0.8825 - val_loss: 7.2043e-06 - val_acc: 0.9730\n",
            "Epoch 24/30\n",
            "100/100 [==============================] - 20s 197ms/step - loss: 0.2811 - acc: 0.8810 - val_loss: 9.8301e-04 - val_acc: 0.9740\n",
            "Epoch 25/30\n",
            "100/100 [==============================] - 20s 199ms/step - loss: 0.2501 - acc: 0.9045 - val_loss: 0.0010 - val_acc: 0.9720\n",
            "Epoch 26/30\n",
            "100/100 [==============================] - 20s 198ms/step - loss: 0.2645 - acc: 0.8945 - val_loss: 6.5996e-04 - val_acc: 0.9760\n",
            "Epoch 27/30\n",
            "100/100 [==============================] - 20s 197ms/step - loss: 0.2712 - acc: 0.8920 - val_loss: 9.9617e-04 - val_acc: 0.9730\n",
            "Epoch 28/30\n",
            "100/100 [==============================] - 20s 198ms/step - loss: 0.2553 - acc: 0.9005 - val_loss: 1.6263e-06 - val_acc: 0.9730\n",
            "Epoch 29/30\n",
            "100/100 [==============================] - 20s 198ms/step - loss: 0.2600 - acc: 0.8875 - val_loss: 0.8490 - val_acc: 0.9730\n",
            "Epoch 30/30\n",
            "100/100 [==============================] - 20s 197ms/step - loss: 0.2419 - acc: 0.8975 - val_loss: 0.0023 - val_acc: 0.9720\n"
          ],
          "name": "stdout"
        }
      ]
    },
    {
      "cell_type": "markdown",
      "metadata": {
        "id": "xqRc_vHKc92U",
        "colab_type": "text"
      },
      "source": [
        "## Display curves of loss and accuracy during training"
      ]
    },
    {
      "cell_type": "code",
      "metadata": {
        "id": "ybWwdzz9bwuQ",
        "colab_type": "code",
        "outputId": "dd240ed4-28b7-495b-9149-7ae72a67a6a5",
        "colab": {
          "base_uri": "https://localhost:8080/",
          "height": 545
        }
      },
      "source": [
        "%matplotlib inline\n",
        "\n",
        "import matplotlib.pyplot as plt\n",
        "\n",
        "acc = history.history['acc']\n",
        "val_acc = history.history['val_acc']\n",
        "\n",
        "loss = history.history['loss']\n",
        "val_loss = history.history['val_loss']\n",
        "\n",
        "epochs = range(1, len(acc) + 1)\n",
        "\n",
        "# training and validation accuracy\n",
        "\n",
        "plt.plot(epochs, acc, 'bo', label='training acc')\n",
        "plt.plot(epochs, val_acc, 'b', label='validation acc')\n",
        "plt.title('training and validation accuracy')\n",
        "plt.legend()\n",
        "\n",
        "plt.figure()\n",
        "\n",
        "# training and validation loss\n",
        "\n",
        "plt.plot(epochs, loss, 'bo', label='training loss')\n",
        "plt.plot(epochs, val_loss, 'b', label='validation loss')\n",
        "plt.title('training and validation loss')\n",
        "plt.legend()\n",
        "\n",
        "plt.show()"
      ],
      "execution_count": 0,
      "outputs": [
        {
          "output_type": "display_data",
          "data": {
            "image/png": "[encoded data removed]",
            "text/plain": [
              "<Figure size 432x288 with 1 Axes>"
            ]
          },
          "metadata": {
            "tags": [],
            "needs_background": "light"
          }
        },
        {
          "output_type": "display_data",
          "data": {
            "image/png": "[encoded data removed]",
            "text/plain": [
              "<Figure size 432x288 with 1 Axes>"
            ]
          },
          "metadata": {
            "tags": [],
            "needs_background": "light"
          }
        }
      ]
    },
    {
      "cell_type": "markdown",
      "metadata": {
        "id": "lOWsxpey8lN0",
        "colab_type": "text"
      },
      "source": [
        "## Fine-tuning"
      ]
    },
    {
      "cell_type": "code",
      "metadata": {
        "id": "PwkVMx8N8qMw",
        "colab_type": "code",
        "colab": {}
      },
      "source": [
        "conv_base.trainable = True\n",
        "\n",
        "set_trainable = False\n",
        "for layer in conv_base.layers:\n",
        "  if layer.name[:7] == 'block12' or layer.name == 'add_131':\n",
        "    set_trainable = True\n",
        "  else:\n",
        "    set_trainable = False\n",
        "  if set_trainable:\n",
        "    layer.trainable = True\n",
        "  else:\n",
        "    layer.trainable = False"
      ],
      "execution_count": 0,
      "outputs": []
    },
    {
      "cell_type": "code",
      "metadata": {
        "id": "DyN-J7rs9cvo",
        "colab_type": "code",
        "outputId": "c320271c-eef1-427d-9dd1-74a94505ee00",
        "colab": {
          "base_uri": "https://localhost:8080/",
          "height": 1000
        }
      },
      "source": [
        "# compile model\n",
        "\n",
        "model.compile(\n",
        "    loss='binary_crossentropy',\n",
        "    #\n",
        "    # choose a smaller learning rate\n",
        "    #\n",
        "    optimizer=optimizers.RMSprop(lr=1e-5), \n",
        "    metrics=['acc'])\n",
        "\n",
        "# train\n",
        "\n",
        "history = model.fit_generator(\n",
        "    train_generator,\n",
        "    steps_per_epoch=100,\n",
        "    epochs=100,\n",
        "    validation_data=validation_generator,\n",
        "    validation_steps=50)"
      ],
      "execution_count": 0,
      "outputs": [
        {
          "output_type": "stream",
          "text": [
            "Epoch 1/100\n",
            "100/100 [==============================] - 26s 255ms/step - loss: 0.2560 - acc: 0.8980 - val_loss: 0.0461 - val_acc: 0.9590\n",
            "Epoch 2/100\n",
            "100/100 [==============================] - 21s 212ms/step - loss: 0.2416 - acc: 0.9055 - val_loss: 0.9478 - val_acc: 0.9360\n",
            "Epoch 3/100\n",
            "100/100 [==============================] - 21s 212ms/step - loss: 0.2298 - acc: 0.9060 - val_loss: 0.5340 - val_acc: 0.9380\n",
            "Epoch 4/100\n",
            "100/100 [==============================] - 21s 211ms/step - loss: 0.2405 - acc: 0.9050 - val_loss: 0.2435 - val_acc: 0.9400\n",
            "Epoch 5/100\n",
            "100/100 [==============================] - 21s 210ms/step - loss: 0.2361 - acc: 0.9050 - val_loss: 0.0962 - val_acc: 0.9320\n",
            "Epoch 6/100\n",
            "100/100 [==============================] - 21s 212ms/step - loss: 0.2047 - acc: 0.9115 - val_loss: 0.2340 - val_acc: 0.9150\n",
            "Epoch 7/100\n",
            "100/100 [==============================] - 21s 213ms/step - loss: 0.2245 - acc: 0.9165 - val_loss: 0.4967 - val_acc: 0.9380\n",
            "Epoch 8/100\n",
            "100/100 [==============================] - 21s 213ms/step - loss: 0.2124 - acc: 0.9120 - val_loss: 0.1147 - val_acc: 0.9340\n",
            "Epoch 9/100\n",
            "100/100 [==============================] - 21s 210ms/step - loss: 0.2213 - acc: 0.9120 - val_loss: 0.0684 - val_acc: 0.9270\n",
            "Epoch 10/100\n",
            "100/100 [==============================] - 21s 211ms/step - loss: 0.2174 - acc: 0.9170 - val_loss: 0.2240 - val_acc: 0.9390\n",
            "Epoch 11/100\n",
            "100/100 [==============================] - 21s 210ms/step - loss: 0.2251 - acc: 0.9125 - val_loss: 0.0111 - val_acc: 0.9360\n",
            "Epoch 12/100\n",
            "100/100 [==============================] - 21s 212ms/step - loss: 0.1950 - acc: 0.9210 - val_loss: 0.3121 - val_acc: 0.9370\n",
            "Epoch 13/100\n",
            "100/100 [==============================] - 21s 210ms/step - loss: 0.1969 - acc: 0.9185 - val_loss: 0.3311 - val_acc: 0.9450\n",
            "Epoch 14/100\n",
            "100/100 [==============================] - 21s 212ms/step - loss: 0.2183 - acc: 0.9040 - val_loss: 0.1561 - val_acc: 0.9420\n",
            "Epoch 15/100\n",
            "100/100 [==============================] - 21s 211ms/step - loss: 0.2129 - acc: 0.9155 - val_loss: 0.1275 - val_acc: 0.9450\n",
            "Epoch 16/100\n",
            "100/100 [==============================] - 21s 211ms/step - loss: 0.2018 - acc: 0.9170 - val_loss: 0.1166 - val_acc: 0.9350\n",
            "Epoch 17/100\n",
            "100/100 [==============================] - 21s 211ms/step - loss: 0.2056 - acc: 0.9230 - val_loss: 0.0283 - val_acc: 0.9240\n",
            "Epoch 18/100\n",
            "100/100 [==============================] - 21s 211ms/step - loss: 0.2068 - acc: 0.9210 - val_loss: 0.0213 - val_acc: 0.9370\n",
            "Epoch 19/100\n",
            "100/100 [==============================] - 21s 211ms/step - loss: 0.2167 - acc: 0.9135 - val_loss: 0.1017 - val_acc: 0.9430\n",
            "Epoch 20/100\n",
            "100/100 [==============================] - 21s 210ms/step - loss: 0.1976 - acc: 0.9175 - val_loss: 0.0317 - val_acc: 0.9430\n",
            "Epoch 21/100\n",
            "100/100 [==============================] - 21s 212ms/step - loss: 0.1830 - acc: 0.9290 - val_loss: 0.0917 - val_acc: 0.9350\n",
            "Epoch 22/100\n",
            "100/100 [==============================] - 21s 212ms/step - loss: 0.1864 - acc: 0.9240 - val_loss: 0.0540 - val_acc: 0.9450\n",
            "Epoch 23/100\n",
            "100/100 [==============================] - 21s 210ms/step - loss: 0.1957 - acc: 0.9225 - val_loss: 0.4658 - val_acc: 0.9300\n",
            "Epoch 24/100\n",
            "100/100 [==============================] - 21s 211ms/step - loss: 0.1966 - acc: 0.9220 - val_loss: 0.1903 - val_acc: 0.9430\n",
            "Epoch 25/100\n",
            "100/100 [==============================] - 21s 212ms/step - loss: 0.1875 - acc: 0.9255 - val_loss: 0.0424 - val_acc: 0.9380\n",
            "Epoch 26/100\n",
            "100/100 [==============================] - 21s 211ms/step - loss: 0.1831 - acc: 0.9280 - val_loss: 0.1199 - val_acc: 0.9320\n",
            "Epoch 27/100\n",
            "100/100 [==============================] - 21s 210ms/step - loss: 0.1789 - acc: 0.9360 - val_loss: 0.3511 - val_acc: 0.9330\n",
            "Epoch 28/100\n",
            "100/100 [==============================] - 21s 211ms/step - loss: 0.1629 - acc: 0.9280 - val_loss: 0.1204 - val_acc: 0.9330\n",
            "Epoch 29/100\n",
            "100/100 [==============================] - 21s 212ms/step - loss: 0.1564 - acc: 0.9330 - val_loss: 0.0465 - val_acc: 0.9400\n",
            "Epoch 30/100\n",
            "100/100 [==============================] - 21s 210ms/step - loss: 0.2010 - acc: 0.9200 - val_loss: 0.2625 - val_acc: 0.9450\n",
            "Epoch 31/100\n",
            "100/100 [==============================] - 21s 211ms/step - loss: 0.1621 - acc: 0.9360 - val_loss: 0.0533 - val_acc: 0.9420\n",
            "Epoch 32/100\n",
            "100/100 [==============================] - 21s 211ms/step - loss: 0.1601 - acc: 0.9410 - val_loss: 0.7806 - val_acc: 0.9430\n",
            "Epoch 33/100\n",
            "100/100 [==============================] - 21s 212ms/step - loss: 0.1880 - acc: 0.9365 - val_loss: 0.2216 - val_acc: 0.9320\n",
            "Epoch 34/100\n",
            "100/100 [==============================] - 21s 210ms/step - loss: 0.1786 - acc: 0.9270 - val_loss: 0.0874 - val_acc: 0.9450\n",
            "Epoch 35/100\n",
            "100/100 [==============================] - 21s 210ms/step - loss: 0.1679 - acc: 0.9365 - val_loss: 0.1600 - val_acc: 0.9450\n",
            "Epoch 36/100\n",
            "100/100 [==============================] - 21s 211ms/step - loss: 0.1691 - acc: 0.9355 - val_loss: 0.1636 - val_acc: 0.9370\n",
            "Epoch 37/100\n",
            "100/100 [==============================] - 21s 211ms/step - loss: 0.1671 - acc: 0.9375 - val_loss: 0.1752 - val_acc: 0.9420\n",
            "Epoch 38/100\n",
            "100/100 [==============================] - 21s 210ms/step - loss: 0.1435 - acc: 0.9380 - val_loss: 0.2088 - val_acc: 0.9390\n",
            "Epoch 39/100\n",
            "100/100 [==============================] - 21s 210ms/step - loss: 0.1868 - acc: 0.9275 - val_loss: 0.3559 - val_acc: 0.9370\n",
            "Epoch 40/100\n",
            "100/100 [==============================] - 21s 210ms/step - loss: 0.1810 - acc: 0.9355 - val_loss: 0.2541 - val_acc: 0.9340\n",
            "Epoch 41/100\n",
            "100/100 [==============================] - 21s 212ms/step - loss: 0.1560 - acc: 0.9400 - val_loss: 0.1577 - val_acc: 0.9450\n",
            "Epoch 42/100\n",
            "100/100 [==============================] - 21s 210ms/step - loss: 0.1791 - acc: 0.9355 - val_loss: 0.0505 - val_acc: 0.9430\n",
            "Epoch 43/100\n",
            "100/100 [==============================] - 21s 210ms/step - loss: 0.1570 - acc: 0.9330 - val_loss: 0.0804 - val_acc: 0.9460\n",
            "Epoch 44/100\n",
            "100/100 [==============================] - 21s 210ms/step - loss: 0.1550 - acc: 0.9395 - val_loss: 0.0985 - val_acc: 0.9380\n",
            "Epoch 45/100\n",
            "100/100 [==============================] - 21s 211ms/step - loss: 0.1702 - acc: 0.9345 - val_loss: 0.0162 - val_acc: 0.9370\n",
            "Epoch 46/100\n",
            "100/100 [==============================] - 21s 211ms/step - loss: 0.1450 - acc: 0.9430 - val_loss: 0.0829 - val_acc: 0.9430\n",
            "Epoch 47/100\n",
            "100/100 [==============================] - 21s 210ms/step - loss: 0.1604 - acc: 0.9390 - val_loss: 0.0884 - val_acc: 0.9350\n",
            "Epoch 48/100\n",
            "100/100 [==============================] - 21s 210ms/step - loss: 0.1477 - acc: 0.9415 - val_loss: 0.0144 - val_acc: 0.9460\n",
            "Epoch 49/100\n",
            "100/100 [==============================] - 21s 210ms/step - loss: 0.1557 - acc: 0.9445 - val_loss: 0.9032 - val_acc: 0.9400\n",
            "Epoch 50/100\n",
            "100/100 [==============================] - 21s 209ms/step - loss: 0.1620 - acc: 0.9400 - val_loss: 0.0802 - val_acc: 0.9440\n",
            "Epoch 51/100\n",
            "100/100 [==============================] - 21s 211ms/step - loss: 0.1458 - acc: 0.9485 - val_loss: 0.1283 - val_acc: 0.9250\n",
            "Epoch 52/100\n",
            "100/100 [==============================] - 21s 211ms/step - loss: 0.1520 - acc: 0.9360 - val_loss: 0.3614 - val_acc: 0.9480\n",
            "Epoch 53/100\n",
            "100/100 [==============================] - 21s 209ms/step - loss: 0.1390 - acc: 0.9465 - val_loss: 0.3987 - val_acc: 0.9320\n",
            "Epoch 54/100\n",
            "100/100 [==============================] - 21s 210ms/step - loss: 0.1523 - acc: 0.9440 - val_loss: 0.1428 - val_acc: 0.9440\n",
            "Epoch 55/100\n",
            "100/100 [==============================] - 21s 211ms/step - loss: 0.1404 - acc: 0.9445 - val_loss: 0.0399 - val_acc: 0.9370\n",
            "Epoch 56/100\n",
            "100/100 [==============================] - 21s 211ms/step - loss: 0.1500 - acc: 0.9350 - val_loss: 0.0768 - val_acc: 0.9450\n",
            "Epoch 57/100\n",
            "100/100 [==============================] - 21s 211ms/step - loss: 0.1630 - acc: 0.9420 - val_loss: 0.0685 - val_acc: 0.9420\n",
            "Epoch 58/100\n",
            "100/100 [==============================] - 21s 211ms/step - loss: 0.1252 - acc: 0.9515 - val_loss: 0.1753 - val_acc: 0.9440\n",
            "Epoch 59/100\n",
            "100/100 [==============================] - 21s 211ms/step - loss: 0.1474 - acc: 0.9430 - val_loss: 0.0088 - val_acc: 0.9450\n",
            "Epoch 60/100\n",
            "100/100 [==============================] - 21s 212ms/step - loss: 0.1380 - acc: 0.9460 - val_loss: 0.2379 - val_acc: 0.9410\n",
            "Epoch 61/100\n",
            "100/100 [==============================] - 21s 213ms/step - loss: 0.1564 - acc: 0.9430 - val_loss: 0.3302 - val_acc: 0.9420\n",
            "Epoch 62/100\n",
            "100/100 [==============================] - 21s 213ms/step - loss: 0.1436 - acc: 0.9470 - val_loss: 0.3304 - val_acc: 0.9390\n",
            "Epoch 63/100\n",
            "100/100 [==============================] - 21s 211ms/step - loss: 0.1361 - acc: 0.9470 - val_loss: 0.3258 - val_acc: 0.9460\n",
            "Epoch 64/100\n",
            "100/100 [==============================] - 21s 213ms/step - loss: 0.1321 - acc: 0.9475 - val_loss: 0.0064 - val_acc: 0.9440\n",
            "Epoch 65/100\n",
            "100/100 [==============================] - 21s 211ms/step - loss: 0.1424 - acc: 0.9390 - val_loss: 0.0638 - val_acc: 0.9310\n",
            "Epoch 66/100\n",
            "100/100 [==============================] - 21s 214ms/step - loss: 0.1249 - acc: 0.9570 - val_loss: 0.0450 - val_acc: 0.9460\n",
            "Epoch 67/100\n",
            "100/100 [==============================] - 21s 210ms/step - loss: 0.1293 - acc: 0.9515 - val_loss: 0.0187 - val_acc: 0.9450\n",
            "Epoch 68/100\n",
            "100/100 [==============================] - 21s 212ms/step - loss: 0.1343 - acc: 0.9500 - val_loss: 0.0177 - val_acc: 0.9470\n",
            "Epoch 69/100\n",
            "100/100 [==============================] - 21s 212ms/step - loss: 0.1260 - acc: 0.9565 - val_loss: 0.1038 - val_acc: 0.9510\n",
            "Epoch 70/100\n",
            "100/100 [==============================] - 21s 211ms/step - loss: 0.1190 - acc: 0.9555 - val_loss: 0.0305 - val_acc: 0.9480\n",
            "Epoch 71/100\n",
            "100/100 [==============================] - 21s 211ms/step - loss: 0.1231 - acc: 0.9540 - val_loss: 0.0064 - val_acc: 0.9370\n",
            "Epoch 72/100\n",
            "100/100 [==============================] - 21s 212ms/step - loss: 0.1249 - acc: 0.9495 - val_loss: 0.0148 - val_acc: 0.9460\n",
            "Epoch 73/100\n",
            "100/100 [==============================] - 21s 211ms/step - loss: 0.1289 - acc: 0.9550 - val_loss: 0.0068 - val_acc: 0.9450\n",
            "Epoch 74/100\n",
            "100/100 [==============================] - 21s 211ms/step - loss: 0.1192 - acc: 0.9515 - val_loss: 0.3111 - val_acc: 0.9480\n",
            "Epoch 75/100\n",
            "100/100 [==============================] - 21s 212ms/step - loss: 0.1313 - acc: 0.9515 - val_loss: 0.4635 - val_acc: 0.9380\n",
            "Epoch 76/100\n",
            "100/100 [==============================] - 21s 210ms/step - loss: 0.1257 - acc: 0.9535 - val_loss: 0.2047 - val_acc: 0.9500\n",
            "Epoch 77/100\n",
            "100/100 [==============================] - 21s 211ms/step - loss: 0.1200 - acc: 0.9560 - val_loss: 0.1756 - val_acc: 0.9500\n",
            "Epoch 78/100\n",
            "100/100 [==============================] - 21s 211ms/step - loss: 0.1192 - acc: 0.9585 - val_loss: 0.0838 - val_acc: 0.9490\n",
            "Epoch 79/100\n",
            "100/100 [==============================] - 21s 212ms/step - loss: 0.1208 - acc: 0.9510 - val_loss: 0.3423 - val_acc: 0.9460\n",
            "Epoch 80/100\n",
            "100/100 [==============================] - 21s 211ms/step - loss: 0.1245 - acc: 0.9510 - val_loss: 1.4582 - val_acc: 0.9490\n",
            "Epoch 81/100\n",
            "100/100 [==============================] - 21s 212ms/step - loss: 0.1541 - acc: 0.9450 - val_loss: 0.0683 - val_acc: 0.9480\n",
            "Epoch 82/100\n",
            "100/100 [==============================] - 21s 211ms/step - loss: 0.1230 - acc: 0.9495 - val_loss: 0.0230 - val_acc: 0.9480\n",
            "Epoch 83/100\n",
            "100/100 [==============================] - 21s 212ms/step - loss: 0.1333 - acc: 0.9455 - val_loss: 0.2610 - val_acc: 0.9420\n",
            "Epoch 84/100\n",
            "100/100 [==============================] - 21s 210ms/step - loss: 0.1368 - acc: 0.9490 - val_loss: 0.3102 - val_acc: 0.9470\n",
            "Epoch 85/100\n",
            "100/100 [==============================] - 21s 210ms/step - loss: 0.1293 - acc: 0.9545 - val_loss: 0.0499 - val_acc: 0.9440\n",
            "Epoch 86/100\n",
            "100/100 [==============================] - 21s 211ms/step - loss: 0.1182 - acc: 0.9565 - val_loss: 0.2603 - val_acc: 0.9450\n",
            "Epoch 87/100\n",
            "100/100 [==============================] - 21s 211ms/step - loss: 0.1486 - acc: 0.9415 - val_loss: 0.0172 - val_acc: 0.9470\n",
            "Epoch 88/100\n",
            "100/100 [==============================] - 22s 225ms/step - loss: 0.1209 - acc: 0.9555 - val_loss: 0.2215 - val_acc: 0.9460\n",
            "Epoch 89/100\n",
            "100/100 [==============================] - 21s 212ms/step - loss: 0.1300 - acc: 0.9525 - val_loss: 0.0765 - val_acc: 0.9510\n",
            "Epoch 90/100\n",
            "100/100 [==============================] - 21s 213ms/step - loss: 0.1091 - acc: 0.9650 - val_loss: 0.0121 - val_acc: 0.9500\n",
            "Epoch 91/100\n",
            "100/100 [==============================] - 21s 211ms/step - loss: 0.1192 - acc: 0.9535 - val_loss: 0.1113 - val_acc: 0.9500\n",
            "Epoch 92/100\n",
            "100/100 [==============================] - 21s 212ms/step - loss: 0.1176 - acc: 0.9555 - val_loss: 0.0291 - val_acc: 0.9520\n",
            "Epoch 93/100\n",
            "100/100 [==============================] - 21s 212ms/step - loss: 0.1247 - acc: 0.9525 - val_loss: 0.0487 - val_acc: 0.9520\n",
            "Epoch 94/100\n",
            "100/100 [==============================] - 21s 212ms/step - loss: 0.1026 - acc: 0.9610 - val_loss: 0.1088 - val_acc: 0.9450\n",
            "Epoch 95/100\n",
            "100/100 [==============================] - 21s 213ms/step - loss: 0.1083 - acc: 0.9590 - val_loss: 0.2420 - val_acc: 0.9530\n",
            "Epoch 96/100\n",
            "100/100 [==============================] - 21s 210ms/step - loss: 0.1187 - acc: 0.9580 - val_loss: 0.1530 - val_acc: 0.9540\n",
            "Epoch 97/100\n",
            "100/100 [==============================] - 21s 211ms/step - loss: 0.1229 - acc: 0.9470 - val_loss: 0.0769 - val_acc: 0.9540\n",
            "Epoch 98/100\n",
            "100/100 [==============================] - 21s 212ms/step - loss: 0.1010 - acc: 0.9565 - val_loss: 0.3657 - val_acc: 0.9490\n",
            "Epoch 99/100\n",
            "100/100 [==============================] - 21s 210ms/step - loss: 0.1151 - acc: 0.9585 - val_loss: 0.1859 - val_acc: 0.9480\n",
            "Epoch 100/100\n",
            "100/100 [==============================] - 21s 211ms/step - loss: 0.1124 - acc: 0.9555 - val_loss: 0.1596 - val_acc: 0.9540\n"
          ],
          "name": "stdout"
        }
      ]
    },
    {
      "cell_type": "markdown",
      "metadata": {
        "id": "eVBQgh5M-Rtz",
        "colab_type": "text"
      },
      "source": [
        "## Display learning curves during fine-tuning"
      ]
    },
    {
      "cell_type": "code",
      "metadata": {
        "id": "mbkIw7Ie-NP4",
        "colab_type": "code",
        "outputId": "c1fe0a35-36f5-4507-aaba-76a8b9281582",
        "colab": {
          "base_uri": "https://localhost:8080/",
          "height": 545
        }
      },
      "source": [
        "%matplotlib inline\n",
        "\n",
        "import matplotlib.pyplot as plt\n",
        "\n",
        "acc = history.history['acc']\n",
        "val_acc = history.history['val_acc']\n",
        "\n",
        "loss = history.history['loss']\n",
        "val_loss = history.history['val_loss']\n",
        "\n",
        "epochs = range(1, len(acc) + 1)\n",
        "\n",
        "# training and validation accuracy\n",
        "\n",
        "plt.plot(epochs, acc, 'bo', label='training acc')\n",
        "plt.plot(epochs, val_acc, 'b', label='validation acc')\n",
        "plt.title('training and validation accuracy')\n",
        "plt.legend()\n",
        "\n",
        "plt.figure()\n",
        "\n",
        "# training and validation loss\n",
        "\n",
        "plt.plot(epochs, loss, 'bo', label='training loss')\n",
        "plt.plot(epochs, val_loss, 'b', label='validation loss')\n",
        "plt.title('training and validation loss')\n",
        "plt.legend()\n",
        "\n",
        "plt.show()"
      ],
      "execution_count": 0,
      "outputs": [
        {
          "output_type": "display_data",
          "data": {
            "image/png": "[encoded data removed]",
            "text/plain": [
              "<Figure size 432x288 with 1 Axes>"
            ]
          },
          "metadata": {
            "tags": [],
            "needs_background": "light"
          }
        },
        {
          "output_type": "display_data",
          "data": {
            "image/png": "[encoded data removed]",
            "text/plain": [
              "<Figure size 432x288 with 1 Axes>"
            ]
          },
          "metadata": {
            "tags": [],
            "needs_background": "light"
          }
        }
      ]
    },
    {
      "cell_type": "markdown",
      "metadata": {
        "id": "obQi6N4ZShdi",
        "colab_type": "text"
      },
      "source": [
        "This looks like overfitting. I should try  adding dropout for the densely connected layer."
      ]
    },
    {
      "cell_type": "markdown",
      "metadata": {
        "id": "he3Nw6TOJwjx",
        "colab_type": "text"
      },
      "source": [
        "## Print out validation loss and accuracy"
      ]
    },
    {
      "cell_type": "code",
      "metadata": {
        "id": "SVQtrk7uJdhl",
        "colab_type": "code",
        "colab": {}
      },
      "source": [
        "val_loss, val_acc = model.evaluate_generator(validation_generator, steps=50)"
      ],
      "execution_count": 0,
      "outputs": []
    },
    {
      "cell_type": "code",
      "metadata": {
        "id": "HpdddLi1SUMe",
        "colab_type": "code",
        "outputId": "d7060e55-6433-4330-ab24-bc15ed2c9856",
        "colab": {
          "base_uri": "https://localhost:8080/",
          "height": 52
        }
      },
      "source": [
        "print(\"Validation loss:\", val_loss)\n",
        "print(\"Validation accuracy:\", val_acc)"
      ],
      "execution_count": 0,
      "outputs": [
        {
          "output_type": "stream",
          "text": [
            "Validation loss: 0.15963290631771088\n",
            "Validation accuracy: 0.9539999961853027\n"
          ],
          "name": "stdout"
        }
      ]
    },
    {
      "cell_type": "markdown",
      "metadata": {
        "id": "7Ww756WToby8",
        "colab_type": "text"
      },
      "source": [
        "## Save the model"
      ]
    },
    {
      "cell_type": "code",
      "metadata": {
        "id": "0lTUpUdwobKW",
        "colab_type": "code",
        "colab": {}
      },
      "source": [
        "model_fname = 'cats_and_dogs_small_4.h5' \n",
        "model.save(model_fname)"
      ],
      "execution_count": 0,
      "outputs": []
    },
    {
      "cell_type": "code",
      "metadata": {
        "id": "YhEoI8ZTok-X",
        "colab_type": "code",
        "outputId": "97b9a404-90bd-4c57-e645-d36fdaf886fe",
        "colab": {
          "base_uri": "https://localhost:8080/",
          "height": 885
        }
      },
      "source": [
        "from google.colab import files\n",
        "\n",
        "with open(model_fname, 'r') as f:\n",
        "  files.download(model_fname)"
      ],
      "execution_count": 0,
      "outputs": [
        {
          "output_type": "stream",
          "text": [
            "----------------------------------------\n",
            "Exception happened during processing of request from ('::ffff:127.0.0.1', 43012, 0, 0)\n",
            "Traceback (most recent call last):\n",
            "  File \"/usr/lib/python3.6/socketserver.py\", line 320, in _handle_request_noblock\n",
            "    self.process_request(request, client_address)\n",
            "  File \"/usr/lib/python3.6/socketserver.py\", line 351, in process_request\n",
            "    self.finish_request(request, client_address)\n",
            "  File \"/usr/lib/python3.6/socketserver.py\", line 364, in finish_request\n",
            "    self.RequestHandlerClass(request, client_address, self)\n",
            "  File \"/usr/lib/python3.6/socketserver.py\", line 724, in __init__\n",
            "    self.handle()\n",
            "  File \"/usr/lib/python3.6/http/server.py\", line 418, in handle\n",
            "    self.handle_one_request()\n",
            "  File \"/usr/lib/python3.6/http/server.py\", line 406, in handle_one_request\n",
            "    method()\n",
            "  File \"/usr/lib/python3.6/http/server.py\", line 639, in do_GET\n",
            "    self.copyfile(f, self.wfile)\n",
            "  File \"/usr/lib/python3.6/http/server.py\", line 800, in copyfile\n",
            "    shutil.copyfileobj(source, outputfile)\n",
            "  File \"/usr/lib/python3.6/shutil.py\", line 82, in copyfileobj\n",
            "    fdst.write(buf)\n",
            "  File \"/usr/lib/python3.6/socketserver.py\", line 803, in write\n",
            "    self._sock.sendall(b)\n",
            "ConnectionResetError: [Errno 104] Connection reset by peer\n",
            "----------------------------------------\n",
            "----------------------------------------\n",
            "Exception happened during processing of request from ('::ffff:127.0.0.1', 34084, 0, 0)\n",
            "Traceback (most recent call last):\n",
            "  File \"/usr/lib/python3.6/socketserver.py\", line 320, in _handle_request_noblock\n",
            "    self.process_request(request, client_address)\n",
            "  File \"/usr/lib/python3.6/socketserver.py\", line 351, in process_request\n",
            "    self.finish_request(request, client_address)\n",
            "  File \"/usr/lib/python3.6/socketserver.py\", line 364, in finish_request\n",
            "    self.RequestHandlerClass(request, client_address, self)\n",
            "  File \"/usr/lib/python3.6/socketserver.py\", line 724, in __init__\n",
            "    self.handle()\n",
            "  File \"/usr/lib/python3.6/http/server.py\", line 418, in handle\n",
            "    self.handle_one_request()\n",
            "  File \"/usr/lib/python3.6/http/server.py\", line 406, in handle_one_request\n",
            "    method()\n",
            "  File \"/usr/lib/python3.6/http/server.py\", line 639, in do_GET\n",
            "    self.copyfile(f, self.wfile)\n",
            "  File \"/usr/lib/python3.6/http/server.py\", line 800, in copyfile\n",
            "    shutil.copyfileobj(source, outputfile)\n",
            "  File \"/usr/lib/python3.6/shutil.py\", line 82, in copyfileobj\n",
            "    fdst.write(buf)\n",
            "  File \"/usr/lib/python3.6/socketserver.py\", line 803, in write\n",
            "    self._sock.sendall(b)\n",
            "ConnectionResetError: [Errno 104] Connection reset by peer\n",
            "----------------------------------------\n"
          ],
          "name": "stderr"
        }
      ]
    },
    {
      "cell_type": "code",
      "metadata": {
        "id": "VNEL4CCcS0Oj",
        "colab_type": "code",
        "colab": {}
      },
      "source": [
        ""
      ],
      "execution_count": 0,
      "outputs": []
    }
  ]
}