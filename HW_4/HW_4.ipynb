{
  "nbformat": 4,
  "nbformat_minor": 0,
  "metadata": {
    "colab": {
      "name": "HW_4.ipynb",
      "provenance": [],
      "collapsed_sections": []
    },
    "kernelspec": {
      "name": "python3",
      "display_name": "Python 3"
    }
  },
  "cells": [
    {
      "cell_type": "markdown",
      "metadata": {
        "id": "IksZX1y9LMEz",
        "colab_type": "text"
      },
      "source": [
        "# Homework 4"
      ]
    },
    {
      "cell_type": "code",
      "metadata": {
        "id": "63g69AX9IT7o",
        "colab_type": "code",
        "colab": {}
      },
      "source": [
        "import math\n",
        "import numpy as np"
      ],
      "execution_count": 0,
      "outputs": []
    },
    {
      "cell_type": "markdown",
      "metadata": {
        "id": "8O4csbCWLQG5",
        "colab_type": "text"
      },
      "source": [
        "## Problem 1"
      ]
    },
    {
      "cell_type": "markdown",
      "metadata": {
        "id": "IoRveukzNJlT",
        "colab_type": "text"
      },
      "source": [
        "A convolution is performed of an input matrix given a kernel. We iterate over the matrix with the kernel. At each iteration we multiply every element of the kernel with its corresponding element in the matrix and sum them together resulting in a final value. An element of the final, output matrix."
      ]
    },
    {
      "cell_type": "code",
      "metadata": {
        "id": "YZBBEPWvKAqn",
        "colab_type": "code",
        "colab": {}
      },
      "source": [
        "# Applies an image convolution to a matrix given a kernel.\n",
        "def conv2d(input_mat, kernel_mat):\n",
        "  # Catch empty matrices.\n",
        "  if len(kernel_mat) == 0 or len(input_mat) == 0:\n",
        "      raise ValueError('Empty input matrix(s)')\n",
        "\n",
        "  # Initialize.\n",
        "  input_mat_width, input_mat_height  = len(input_mat[0]), len(input_mat)\n",
        "  kernel_mat_width, kernel_mat_height  = len(kernel_mat[0]), len(kernel_mat)\n",
        "\n",
        "  # Matrices must be square by the hw description.\n",
        "  if kernel_mat_width != kernel_mat_height or input_mat_width != input_mat_height:\n",
        "    raise ValueError('Matrices are not square')\n",
        "\n",
        "  # Catch a kernel that is too large or matrix that's too small.\n",
        "  if kernel_mat_width > input_mat_width or kernel_mat_height > input_mat_height:\n",
        "    raise ValueError('Kernel size is too large for the matrix')\n",
        "\n",
        "  # Calculate output matrix dimensions.\n",
        "  width_reduction, height_reduction = kernel_mat_width-1, kernel_mat_height-1\n",
        "  output_mat_width, output_mat_height = input_mat_width-width_reduction, input_mat_height-height_reduction\n",
        "  output_mat = np.zeros((output_mat_height, output_mat_width))\n",
        "\n",
        "  # Apply convolution to input matrix with kernel matrix.\n",
        "  for i in range(output_mat_height):\n",
        "    for j in range(output_mat_width):\n",
        "      sum = 0\n",
        "      \n",
        "      # Apply kernel and save resulting matrix.\n",
        "      for k in range(kernel_mat_height):\n",
        "        for l in range(kernel_mat_width):\n",
        "          sum += input_mat[i+k][j+l]*kernel_mat[k][l]\n",
        "      output_mat[i][j] = sum\n",
        "  \n",
        "  return output_mat"
      ],
      "execution_count": 0,
      "outputs": []
    },
    {
      "cell_type": "markdown",
      "metadata": {
        "id": "k2flNtp-Qtv1",
        "colab_type": "text"
      },
      "source": [
        "### Test cases"
      ]
    },
    {
      "cell_type": "markdown",
      "metadata": {
        "id": "7_O77yNUVvwA",
        "colab_type": "text"
      },
      "source": [
        "$input = \n",
        "\\begin{pmatrix}\n",
        "0 & 1 & 2 & 3 & 4\\\\\n",
        "5 & 6 & 7 & 8 & 9\\\\\n",
        "0 & 1 & 2 & 3 & 4\\\\\n",
        "5 & 6 & 7 & 8 & 9\\\\\n",
        "0 & 1 & 2 & 3 & 4\n",
        "\\end{pmatrix}\n",
        "\\,\\,\\,\\,\\,\\,\\,\\,\\,\\,\\,\\,\n",
        "kernel = \n",
        "\\begin{pmatrix}\n",
        "0 & -1\\\\\n",
        "-1 & 0\n",
        "\\end{pmatrix}$"
      ]
    },
    {
      "cell_type": "code",
      "metadata": {
        "id": "A5maQxBzOKw_",
        "colab_type": "code",
        "colab": {
          "base_uri": "https://localhost:8080/",
          "height": 121
        },
        "outputId": "789c0d4d-2c6e-48ef-d0c9-d406958f1b70"
      },
      "source": [
        "# hw test case\n",
        "input_mat = np.array([[0, 1, 2, 3, 4],\n",
        "                      [5, 6, 7, 8, 9],\n",
        "                      [0, 1, 2, 3, 4],\n",
        "                      [5, 6, 7, 8, 9],\n",
        "                      [0, 1, 2, 3, 4]])\n",
        "kernel_mat = np.array([[0, -1],\n",
        "                       [-1, 0]])\n",
        "expected_mat = np.array([[-6, -8, -10, -12],\n",
        "                         [-6, -8, -10, -12],\n",
        "                         [-6, -8, -10, -12],\n",
        "                         [-6, -8, -10, -12]])\n",
        "\n",
        "output_mat = conv2d(input_mat, kernel_mat)\n",
        "\n",
        "print(output_mat)\n",
        "if np.array_equal(output_mat, expected_mat):\n",
        "  print(\"Correct output!\\n\")\n",
        "else:\n",
        "  print(\"Incorrect output!\\n\")"
      ],
      "execution_count": 38,
      "outputs": [
        {
          "output_type": "stream",
          "text": [
            "[[ -6.  -8. -10. -12.]\n",
            " [ -6.  -8. -10. -12.]\n",
            " [ -6.  -8. -10. -12.]\n",
            " [ -6.  -8. -10. -12.]]\n",
            "Correct output!\n",
            "\n"
          ],
          "name": "stdout"
        }
      ]
    },
    {
      "cell_type": "markdown",
      "metadata": {
        "id": "aWP3S_SBfVN0",
        "colab_type": "text"
      },
      "source": [
        "$input = \n",
        "\\begin{pmatrix}\n",
        "1 & 2 & 1 & 2\\\\\n",
        "2 & 1 & 2 & 1\\\\\n",
        "1 & 2 & 1 & 2\\\\\n",
        "2 & 1 & 2 & 1\n",
        "\\end{pmatrix}\n",
        "\\,\\,\\,\\,\\,\\,\\,\\,\\,\\,\\,\\,\n",
        "kernel = \n",
        "\\begin{pmatrix}\n",
        "1 & 0\\\\\n",
        "0 & 1\n",
        "\\end{pmatrix}$"
      ]
    },
    {
      "cell_type": "code",
      "metadata": {
        "id": "Wic5joEGO5qv",
        "colab_type": "code",
        "colab": {
          "base_uri": "https://localhost:8080/",
          "height": 104
        },
        "outputId": "fbadcb5a-7e1a-4950-c32f-f76c709da38d"
      },
      "source": [
        "# test case 1\n",
        "input_mat = np.array([[1, 2, 1, 2],\n",
        "                      [2, 1, 2, 1],\n",
        "                      [1, 2, 1, 2],\n",
        "                      [2, 1, 2, 1]])\n",
        "kernel_mat = np.array([[1, 0],\n",
        "                       [0, 1]])\n",
        "expected_mat = np.array([[2, 4, 2],\n",
        "                         [4, 2, 4],\n",
        "                         [2, 4, 2]])\n",
        "\n",
        "output_mat = conv2d(input_mat, kernel_mat)\n",
        "\n",
        "print(output_mat)\n",
        "if np.array_equal(output_mat, expected_mat):\n",
        "  print(\"Correct output!\\n\")\n",
        "else:\n",
        "  print(\"Incorrect output!\\n\")"
      ],
      "execution_count": 39,
      "outputs": [
        {
          "output_type": "stream",
          "text": [
            "[[2. 4. 2.]\n",
            " [4. 2. 4.]\n",
            " [2. 4. 2.]]\n",
            "Correct output!\n",
            "\n"
          ],
          "name": "stdout"
        }
      ]
    },
    {
      "cell_type": "markdown",
      "metadata": {
        "id": "52OV7IG2fi6F",
        "colab_type": "text"
      },
      "source": [
        "$input = \n",
        "\\begin{pmatrix}\n",
        "1 & 0 & 0 & 0\\\\\n",
        "0 & 1 & 0 & 0\\\\\n",
        "0 & 0 & 1 & 0\\\\\n",
        "0 & 0 & 0 & 1\n",
        "\\end{pmatrix}\n",
        "\\,\\,\\,\\,\\,\\,\\,\\,\\,\\,\\,\\,\n",
        "kernel = \n",
        "\\begin{pmatrix}\n",
        "1 & 0\\\\\n",
        "0 & 1\n",
        "\\end{pmatrix}$"
      ]
    },
    {
      "cell_type": "code",
      "metadata": {
        "id": "UluVpLBlPHj7",
        "colab_type": "code",
        "colab": {
          "base_uri": "https://localhost:8080/",
          "height": 104
        },
        "outputId": "90a1fa27-59f2-402d-ce6e-62fad5443dbf"
      },
      "source": [
        "# test case 2\n",
        "input_mat = np.array([[1, 0, 0, 0],\n",
        "                      [0, 1, 0, 0],\n",
        "                      [0, 0, 1, 0],\n",
        "                      [0, 0, 0, 1]])\n",
        "kernel_mat = np.array([[1, 0],\n",
        "                       [0, 1]])\n",
        "expected_mat = np.array([[2, 0, 0],\n",
        "                         [0, 2, 0],\n",
        "                         [0, 0, 2]])\n",
        "\n",
        "output_mat = conv2d(input_mat, kernel_mat)\n",
        "\n",
        "print(output_mat)\n",
        "if np.array_equal(output_mat, expected_mat):\n",
        "  print(\"Correct output!\\n\")\n",
        "else:\n",
        "  print(\"Incorrect output!\\n\")"
      ],
      "execution_count": 40,
      "outputs": [
        {
          "output_type": "stream",
          "text": [
            "[[2. 0. 0.]\n",
            " [0. 2. 0.]\n",
            " [0. 0. 2.]]\n",
            "Correct output!\n",
            "\n"
          ],
          "name": "stdout"
        }
      ]
    },
    {
      "cell_type": "markdown",
      "metadata": {
        "id": "HsInuq1Sfs1d",
        "colab_type": "text"
      },
      "source": [
        "$input = \n",
        "\\begin{pmatrix}\n",
        "1 & 0 & 0 & 0\\\\\n",
        "0 & 1 & 0 & 0\\\\\n",
        "0 & 0 & 1 & 0\\\\\n",
        "0 & 0 & 0 & 1\n",
        "\\end{pmatrix}\n",
        "\\,\\,\\,\\,\\,\\,\\,\\,\\,\\,\\,\\,\n",
        "kernel = \n",
        "\\begin{pmatrix}\n",
        "1 & -1\\\\\n",
        "-1 & 0\n",
        "\\end{pmatrix}$"
      ]
    },
    {
      "cell_type": "code",
      "metadata": {
        "id": "hK5zYO6kPKSh",
        "colab_type": "code",
        "colab": {
          "base_uri": "https://localhost:8080/",
          "height": 104
        },
        "outputId": "5ee62761-53fa-4133-e34a-2c292ae07c57"
      },
      "source": [
        "# test case 3\n",
        "input_mat = np.array([[1, 0, 0, 0],\n",
        "                      [0, 1, 0, 0],\n",
        "                      [0, 0, 1, 0],\n",
        "                      [0, 0, 0, 1]])\n",
        "kernel_mat = np.array([[1, -1],\n",
        "                       [-1, 0]])\n",
        "expected_mat = np.array([[ 1, -1,  0],\n",
        "                         [-1,  1, -1],\n",
        "                         [ 0, -1,  1]])\n",
        "\n",
        "output_mat = conv2d(input_mat, kernel_mat)\n",
        "\n",
        "print(output_mat)\n",
        "if np.array_equal(output_mat, expected_mat):\n",
        "  print(\"Correct output!\\n\")\n",
        "else:\n",
        "  print(\"Incorrect output!\\n\")"
      ],
      "execution_count": 41,
      "outputs": [
        {
          "output_type": "stream",
          "text": [
            "[[ 1. -1.  0.]\n",
            " [-1.  1. -1.]\n",
            " [ 0. -1.  1.]]\n",
            "Correct output!\n",
            "\n"
          ],
          "name": "stdout"
        }
      ]
    },
    {
      "cell_type": "markdown",
      "metadata": {
        "id": "uZOX0NO-f1x1",
        "colab_type": "text"
      },
      "source": [
        "$input = \n",
        "\\begin{pmatrix}\n",
        "1 & 0 & 0 & 0\\\\\n",
        "0 & 1 & 0 & 0\\\\\n",
        "0 & 0 & 1 & 0\\\\\n",
        "0 & 0 & 0 & 1\n",
        "\\end{pmatrix}\n",
        "\\,\\,\\,\\,\\,\\,\\,\\,\\,\\,\\,\\,\n",
        "kernel = \n",
        "\\begin{pmatrix}\n",
        "1 & 0 & 0 & 0\\\\\n",
        "0 & 1 & 0 & 0\\\\\n",
        "0 & 0 & 1 & 0\\\\\n",
        "0 & 0 & 0 & 1\n",
        "\\end{pmatrix}$"
      ]
    },
    {
      "cell_type": "code",
      "metadata": {
        "id": "cYIemlM1PNZd",
        "colab_type": "code",
        "colab": {
          "base_uri": "https://localhost:8080/",
          "height": 69
        },
        "outputId": "6b7ecd49-151e-4c32-fdb7-ff6e999e74b3"
      },
      "source": [
        "# test case 4\n",
        "input_mat = np.array([[1, 0, 0, 0],\n",
        "                      [0, 1, 0, 0],\n",
        "                      [0, 0, 1, 0],\n",
        "                      [0, 0, 0, 1]])\n",
        "kernel_mat = np.array([[1, 0, 0, 0],\n",
        "                       [0, 1, 0, 0],\n",
        "                       [0, 0, 1, 0],\n",
        "                       [0, 0, 0, 1]])\n",
        "expected_mat = np.array([[4]])\n",
        "\n",
        "output_mat = conv2d(input_mat, kernel_mat)\n",
        "\n",
        "print(output_mat)\n",
        "if np.array_equal(output_mat, expected_mat):\n",
        "  print(\"Correct output!\\n\")\n",
        "else:\n",
        "  print(\"Incorrect output!\\n\")"
      ],
      "execution_count": 42,
      "outputs": [
        {
          "output_type": "stream",
          "text": [
            "[[4.]]\n",
            "Correct output!\n",
            "\n"
          ],
          "name": "stdout"
        }
      ]
    },
    {
      "cell_type": "markdown",
      "metadata": {
        "id": "PrFO7zn0f7FK",
        "colab_type": "text"
      },
      "source": [
        "$input = \n",
        "\\begin{pmatrix}\n",
        "1 & -1\\\\\n",
        "-1 & 0\n",
        "\\end{pmatrix}\n",
        "\\,\\,\\,\\,\\,\\,\\,\\,\\,\\,\\,\\,\n",
        "kernel = \n",
        "\\begin{pmatrix}\n",
        "1 & 0 & 0 & 0\\\\\n",
        "0 & 1 & 0 & 0\\\\\n",
        "0 & 0 & 1 & 0\\\\\n",
        "0 & 0 & 0 & 1\n",
        "\\end{pmatrix}$"
      ]
    },
    {
      "cell_type": "code",
      "metadata": {
        "id": "qvYTsv9BPO72",
        "colab_type": "code",
        "colab": {
          "base_uri": "https://localhost:8080/",
          "height": 356
        },
        "outputId": "21ee154a-166e-428b-bd61-abf0c8077477"
      },
      "source": [
        "# test case 5 - should either through an error, or return empty matrix\n",
        "input_mat = np.array([[1, -1],\n",
        "                      [-1, 0]])\n",
        "kernel_mat = np.array([[1, 0, 0, 0],\n",
        "                       [0, 1, 0, 0],\n",
        "                       [0, 0, 1, 0],\n",
        "                       [0, 0, 0, 1]])\n",
        "expected_mat = []\n",
        "\n",
        "output_mat = conv2d(input_mat, kernel_mat)\n",
        "\n",
        "# If an exception is raised, this is correct output."
      ],
      "execution_count": 43,
      "outputs": [
        {
          "output_type": "error",
          "ename": "ValueError",
          "evalue": "ignored",
          "traceback": [
            "\u001b[0;31m---------------------------------------------------------------------------\u001b[0m",
            "\u001b[0;31mValueError\u001b[0m                                Traceback (most recent call last)",
            "\u001b[0;32m<ipython-input-43-3ff9bd5c8ac1>\u001b[0m in \u001b[0;36m<module>\u001b[0;34m()\u001b[0m\n\u001b[1;32m      7\u001b[0m \u001b[0mexpected_mat\u001b[0m \u001b[0;34m=\u001b[0m \u001b[0;34m[\u001b[0m\u001b[0;34m]\u001b[0m\u001b[0;34m\u001b[0m\u001b[0;34m\u001b[0m\u001b[0m\n\u001b[1;32m      8\u001b[0m \u001b[0;34m\u001b[0m\u001b[0m\n\u001b[0;32m----> 9\u001b[0;31m \u001b[0moutput_mat\u001b[0m \u001b[0;34m=\u001b[0m \u001b[0mconv2d\u001b[0m\u001b[0;34m(\u001b[0m\u001b[0minput_mat\u001b[0m\u001b[0;34m,\u001b[0m \u001b[0mkernel_mat\u001b[0m\u001b[0;34m)\u001b[0m\u001b[0;34m\u001b[0m\u001b[0;34m\u001b[0m\u001b[0m\n\u001b[0m\u001b[1;32m     10\u001b[0m \u001b[0;34m\u001b[0m\u001b[0m\n\u001b[1;32m     11\u001b[0m \u001b[0;31m# If an exception is raised, this is correct output.\u001b[0m\u001b[0;34m\u001b[0m\u001b[0;34m\u001b[0m\u001b[0;34m\u001b[0m\u001b[0m\n",
            "\u001b[0;32m<ipython-input-37-01d078184b12>\u001b[0m in \u001b[0;36mconv2d\u001b[0;34m(input_mat, kernel_mat)\u001b[0m\n\u001b[1;32m     14\u001b[0m   \u001b[0;31m# Catch a kernel that is too large or matrix that's too small.\u001b[0m\u001b[0;34m\u001b[0m\u001b[0;34m\u001b[0m\u001b[0;34m\u001b[0m\u001b[0m\n\u001b[1;32m     15\u001b[0m   \u001b[0;32mif\u001b[0m \u001b[0mkernel_mat_width\u001b[0m \u001b[0;34m>\u001b[0m \u001b[0minput_mat_width\u001b[0m \u001b[0;32mor\u001b[0m \u001b[0mkernel_mat_height\u001b[0m \u001b[0;34m>\u001b[0m \u001b[0minput_mat_height\u001b[0m\u001b[0;34m:\u001b[0m\u001b[0;34m\u001b[0m\u001b[0;34m\u001b[0m\u001b[0m\n\u001b[0;32m---> 16\u001b[0;31m     \u001b[0;32mraise\u001b[0m \u001b[0mValueError\u001b[0m\u001b[0;34m(\u001b[0m\u001b[0;34m'Kernel size is too large for the matrix'\u001b[0m\u001b[0;34m)\u001b[0m\u001b[0;34m\u001b[0m\u001b[0;34m\u001b[0m\u001b[0m\n\u001b[0m\u001b[1;32m     17\u001b[0m \u001b[0;34m\u001b[0m\u001b[0m\n\u001b[1;32m     18\u001b[0m   \u001b[0;31m# Calculate output matrix dimensions.\u001b[0m\u001b[0;34m\u001b[0m\u001b[0;34m\u001b[0m\u001b[0;34m\u001b[0m\u001b[0m\n",
            "\u001b[0;31mValueError\u001b[0m: Kernel size is too large for the matrix"
          ]
        }
      ]
    },
    {
      "cell_type": "markdown",
      "metadata": {
        "id": "LuZ0DTqqYBKi",
        "colab_type": "text"
      },
      "source": [
        "## Problem 2"
      ]
    },
    {
      "cell_type": "markdown",
      "metadata": {
        "id": "qzCAVCd7TJ69",
        "colab_type": "text"
      },
      "source": [
        "A max pooling is performed on an inputted matrix with a window size of s. The max value in the given window size is retained and outputted for each possible window fitting on the matrix at one time. Columns or rows that do not fit within a window are dropped as per valid padding specifications."
      ]
    },
    {
      "cell_type": "code",
      "metadata": {
        "id": "u511LafDYANm",
        "colab_type": "code",
        "colab": {}
      },
      "source": [
        "# Applies a max pooling operation given a matrix and the window size.\n",
        "def maxpooling2d(input_mat, s):\n",
        "  # Catch empty inputs.\n",
        "  if s == 0 or len(input_mat) == 0:\n",
        "      raise ValueError('Empty input(s)')\n",
        "\n",
        "  # Initialize.\n",
        "  input_mat_width, input_mat_height  = len(input_mat[0]), len(input_mat)\n",
        "  patch_width, patch_height  = s, s\n",
        "\n",
        "  # Matrices must be square by the hw description.\n",
        "  if input_mat_width != input_mat_height:\n",
        "    raise ValueError('Matrix is not square')\n",
        "\n",
        "  # Calculate output matrix dimensions.\n",
        "  output_mat_width, output_mat_height = math.floor(input_mat_width/patch_width), math.floor(input_mat_height/patch_height)\n",
        "  output_mat = np.zeros((output_mat_height, output_mat_width))\n",
        "\n",
        "  # Apply max pooling.\n",
        "  for i in range(output_mat_height):\n",
        "    for j in range(output_mat_width):\n",
        "      output_mat[i][j] = np.amax(input_mat[i*patch_height:i*patch_height+patch_height, j*patch_width:j*patch_width+patch_width])\n",
        "  \n",
        "  return output_mat"
      ],
      "execution_count": 0,
      "outputs": []
    },
    {
      "cell_type": "markdown",
      "metadata": {
        "id": "J_KBGpSZUcq1",
        "colab_type": "text"
      },
      "source": [
        "### Test cases"
      ]
    },
    {
      "cell_type": "markdown",
      "metadata": {
        "id": "pHVF2sa2UrRO",
        "colab_type": "text"
      },
      "source": [
        "$input = \n",
        "\\begin{pmatrix}\n",
        "1 & 2 & 1 & 2\\\\\n",
        "2 & 4 & 2 & 1\\\\\n",
        "1 & 2 & 4 & 2\\\\\n",
        "2 & 1 & 2 & 1\n",
        "\\end{pmatrix}\n",
        "\\,\\,\\,\\,\\,\\,\\,\\,\\,\\,\\,\\,\n",
        "s = 2$"
      ]
    },
    {
      "cell_type": "code",
      "metadata": {
        "id": "iKRffiGlSRqL",
        "colab_type": "code",
        "colab": {
          "base_uri": "https://localhost:8080/",
          "height": 69
        },
        "outputId": "887aa22a-91d1-4294-9ac2-bfa7f08427a9"
      },
      "source": [
        "# test case 1\n",
        "input_mat = np.array([[1, 2, 1, 2],\n",
        "                      [2, 4, 2, 1],\n",
        "                      [1, 2, 4, 2],\n",
        "                      [2, 1, 2, 1]])\n",
        "s = 2\n",
        "expected_mat = np.array([[4, 2],\n",
        "                         [2, 4]])\n",
        "\n",
        "output_mat = maxpooling2d(input_mat, s)\n",
        "\n",
        "print(output_mat)\n",
        "if np.array_equal(output_mat, expected_mat):\n",
        "  print(\"Correct output!\")\n",
        "else:\n",
        "  print(\"Incorrect output!\")"
      ],
      "execution_count": 45,
      "outputs": [
        {
          "output_type": "stream",
          "text": [
            "[[4. 2.]\n",
            " [2. 4.]]\n",
            "Correct output!\n"
          ],
          "name": "stdout"
        }
      ]
    },
    {
      "cell_type": "markdown",
      "metadata": {
        "id": "fnmximQYVcWz",
        "colab_type": "text"
      },
      "source": [
        "$input = \n",
        "\\begin{pmatrix}\n",
        "1 & 2 & 1 & 2 & 4 & 5\\\\\n",
        "2 & 4 & 2 & 1 & 0 & 3\\\\\n",
        "1 & 2 & 4 & 2 & 4 & 5\\\\\n",
        "2 & 1 & 2 & 1 & 2 & 1\\\\\n",
        "1 & 1 & 2 & 3 & 1 & 2\\\\\n",
        "1 & 1 & 2 & 3 & 1 & 2\n",
        "\\end{pmatrix}\n",
        "\\,\\,\\,\\,\\,\\,\\,\\,\\,\\,\\,\\,\n",
        "s = 2$"
      ]
    },
    {
      "cell_type": "code",
      "metadata": {
        "id": "wtwI200bSXJB",
        "colab_type": "code",
        "colab": {
          "base_uri": "https://localhost:8080/",
          "height": 86
        },
        "outputId": "7b5214a6-dabf-48c5-a602-215f5bedf055"
      },
      "source": [
        "# test case 2\n",
        "input_mat = np.array([[1, 2, 1, 2, 4, 5],\n",
        "                      [2, 4, 2, 1, 0, 3],\n",
        "                      [1, 2, 4, 2, 4, 5],\n",
        "                      [2, 1, 2, 1, 2, 1],\n",
        "                      [1, 1, 2, 3, 1, 2],\n",
        "                      [1, 1, 2, 3, 1, 2]])\n",
        "s = 2\n",
        "expected_mat = np.array([[4, 2, 5],\n",
        "                         [2, 4, 5],\n",
        "                         [1, 3, 2]])\n",
        "\n",
        "output_mat = maxpooling2d(input_mat, s)\n",
        "\n",
        "print(output_mat)\n",
        "if np.array_equal(output_mat, expected_mat):\n",
        "  print(\"Correct output!\")\n",
        "else:\n",
        "  print(\"Incorrect output!\")"
      ],
      "execution_count": 46,
      "outputs": [
        {
          "output_type": "stream",
          "text": [
            "[[4. 2. 5.]\n",
            " [2. 4. 5.]\n",
            " [1. 3. 2.]]\n",
            "Correct output!\n"
          ],
          "name": "stdout"
        }
      ]
    },
    {
      "cell_type": "markdown",
      "metadata": {
        "id": "iniZ8LMLtpg-",
        "colab_type": "text"
      },
      "source": [
        "## Problem 3"
      ]
    },
    {
      "cell_type": "markdown",
      "metadata": {
        "id": "Uknfh3_WJnp7",
        "colab_type": "text"
      },
      "source": [
        "Check out the two other Google Colabs that I submitted. They have the two CNNs.\n",
        "\n",
        "This is some information about how I ended up with the classifier's architecture and configuration in HW_4_2:\n",
        "\n",
        "When starting out, I tried testing different values in the existing Dense layer. I performed multiple tests and marked the accuracy of the network after a certain amount of time went. This allowed me to have a time-normalized benchmark in order to accurately determine the best layer configuration independent of varying epoch times.\n",
        "\n",
        "I saved four of those tests. After 3 minutes, I found these results:    \n",
        "Xception with dense_5 at 256: 178s loss: 0.3019 - acc: 0.8720 - val_loss: 0.0044 - val_acc: 0.9650    \n",
        "Xception with dense_5 at 512: 183s loss: 0.3170 - acc: 0.8575 - val_loss: 0.0400 - val_acc: 0.9690    \n",
        "Xception with dense_5 at 1024: 171s loss: 0.3155 - acc: 0.8685 - val_loss: 0.3426 - val_acc: 0.9520    \n",
        "Xception with dense_5 at 2048: 172s loss: 0.3022 - acc: 0.8765 - val_loss: 5.0581e-05 - val_acc: 0.9670    \n",
        "\n",
        "I settled on the configuration with the highest validation accuracy. Afterwards, I tested unfreezing different blocks in the Xception architecture for fine-tuning and found the most marked increase in unfreezing block12 of the Xception architecture.\n",
        "\n",
        "I then moved on to the other CNN in HW_4_2 but I performed some additional research on classifiers. I found an example that used two Dense layers instead of one and said sometimes it was more effective than one with a binary classifier. After experimenting with some of those parameters, I settled on one Dense layer with 256 and another Dense layer with 128, resulting in the final HW_4_2 classifier."
      ]
    },
    {
      "cell_type": "markdown",
      "metadata": {
        "id": "jPV9O_kXtg-X",
        "colab_type": "text"
      },
      "source": [
        "# Citations"
      ]
    },
    {
      "cell_type": "markdown",
      "metadata": {
        "id": "7zsoAkRsLc4P",
        "colab_type": "text"
      },
      "source": [
        "- https://setosa.io/ev/image-kernels/\n",
        "- https://wiseodd.github.io/techblog/2016/07/18/convnet-maxpool-layer/\n",
        "- https://github.com/schneider128k/machine_learning_course/blob/master/slides/images/cnn_architecture.png\n",
        "- https://docs.scipy.org/doc/numpy/reference/generated/numpy.amax.html\n",
        "- https://webcourses.ucf.edu/files/78844563/download?download_frd=1\n"
      ]
    }
  ]
}