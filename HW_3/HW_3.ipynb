{
  "nbformat": 4,
  "nbformat_minor": 0,
  "metadata": {
    "colab": {
      "name": "HW_3.ipynb",
      "provenance": []
    },
    "kernelspec": {
      "name": "python3",
      "display_name": "Python 3"
    }
  },
  "cells": [
    {
      "cell_type": "markdown",
      "metadata": {
        "id": "1waIY-2R5urj",
        "colab_type": "text"
      },
      "source": [
        "# Homework 3"
      ]
    },
    {
      "cell_type": "markdown",
      "metadata": {
        "id": "lO9WHs44BGoQ",
        "colab_type": "text"
      },
      "source": [
        "## Problem 1"
      ]
    },
    {
      "cell_type": "code",
      "metadata": {
        "id": "4_EtQldt5s_9",
        "colab_type": "code",
        "colab": {}
      },
      "source": [
        "%tensorflow_version 2.x\n",
        "import tensorflow as tf"
      ],
      "execution_count": 0,
      "outputs": []
    },
    {
      "cell_type": "code",
      "metadata": {
        "id": "oqh5dQ3iVy4q",
        "colab_type": "code",
        "colab": {}
      },
      "source": [
        "import numpy as np\n",
        "import matplotlib.pyplot as plt\n",
        "import random as random\n",
        "np.random.seed(42)"
      ],
      "execution_count": 0,
      "outputs": []
    },
    {
      "cell_type": "code",
      "metadata": {
        "id": "hUWippAcVzeB",
        "colab_type": "code",
        "outputId": "0ccd2a2e-a848-4750-b053-d6e6c10be4b5",
        "colab": {
          "base_uri": "https://localhost:8080/",
          "height": 156
        }
      },
      "source": [
        "def get_random_data(w, b, mu, sigma, m):\n",
        "  data = []\n",
        "  labels = np.random.randint(2, size=m)\n",
        "\n",
        "  for i in range(m):\n",
        "    c = labels[i]\n",
        "    n = np.random.normal(mu, sigma)\n",
        "\n",
        "    x_1 = random.random()\n",
        "    x_2 = w * x_1 + b + ((-1)**c) * n\n",
        "\n",
        "    data.append([x_1, x_2])\n",
        "  \n",
        "  data = np.array(data)\n",
        "  return data, labels\n",
        "\n",
        "truth_weight = 20\n",
        "truth_bias = 10\n",
        "truth_mu = 20\n",
        "truth_sigma = 6\n",
        "truth_m = 10000\n",
        "data, labels =  get_random_data(truth_weight, truth_bias, truth_mu, truth_sigma, truth_m)\n",
        "print(data)\n",
        "print(labels)"
      ],
      "execution_count": 0,
      "outputs": [
        {
          "output_type": "stream",
          "text": [
            "[[ 0.8289198  45.50278298]\n",
            " [ 0.74637981 44.99938751]\n",
            " [ 0.2866865  33.41636579]\n",
            " ...\n",
            " [ 0.20390283 30.48619685]\n",
            " [ 0.65963136 43.05662687]\n",
            " [ 0.1278556  -0.49581357]]\n",
            "[0 0 0 ... 0 0 1]\n"
          ],
          "name": "stdout"
        }
      ]
    },
    {
      "cell_type": "code",
      "metadata": {
        "id": "xaDBpaABV1Eq",
        "colab_type": "code",
        "outputId": "9d58d88d-b429-41e5-95d6-17f8d9f8728b",
        "colab": {
          "base_uri": "https://localhost:8080/",
          "height": 265
        }
      },
      "source": [
        "def display_random_data(data, labels):\n",
        "    x_red = []\n",
        "    y_red = []\n",
        "    x_blue = []\n",
        "    y_blue = []\n",
        "    for i in range(len(labels)):\n",
        "        if labels[i] == 0:\n",
        "            x_blue.append(data[i][0])\n",
        "            y_blue.append(data[i][1])\n",
        "        else:\n",
        "            x_red.append(data[i][0])\n",
        "            y_red.append(data[i][1])\n",
        "    plt.scatter(x_blue, y_blue, c='blue', label='Class 0')\n",
        "    plt.scatter(x_red, y_red, c='red', label='Class 1')\n",
        "    plt.legend()\n",
        "\n",
        "display_random_data(data, labels)"
      ],
      "execution_count": 0,
      "outputs": [
        {
          "output_type": "display_data",
          "data": {
            "image/png": "[encoded data removed]",
            "text/plain": [
              "<Figure size 432x288 with 1 Axes>"
            ]
          },
          "metadata": {
            "tags": []
          }
        }
      ]
    },
    {
      "cell_type": "code",
      "metadata": {
        "id": "lrK3Zon5c4rk",
        "colab_type": "code",
        "colab": {}
      },
      "source": [
        "training_data = data[:7999]\n",
        "training_labels = labels[:7999]\n",
        "testing_data = data[8000:]\n",
        "testing_labels = labels[8000:]"
      ],
      "execution_count": 0,
      "outputs": []
    },
    {
      "cell_type": "markdown",
      "metadata": {
        "id": "fRuF9bMFe-io",
        "colab_type": "text"
      },
      "source": [
        "## Problem 2"
      ]
    },
    {
      "cell_type": "code",
      "metadata": {
        "id": "9I8ygHGliqXP",
        "colab_type": "code",
        "colab": {}
      },
      "source": [
        "%tensorflow_version 2.x\n",
        "from tensorflow.python.keras.models import Sequential\n",
        "from tensorflow.python.keras.layers import Dense, Activation"
      ],
      "execution_count": 0,
      "outputs": []
    },
    {
      "cell_type": "code",
      "metadata": {
        "id": "2G_3F3CMfAjc",
        "colab_type": "code",
        "colab": {}
      },
      "source": [
        "input_dim = 2\n",
        "output_dim = nb_classes = 1\n",
        "batch_size = 128\n",
        "epochs = 250"
      ],
      "execution_count": 0,
      "outputs": []
    },
    {
      "cell_type": "code",
      "metadata": {
        "id": "kkd9Uaa_kCq8",
        "colab_type": "code",
        "colab": {}
      },
      "source": [
        "model = Sequential()\n",
        "model.add(Dense(output_dim, input_dim=input_dim, activation='sigmoid'))"
      ],
      "execution_count": 0,
      "outputs": []
    },
    {
      "cell_type": "code",
      "metadata": {
        "id": "wwb5gRF-kDNi",
        "colab_type": "code",
        "colab": {}
      },
      "source": [
        "model.compile(optimizer='rmsprop', loss='binary_crossentropy', metrics=['accuracy'])\n",
        "history = model.fit(training_data, training_labels, batch_size=batch_size, epochs=epochs, verbose=1, validation_data=(testing_data, testing_labels))\n",
        "score = model.evaluate(testing_data, testing_labels, verbose=0)\n",
        "print('Test score:', score[0])\n",
        "print('Test accuracy:', score[1])"
      ],
      "execution_count": 0,
      "outputs": []
    },
    {
      "cell_type": "code",
      "metadata": {
        "id": "kQjXPCVEu1GN",
        "colab_type": "code",
        "colab": {}
      },
      "source": [
        "dense_layer = model.layers[0]\n",
        "weights, bias = dense_layer.get_weights()\n",
        "\n",
        "w_1 = weights[0]\n",
        "w_2 = weights[1]\n",
        "b_1 = bias"
      ],
      "execution_count": 0,
      "outputs": []
    },
    {
      "cell_type": "code",
      "metadata": {
        "id": "WxgrMx1xyBXv",
        "colab_type": "code",
        "outputId": "93151ae8-c0a3-4299-bdcd-59009ee2c5eb",
        "colab": {
          "base_uri": "https://localhost:8080/",
          "height": 282
        }
      },
      "source": [
        "display_random_data(data, labels)\n",
        "x_1 = np.linspace(0,1)\n",
        "x_2_truth = x_1 * truth_weight + truth_bias\n",
        "x_2_pred = x_1 * (-w_1/w_2) + (-b_1/w_2)\n",
        "plt.plot(x_1, x_2_truth, c='green', label='True Separating Line')\n",
        "plt.plot(x_1, x_2_pred, c='purple', label='Trained Separating Line')\n",
        "plt.legend()"
      ],
      "execution_count": 0,
      "outputs": [
        {
          "output_type": "execute_result",
          "data": {
            "text/plain": [
              "<matplotlib.legend.Legend at 0x7f5746b83278>"
            ]
          },
          "metadata": {
            "tags": []
          },
          "execution_count": 176
        },
        {
          "output_type": "display_data",
          "data": {
            "image/png": "[encoded data removed]",
            "text/plain": [
              "<Figure size 432x288 with 1 Axes>"
            ]
          },
          "metadata": {
            "tags": []
          }
        }
      ]
    },
    {
      "cell_type": "markdown",
      "metadata": {
        "id": "iM1eyMqOfjt_",
        "colab_type": "text"
      },
      "source": [
        "# Sources"
      ]
    },
    {
      "cell_type": "markdown",
      "metadata": {
        "id": "jAtDQRMUfpCy",
        "colab_type": "text"
      },
      "source": [
        "- https://matplotlib.org/3.2.1/api/_as_gen/matplotlib.pyplot.scatter.html\n",
        "- https://www.science-emergence.com/Articles/How-to-create-a-scatter-plot-with-several-colors-in-matplotlib-/\n",
        "- https://docs.scipy.org/doc/numpy-1.15.1/reference/generated/numpy.random.randint.html\n",
        "- https://stackoverflow.com/questions/30030659/in-python-what-is-the-difference-between-random-uniform-and-random-random\n",
        "- https://matplotlib.org/3.1.1/gallery/lines_bars_and_markers/scatter_with_legend.html\n",
        "- https://medium.com/@the1ju/simple-logistic-regression-using-keras-249e0cc9a970\n",
        "- https://stackoverflow.com/questions/43715047/how-do-i-get-the-weights-of-a-layer-in-keras\n",
        "- "
      ]
    }
  ]
}