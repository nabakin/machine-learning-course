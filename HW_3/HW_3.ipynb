{
  "nbformat": 4,
  "nbformat_minor": 0,
  "metadata": {
    "colab": {
      "name": "HW_3.ipynb",
      "provenance": []
    },
    "kernelspec": {
      "name": "python3",
      "display_name": "Python 3"
    }
  },
  "cells": [
    {
      "cell_type": "markdown",
      "metadata": {
        "id": "1waIY-2R5urj",
        "colab_type": "text"
      },
      "source": [
        "# Homework 3"
      ]
    },
    {
      "cell_type": "markdown",
      "metadata": {
        "id": "lO9WHs44BGoQ",
        "colab_type": "text"
      },
      "source": [
        "## Problem 1"
      ]
    },
    {
      "cell_type": "code",
      "metadata": {
        "id": "oqh5dQ3iVy4q",
        "colab_type": "code",
        "colab": {}
      },
      "source": [
        "import numpy as np\n",
        "import matplotlib.pyplot as plt\n",
        "import random as random\n",
        "np.random.seed(42)"
      ],
      "execution_count": 0,
      "outputs": []
    },
    {
      "cell_type": "markdown",
      "metadata": {
        "id": "v-at47spiqfF",
        "colab_type": "text"
      },
      "source": [
        "### Generate randomized data"
      ]
    },
    {
      "cell_type": "markdown",
      "metadata": {
        "id": "C8ZlPgIsj1Ar",
        "colab_type": "text"
      },
      "source": [
        "We have two features for each segment of data: $x_1$ and $x_2$.    \n",
        "$x_1 = \\{$Some value on the interval $ [0,1)\\} \\,\\,\\,\\,\\,\\, x_2 = w*x_1+b+n*(-1)^c$    \n",
        "Where $n = \\{$Some value randomly sampled from a normal distribution of properties $\\mu$ and $\\sigma\\}$ and, $b$ and $w$ are passed as inputs.    \n",
        "We then compute $m$ of these segments to generate an entire set of randomized data."
      ]
    },
    {
      "cell_type": "code",
      "metadata": {
        "id": "hUWippAcVzeB",
        "colab_type": "code",
        "colab": {}
      },
      "source": [
        "# Generates randomized data according to functions\n",
        "# and given input parameters.\n",
        "def get_random_data(w, b, mu, sigma, m):\n",
        "  data = []\n",
        "  labels = np.random.randint(2, size=m)\n",
        "\n",
        "  for i in range(m):\n",
        "    c = labels[i]\n",
        "    n = np.random.normal(mu, sigma)\n",
        "\n",
        "    # The functions used\n",
        "    x_1 = random.random()\n",
        "    x_2 = w * x_1 + b + ((-1)**c) * n\n",
        "\n",
        "    data.append([x_1, x_2])\n",
        "  \n",
        "  data = np.array(data)\n",
        "  return data, labels\n",
        "\n",
        "# The input parameters for the generated data.\n",
        "truth_weight = 40\n",
        "truth_bias = 30\n",
        "truth_mu = 25\n",
        "truth_sigma = 7\n",
        "truth_m = 10000\n",
        "\n",
        "# Generate the randomized data.\n",
        "data, labels =  get_random_data(truth_weight, truth_bias, truth_mu, truth_sigma, truth_m)"
      ],
      "execution_count": 0,
      "outputs": []
    },
    {
      "cell_type": "markdown",
      "metadata": {
        "id": "fHPe-j_Biy-H",
        "colab_type": "text"
      },
      "source": [
        "### Display randomized data"
      ]
    },
    {
      "cell_type": "code",
      "metadata": {
        "id": "xaDBpaABV1Eq",
        "colab_type": "code",
        "outputId": "b79b9892-f7a2-404f-c380-0640931f536a",
        "colab": {
          "base_uri": "https://localhost:8080/",
          "height": 281
        }
      },
      "source": [
        "# Displays randomized data in a scatterplot.\n",
        "def display_random_data(data, labels):\n",
        "    x_red = []\n",
        "    y_red = []\n",
        "    x_blue = []\n",
        "    y_blue = []\n",
        "\n",
        "    # Sort and convert data parsable by matplotlib.\n",
        "    for i in range(len(labels)):\n",
        "        if labels[i] == 0:\n",
        "            x_blue.append(data[i][0])\n",
        "            y_blue.append(data[i][1])\n",
        "        else:\n",
        "            x_red.append(data[i][0])\n",
        "            y_red.append(data[i][1])\n",
        "    \n",
        "    # Plot sorted data.\n",
        "    plt.scatter(x_blue, y_blue, c='blue', label='Class 0')\n",
        "    plt.scatter(x_red, y_red, c='red', label='Class 1')\n",
        "\n",
        "    # Configure the plot.\n",
        "    plt.legend()\n",
        "    plt.title('Data Scatterplot')\n",
        "\n",
        "# Display the generated data.\n",
        "display_random_data(data, labels)\n",
        "plt.show()"
      ],
      "execution_count": 0,
      "outputs": [
        {
          "output_type": "display_data",
          "data": {
            "image/png": "[encoded data removed]",
            "text/plain": [
              "<Figure size 432x288 with 1 Axes>"
            ]
          },
          "metadata": {
            "tags": []
          }
        }
      ]
    },
    {
      "cell_type": "markdown",
      "metadata": {
        "id": "fcGS6Pm5i4Za",
        "colab_type": "text"
      },
      "source": [
        "### Divide the randomized data"
      ]
    },
    {
      "cell_type": "code",
      "metadata": {
        "id": "lrK3Zon5c4rk",
        "colab_type": "code",
        "colab": {}
      },
      "source": [
        "# Divide up the data into testing and training sets.\n",
        "training_data = data[:7999]\n",
        "training_labels = labels[:7999]\n",
        "testing_data = data[8000:]\n",
        "testing_labels = labels[8000:]"
      ],
      "execution_count": 0,
      "outputs": []
    },
    {
      "cell_type": "markdown",
      "metadata": {
        "id": "fRuF9bMFe-io",
        "colab_type": "text"
      },
      "source": [
        "## Problem 2"
      ]
    },
    {
      "cell_type": "code",
      "metadata": {
        "id": "9I8ygHGliqXP",
        "colab_type": "code",
        "colab": {}
      },
      "source": [
        "%tensorflow_version 2.x\n",
        "import tensorflow as tf\n",
        "from tensorflow.python.keras.models import Sequential\n",
        "from tensorflow.python.keras.layers import Dense, Activation"
      ],
      "execution_count": 0,
      "outputs": []
    },
    {
      "cell_type": "markdown",
      "metadata": {
        "id": "sHswxv_fjDLQ",
        "colab_type": "text"
      },
      "source": [
        "### Network input parameters"
      ]
    },
    {
      "cell_type": "code",
      "metadata": {
        "id": "2G_3F3CMfAjc",
        "colab_type": "code",
        "colab": {}
      },
      "source": [
        "# Network input parameters.\n",
        "input_dim = 2\n",
        "output_dim = 1\n",
        "batch_size = 128\n",
        "epochs = 250"
      ],
      "execution_count": 0,
      "outputs": []
    },
    {
      "cell_type": "markdown",
      "metadata": {
        "id": "i2Pz1EesjGoG",
        "colab_type": "text"
      },
      "source": [
        "### Network architecture"
      ]
    },
    {
      "cell_type": "code",
      "metadata": {
        "id": "kkd9Uaa_kCq8",
        "colab_type": "code",
        "colab": {}
      },
      "source": [
        "# Build the model.\n",
        "model = Sequential()\n",
        "model.add(Dense(output_dim, input_dim=input_dim, activation='sigmoid'))"
      ],
      "execution_count": 0,
      "outputs": []
    },
    {
      "cell_type": "markdown",
      "metadata": {
        "id": "lMpoVw5xjL22",
        "colab_type": "text"
      },
      "source": [
        "### Network training"
      ]
    },
    {
      "cell_type": "code",
      "metadata": {
        "id": "wwb5gRF-kDNi",
        "colab_type": "code",
        "outputId": "ca963290-3883-4fd4-9902-818b379d35a8",
        "colab": {
          "base_uri": "https://localhost:8080/",
          "height": 1000
        }
      },
      "source": [
        "# Train the model.\n",
        "model.compile(optimizer='rmsprop', loss='binary_crossentropy', metrics=['accuracy'])\n",
        "history = model.fit(training_data, training_labels, batch_size=batch_size, epochs=epochs, verbose=1, validation_data=(testing_data, testing_labels))\n",
        "score = model.evaluate(testing_data, testing_labels, verbose=0)\n",
        "\n",
        "# Display the results.\n",
        "print('Testing loss:', score[0])\n",
        "print('Testing accuracy:', score[1])"
      ],
      "execution_count": 0,
      "outputs": [
        {
          "output_type": "stream",
          "text": [
            "Epoch 1/250\n",
            "63/63 [==============================] - 0s 4ms/step - loss: 3.8784 - accuracy: 0.5129 - val_loss: 3.5236 - val_accuracy: 0.5075\n",
            "Epoch 2/250\n",
            "63/63 [==============================] - 0s 2ms/step - loss: 3.0482 - accuracy: 0.5134 - val_loss: 2.6886 - val_accuracy: 0.5095\n",
            "Epoch 3/250\n",
            "63/63 [==============================] - 0s 2ms/step - loss: 2.2360 - accuracy: 0.5154 - val_loss: 1.8685 - val_accuracy: 0.5105\n",
            "Epoch 4/250\n",
            "63/63 [==============================] - 0s 2ms/step - loss: 1.4464 - accuracy: 0.5183 - val_loss: 1.0926 - val_accuracy: 0.5170\n",
            "Epoch 5/250\n",
            "63/63 [==============================] - 0s 2ms/step - loss: 0.7969 - accuracy: 0.5389 - val_loss: 0.6364 - val_accuracy: 0.5705\n",
            "Epoch 6/250\n",
            "63/63 [==============================] - 0s 2ms/step - loss: 0.6200 - accuracy: 0.5903 - val_loss: 0.6149 - val_accuracy: 0.5935\n",
            "Epoch 7/250\n",
            "63/63 [==============================] - 0s 2ms/step - loss: 0.6018 - accuracy: 0.6136 - val_loss: 0.5969 - val_accuracy: 0.6080\n",
            "Epoch 8/250\n",
            "63/63 [==============================] - 0s 2ms/step - loss: 0.5840 - accuracy: 0.6327 - val_loss: 0.5782 - val_accuracy: 0.6280\n",
            "Epoch 9/250\n",
            "63/63 [==============================] - 0s 2ms/step - loss: 0.5661 - accuracy: 0.6476 - val_loss: 0.5609 - val_accuracy: 0.6445\n",
            "Epoch 10/250\n",
            "63/63 [==============================] - 0s 2ms/step - loss: 0.5491 - accuracy: 0.6652 - val_loss: 0.5430 - val_accuracy: 0.6745\n",
            "Epoch 11/250\n",
            "63/63 [==============================] - 0s 2ms/step - loss: 0.5321 - accuracy: 0.6875 - val_loss: 0.5263 - val_accuracy: 0.6880\n",
            "Epoch 12/250\n",
            "63/63 [==============================] - 0s 2ms/step - loss: 0.5155 - accuracy: 0.7051 - val_loss: 0.5120 - val_accuracy: 0.6930\n",
            "Epoch 13/250\n",
            "63/63 [==============================] - 0s 2ms/step - loss: 0.4998 - accuracy: 0.7235 - val_loss: 0.4946 - val_accuracy: 0.7450\n",
            "Epoch 14/250\n",
            "63/63 [==============================] - 0s 2ms/step - loss: 0.4843 - accuracy: 0.7431 - val_loss: 0.4791 - val_accuracy: 0.7675\n",
            "Epoch 15/250\n",
            "63/63 [==============================] - 0s 2ms/step - loss: 0.4689 - accuracy: 0.7623 - val_loss: 0.4628 - val_accuracy: 0.7580\n",
            "Epoch 16/250\n",
            "63/63 [==============================] - 0s 2ms/step - loss: 0.4536 - accuracy: 0.7762 - val_loss: 0.4498 - val_accuracy: 0.7580\n",
            "Epoch 17/250\n",
            "63/63 [==============================] - 0s 2ms/step - loss: 0.4392 - accuracy: 0.7980 - val_loss: 0.4337 - val_accuracy: 0.7900\n",
            "Epoch 18/250\n",
            "63/63 [==============================] - 0s 2ms/step - loss: 0.4255 - accuracy: 0.8120 - val_loss: 0.4201 - val_accuracy: 0.8025\n",
            "Epoch 19/250\n",
            "63/63 [==============================] - 0s 2ms/step - loss: 0.4121 - accuracy: 0.8284 - val_loss: 0.4057 - val_accuracy: 0.8335\n",
            "Epoch 20/250\n",
            "63/63 [==============================] - 0s 2ms/step - loss: 0.3988 - accuracy: 0.8442 - val_loss: 0.3923 - val_accuracy: 0.8510\n",
            "Epoch 21/250\n",
            "63/63 [==============================] - 0s 2ms/step - loss: 0.3859 - accuracy: 0.8604 - val_loss: 0.3794 - val_accuracy: 0.8670\n",
            "Epoch 22/250\n",
            "63/63 [==============================] - 0s 2ms/step - loss: 0.3734 - accuracy: 0.8737 - val_loss: 0.3680 - val_accuracy: 0.9130\n",
            "Epoch 23/250\n",
            "63/63 [==============================] - 0s 2ms/step - loss: 0.3612 - accuracy: 0.8880 - val_loss: 0.3548 - val_accuracy: 0.9090\n",
            "Epoch 24/250\n",
            "63/63 [==============================] - 0s 2ms/step - loss: 0.3489 - accuracy: 0.9000 - val_loss: 0.3443 - val_accuracy: 0.8845\n",
            "Epoch 25/250\n",
            "63/63 [==============================] - 0s 2ms/step - loss: 0.3376 - accuracy: 0.9099 - val_loss: 0.3344 - val_accuracy: 0.8860\n",
            "Epoch 26/250\n",
            "63/63 [==============================] - 0s 2ms/step - loss: 0.3268 - accuracy: 0.9167 - val_loss: 0.3206 - val_accuracy: 0.9285\n",
            "Epoch 27/250\n",
            "63/63 [==============================] - 0s 2ms/step - loss: 0.3155 - accuracy: 0.9294 - val_loss: 0.3100 - val_accuracy: 0.9340\n",
            "Epoch 28/250\n",
            "63/63 [==============================] - 0s 2ms/step - loss: 0.3056 - accuracy: 0.9356 - val_loss: 0.2997 - val_accuracy: 0.9385\n",
            "Epoch 29/250\n",
            "63/63 [==============================] - 0s 2ms/step - loss: 0.2956 - accuracy: 0.9436 - val_loss: 0.2893 - val_accuracy: 0.9555\n",
            "Epoch 30/250\n",
            "63/63 [==============================] - 0s 2ms/step - loss: 0.2854 - accuracy: 0.9517 - val_loss: 0.2818 - val_accuracy: 0.9385\n",
            "Epoch 31/250\n",
            "63/63 [==============================] - 0s 2ms/step - loss: 0.2763 - accuracy: 0.9546 - val_loss: 0.2705 - val_accuracy: 0.9615\n",
            "Epoch 32/250\n",
            "63/63 [==============================] - 0s 2ms/step - loss: 0.2675 - accuracy: 0.9605 - val_loss: 0.2614 - val_accuracy: 0.9715\n",
            "Epoch 33/250\n",
            "63/63 [==============================] - 0s 2ms/step - loss: 0.2586 - accuracy: 0.9665 - val_loss: 0.2525 - val_accuracy: 0.9740\n",
            "Epoch 34/250\n",
            "63/63 [==============================] - 0s 2ms/step - loss: 0.2499 - accuracy: 0.9694 - val_loss: 0.2443 - val_accuracy: 0.9705\n",
            "Epoch 35/250\n",
            "63/63 [==============================] - 0s 2ms/step - loss: 0.2416 - accuracy: 0.9722 - val_loss: 0.2366 - val_accuracy: 0.9850\n",
            "Epoch 36/250\n",
            "63/63 [==============================] - 0s 2ms/step - loss: 0.2334 - accuracy: 0.9750 - val_loss: 0.2279 - val_accuracy: 0.9820\n",
            "Epoch 37/250\n",
            "63/63 [==============================] - 0s 2ms/step - loss: 0.2256 - accuracy: 0.9775 - val_loss: 0.2203 - val_accuracy: 0.9850\n",
            "Epoch 38/250\n",
            "63/63 [==============================] - 0s 2ms/step - loss: 0.2185 - accuracy: 0.9801 - val_loss: 0.2131 - val_accuracy: 0.9820\n",
            "Epoch 39/250\n",
            "63/63 [==============================] - 0s 2ms/step - loss: 0.2110 - accuracy: 0.9822 - val_loss: 0.2065 - val_accuracy: 0.9815\n",
            "Epoch 40/250\n",
            "63/63 [==============================] - 0s 2ms/step - loss: 0.2043 - accuracy: 0.9836 - val_loss: 0.1989 - val_accuracy: 0.9850\n",
            "Epoch 41/250\n",
            "63/63 [==============================] - 0s 2ms/step - loss: 0.1973 - accuracy: 0.9860 - val_loss: 0.1924 - val_accuracy: 0.9910\n",
            "Epoch 42/250\n",
            "63/63 [==============================] - 0s 2ms/step - loss: 0.1909 - accuracy: 0.9867 - val_loss: 0.1858 - val_accuracy: 0.9905\n",
            "Epoch 43/250\n",
            "63/63 [==============================] - 0s 2ms/step - loss: 0.1847 - accuracy: 0.9879 - val_loss: 0.1797 - val_accuracy: 0.9905\n",
            "Epoch 44/250\n",
            "63/63 [==============================] - 0s 2ms/step - loss: 0.1784 - accuracy: 0.9894 - val_loss: 0.1744 - val_accuracy: 0.9875\n",
            "Epoch 45/250\n",
            "63/63 [==============================] - 0s 2ms/step - loss: 0.1727 - accuracy: 0.9897 - val_loss: 0.1678 - val_accuracy: 0.9915\n",
            "Epoch 46/250\n",
            "63/63 [==============================] - 0s 2ms/step - loss: 0.1672 - accuracy: 0.9904 - val_loss: 0.1624 - val_accuracy: 0.9925\n",
            "Epoch 47/250\n",
            "63/63 [==============================] - 0s 2ms/step - loss: 0.1615 - accuracy: 0.9914 - val_loss: 0.1575 - val_accuracy: 0.9905\n",
            "Epoch 48/250\n",
            "63/63 [==============================] - 0s 2ms/step - loss: 0.1565 - accuracy: 0.9917 - val_loss: 0.1521 - val_accuracy: 0.9940\n",
            "Epoch 49/250\n",
            "63/63 [==============================] - 0s 2ms/step - loss: 0.1512 - accuracy: 0.9925 - val_loss: 0.1480 - val_accuracy: 0.9905\n",
            "Epoch 50/250\n",
            "63/63 [==============================] - 0s 2ms/step - loss: 0.1464 - accuracy: 0.9927 - val_loss: 0.1419 - val_accuracy: 0.9940\n",
            "Epoch 51/250\n",
            "63/63 [==============================] - 0s 2ms/step - loss: 0.1421 - accuracy: 0.9932 - val_loss: 0.1372 - val_accuracy: 0.9940\n",
            "Epoch 52/250\n",
            "63/63 [==============================] - 0s 2ms/step - loss: 0.1372 - accuracy: 0.9929 - val_loss: 0.1330 - val_accuracy: 0.9925\n",
            "Epoch 53/250\n",
            "63/63 [==============================] - 0s 2ms/step - loss: 0.1327 - accuracy: 0.9932 - val_loss: 0.1289 - val_accuracy: 0.9930\n",
            "Epoch 54/250\n",
            "63/63 [==============================] - 0s 2ms/step - loss: 0.1288 - accuracy: 0.9931 - val_loss: 0.1244 - val_accuracy: 0.9950\n",
            "Epoch 55/250\n",
            "63/63 [==============================] - 0s 2ms/step - loss: 0.1247 - accuracy: 0.9942 - val_loss: 0.1205 - val_accuracy: 0.9960\n",
            "Epoch 56/250\n",
            "63/63 [==============================] - 0s 2ms/step - loss: 0.1206 - accuracy: 0.9951 - val_loss: 0.1167 - val_accuracy: 0.9940\n",
            "Epoch 57/250\n",
            "63/63 [==============================] - 0s 2ms/step - loss: 0.1167 - accuracy: 0.9951 - val_loss: 0.1132 - val_accuracy: 0.9940\n",
            "Epoch 58/250\n",
            "63/63 [==============================] - 0s 2ms/step - loss: 0.1134 - accuracy: 0.9951 - val_loss: 0.1092 - val_accuracy: 0.9955\n",
            "Epoch 59/250\n",
            "63/63 [==============================] - 0s 2ms/step - loss: 0.1096 - accuracy: 0.9955 - val_loss: 0.1058 - val_accuracy: 0.9955\n",
            "Epoch 60/250\n",
            "63/63 [==============================] - 0s 2ms/step - loss: 0.1064 - accuracy: 0.9955 - val_loss: 0.1031 - val_accuracy: 0.9990\n",
            "Epoch 61/250\n",
            "63/63 [==============================] - 0s 2ms/step - loss: 0.1028 - accuracy: 0.9955 - val_loss: 0.0997 - val_accuracy: 0.9945\n",
            "Epoch 62/250\n",
            "63/63 [==============================] - 0s 2ms/step - loss: 0.0998 - accuracy: 0.9957 - val_loss: 0.0961 - val_accuracy: 0.9965\n",
            "Epoch 63/250\n",
            "63/63 [==============================] - 0s 2ms/step - loss: 0.0970 - accuracy: 0.9960 - val_loss: 0.0938 - val_accuracy: 0.9990\n",
            "Epoch 64/250\n",
            "63/63 [==============================] - 0s 2ms/step - loss: 0.0939 - accuracy: 0.9962 - val_loss: 0.0906 - val_accuracy: 0.9955\n",
            "Epoch 65/250\n",
            "63/63 [==============================] - 0s 2ms/step - loss: 0.0910 - accuracy: 0.9962 - val_loss: 0.0874 - val_accuracy: 0.9970\n",
            "Epoch 66/250\n",
            "63/63 [==============================] - 0s 2ms/step - loss: 0.0885 - accuracy: 0.9961 - val_loss: 0.0846 - val_accuracy: 0.9990\n",
            "Epoch 67/250\n",
            "63/63 [==============================] - 0s 2ms/step - loss: 0.0854 - accuracy: 0.9965 - val_loss: 0.0829 - val_accuracy: 0.9955\n",
            "Epoch 68/250\n",
            "63/63 [==============================] - 0s 2ms/step - loss: 0.0831 - accuracy: 0.9965 - val_loss: 0.0797 - val_accuracy: 0.9970\n",
            "Epoch 69/250\n",
            "63/63 [==============================] - 0s 2ms/step - loss: 0.0804 - accuracy: 0.9967 - val_loss: 0.0776 - val_accuracy: 0.9995\n",
            "Epoch 70/250\n",
            "63/63 [==============================] - 0s 2ms/step - loss: 0.0783 - accuracy: 0.9971 - val_loss: 0.0750 - val_accuracy: 0.9990\n",
            "Epoch 71/250\n",
            "63/63 [==============================] - 0s 2ms/step - loss: 0.0759 - accuracy: 0.9970 - val_loss: 0.0726 - val_accuracy: 0.9990\n",
            "Epoch 72/250\n",
            "63/63 [==============================] - 0s 2ms/step - loss: 0.0736 - accuracy: 0.9969 - val_loss: 0.0704 - val_accuracy: 0.9990\n",
            "Epoch 73/250\n",
            "63/63 [==============================] - 0s 2ms/step - loss: 0.0713 - accuracy: 0.9974 - val_loss: 0.0683 - val_accuracy: 0.9990\n",
            "Epoch 74/250\n",
            "63/63 [==============================] - 0s 2ms/step - loss: 0.0693 - accuracy: 0.9972 - val_loss: 0.0666 - val_accuracy: 0.9975\n",
            "Epoch 75/250\n",
            "63/63 [==============================] - 0s 2ms/step - loss: 0.0677 - accuracy: 0.9971 - val_loss: 0.0644 - val_accuracy: 0.9995\n",
            "Epoch 76/250\n",
            "63/63 [==============================] - 0s 2ms/step - loss: 0.0654 - accuracy: 0.9975 - val_loss: 0.0625 - val_accuracy: 0.9990\n",
            "Epoch 77/250\n",
            "63/63 [==============================] - 0s 2ms/step - loss: 0.0636 - accuracy: 0.9972 - val_loss: 0.0607 - val_accuracy: 0.9990\n",
            "Epoch 78/250\n",
            "63/63 [==============================] - 0s 2ms/step - loss: 0.0617 - accuracy: 0.9976 - val_loss: 0.0591 - val_accuracy: 0.9990\n",
            "Epoch 79/250\n",
            "63/63 [==============================] - 0s 2ms/step - loss: 0.0601 - accuracy: 0.9976 - val_loss: 0.0572 - val_accuracy: 0.9995\n",
            "Epoch 80/250\n",
            "63/63 [==============================] - 0s 2ms/step - loss: 0.0583 - accuracy: 0.9976 - val_loss: 0.0555 - val_accuracy: 0.9995\n",
            "Epoch 81/250\n",
            "63/63 [==============================] - 0s 2ms/step - loss: 0.0569 - accuracy: 0.9977 - val_loss: 0.0540 - val_accuracy: 0.9995\n",
            "Epoch 82/250\n",
            "63/63 [==============================] - 0s 2ms/step - loss: 0.0552 - accuracy: 0.9974 - val_loss: 0.0525 - val_accuracy: 0.9995\n",
            "Epoch 83/250\n",
            "63/63 [==============================] - 0s 2ms/step - loss: 0.0537 - accuracy: 0.9977 - val_loss: 0.0510 - val_accuracy: 0.9995\n",
            "Epoch 84/250\n",
            "63/63 [==============================] - 0s 2ms/step - loss: 0.0524 - accuracy: 0.9979 - val_loss: 0.0495 - val_accuracy: 0.9995\n",
            "Epoch 85/250\n",
            "63/63 [==============================] - 0s 2ms/step - loss: 0.0509 - accuracy: 0.9976 - val_loss: 0.0483 - val_accuracy: 0.9990\n",
            "Epoch 86/250\n",
            "63/63 [==============================] - 0s 2ms/step - loss: 0.0495 - accuracy: 0.9977 - val_loss: 0.0470 - val_accuracy: 0.9995\n",
            "Epoch 87/250\n",
            "63/63 [==============================] - 0s 2ms/step - loss: 0.0483 - accuracy: 0.9977 - val_loss: 0.0460 - val_accuracy: 1.0000\n",
            "Epoch 88/250\n",
            "63/63 [==============================] - 0s 2ms/step - loss: 0.0470 - accuracy: 0.9980 - val_loss: 0.0444 - val_accuracy: 0.9995\n",
            "Epoch 89/250\n",
            "63/63 [==============================] - 0s 2ms/step - loss: 0.0457 - accuracy: 0.9980 - val_loss: 0.0431 - val_accuracy: 0.9995\n",
            "Epoch 90/250\n",
            "63/63 [==============================] - 0s 2ms/step - loss: 0.0445 - accuracy: 0.9980 - val_loss: 0.0420 - val_accuracy: 0.9995\n",
            "Epoch 91/250\n",
            "63/63 [==============================] - 0s 2ms/step - loss: 0.0434 - accuracy: 0.9980 - val_loss: 0.0409 - val_accuracy: 0.9995\n",
            "Epoch 92/250\n",
            "63/63 [==============================] - 0s 2ms/step - loss: 0.0421 - accuracy: 0.9986 - val_loss: 0.0398 - val_accuracy: 0.9995\n",
            "Epoch 93/250\n",
            "63/63 [==============================] - 0s 2ms/step - loss: 0.0410 - accuracy: 0.9980 - val_loss: 0.0387 - val_accuracy: 0.9995\n",
            "Epoch 94/250\n",
            "63/63 [==============================] - 0s 2ms/step - loss: 0.0401 - accuracy: 0.9981 - val_loss: 0.0379 - val_accuracy: 1.0000\n",
            "Epoch 95/250\n",
            "63/63 [==============================] - 0s 2ms/step - loss: 0.0391 - accuracy: 0.9981 - val_loss: 0.0368 - val_accuracy: 0.9995\n",
            "Epoch 96/250\n",
            "63/63 [==============================] - 0s 2ms/step - loss: 0.0382 - accuracy: 0.9984 - val_loss: 0.0359 - val_accuracy: 0.9995\n",
            "Epoch 97/250\n",
            "63/63 [==============================] - 0s 2ms/step - loss: 0.0372 - accuracy: 0.9981 - val_loss: 0.0350 - val_accuracy: 1.0000\n",
            "Epoch 98/250\n",
            "63/63 [==============================] - 0s 2ms/step - loss: 0.0362 - accuracy: 0.9984 - val_loss: 0.0345 - val_accuracy: 0.9995\n",
            "Epoch 99/250\n",
            "63/63 [==============================] - 0s 2ms/step - loss: 0.0356 - accuracy: 0.9984 - val_loss: 0.0334 - val_accuracy: 0.9995\n",
            "Epoch 100/250\n",
            "63/63 [==============================] - 0s 2ms/step - loss: 0.0346 - accuracy: 0.9981 - val_loss: 0.0324 - val_accuracy: 1.0000\n",
            "Epoch 101/250\n",
            "63/63 [==============================] - 0s 2ms/step - loss: 0.0337 - accuracy: 0.9985 - val_loss: 0.0317 - val_accuracy: 0.9995\n",
            "Epoch 102/250\n",
            "63/63 [==============================] - 0s 2ms/step - loss: 0.0330 - accuracy: 0.9984 - val_loss: 0.0311 - val_accuracy: 1.0000\n",
            "Epoch 103/250\n",
            "63/63 [==============================] - 0s 2ms/step - loss: 0.0323 - accuracy: 0.9984 - val_loss: 0.0301 - val_accuracy: 1.0000\n",
            "Epoch 104/250\n",
            "63/63 [==============================] - 0s 2ms/step - loss: 0.0316 - accuracy: 0.9984 - val_loss: 0.0295 - val_accuracy: 1.0000\n",
            "Epoch 105/250\n",
            "63/63 [==============================] - 0s 2ms/step - loss: 0.0308 - accuracy: 0.9984 - val_loss: 0.0288 - val_accuracy: 1.0000\n",
            "Epoch 106/250\n",
            "63/63 [==============================] - 0s 2ms/step - loss: 0.0301 - accuracy: 0.9985 - val_loss: 0.0280 - val_accuracy: 0.9995\n",
            "Epoch 107/250\n",
            "63/63 [==============================] - 0s 2ms/step - loss: 0.0294 - accuracy: 0.9982 - val_loss: 0.0274 - val_accuracy: 0.9995\n",
            "Epoch 108/250\n",
            "63/63 [==============================] - 0s 2ms/step - loss: 0.0288 - accuracy: 0.9984 - val_loss: 0.0267 - val_accuracy: 1.0000\n",
            "Epoch 109/250\n",
            "63/63 [==============================] - 0s 2ms/step - loss: 0.0280 - accuracy: 0.9984 - val_loss: 0.0264 - val_accuracy: 1.0000\n",
            "Epoch 110/250\n",
            "63/63 [==============================] - 0s 2ms/step - loss: 0.0274 - accuracy: 0.9985 - val_loss: 0.0255 - val_accuracy: 1.0000\n",
            "Epoch 111/250\n",
            "63/63 [==============================] - 0s 2ms/step - loss: 0.0269 - accuracy: 0.9985 - val_loss: 0.0252 - val_accuracy: 0.9995\n",
            "Epoch 112/250\n",
            "63/63 [==============================] - 0s 2ms/step - loss: 0.0263 - accuracy: 0.9981 - val_loss: 0.0244 - val_accuracy: 1.0000\n",
            "Epoch 113/250\n",
            "63/63 [==============================] - 0s 2ms/step - loss: 0.0259 - accuracy: 0.9984 - val_loss: 0.0239 - val_accuracy: 1.0000\n",
            "Epoch 114/250\n",
            "63/63 [==============================] - 0s 2ms/step - loss: 0.0252 - accuracy: 0.9985 - val_loss: 0.0234 - val_accuracy: 1.0000\n",
            "Epoch 115/250\n",
            "63/63 [==============================] - 0s 2ms/step - loss: 0.0247 - accuracy: 0.9984 - val_loss: 0.0229 - val_accuracy: 0.9995\n",
            "Epoch 116/250\n",
            "63/63 [==============================] - 0s 2ms/step - loss: 0.0242 - accuracy: 0.9985 - val_loss: 0.0225 - val_accuracy: 0.9995\n",
            "Epoch 117/250\n",
            "63/63 [==============================] - 0s 2ms/step - loss: 0.0237 - accuracy: 0.9985 - val_loss: 0.0219 - val_accuracy: 1.0000\n",
            "Epoch 118/250\n",
            "63/63 [==============================] - 0s 2ms/step - loss: 0.0232 - accuracy: 0.9986 - val_loss: 0.0214 - val_accuracy: 1.0000\n",
            "Epoch 119/250\n",
            "63/63 [==============================] - 0s 2ms/step - loss: 0.0227 - accuracy: 0.9984 - val_loss: 0.0209 - val_accuracy: 1.0000\n",
            "Epoch 120/250\n",
            "63/63 [==============================] - 0s 2ms/step - loss: 0.0222 - accuracy: 0.9985 - val_loss: 0.0205 - val_accuracy: 1.0000\n",
            "Epoch 121/250\n",
            "63/63 [==============================] - 0s 2ms/step - loss: 0.0218 - accuracy: 0.9985 - val_loss: 0.0200 - val_accuracy: 1.0000\n",
            "Epoch 122/250\n",
            "63/63 [==============================] - 0s 2ms/step - loss: 0.0214 - accuracy: 0.9985 - val_loss: 0.0198 - val_accuracy: 1.0000\n",
            "Epoch 123/250\n",
            "63/63 [==============================] - 0s 2ms/step - loss: 0.0209 - accuracy: 0.9986 - val_loss: 0.0195 - val_accuracy: 0.9995\n",
            "Epoch 124/250\n",
            "63/63 [==============================] - 0s 2ms/step - loss: 0.0208 - accuracy: 0.9984 - val_loss: 0.0189 - val_accuracy: 1.0000\n",
            "Epoch 125/250\n",
            "63/63 [==============================] - 0s 2ms/step - loss: 0.0201 - accuracy: 0.9986 - val_loss: 0.0188 - val_accuracy: 0.9995\n",
            "Epoch 126/250\n",
            "63/63 [==============================] - 0s 2ms/step - loss: 0.0200 - accuracy: 0.9987 - val_loss: 0.0181 - val_accuracy: 1.0000\n",
            "Epoch 127/250\n",
            "63/63 [==============================] - 0s 2ms/step - loss: 0.0195 - accuracy: 0.9985 - val_loss: 0.0177 - val_accuracy: 1.0000\n",
            "Epoch 128/250\n",
            "63/63 [==============================] - 0s 2ms/step - loss: 0.0191 - accuracy: 0.9987 - val_loss: 0.0174 - val_accuracy: 1.0000\n",
            "Epoch 129/250\n",
            "63/63 [==============================] - 0s 2ms/step - loss: 0.0188 - accuracy: 0.9987 - val_loss: 0.0171 - val_accuracy: 1.0000\n",
            "Epoch 130/250\n",
            "63/63 [==============================] - 0s 2ms/step - loss: 0.0184 - accuracy: 0.9984 - val_loss: 0.0168 - val_accuracy: 1.0000\n",
            "Epoch 131/250\n",
            "63/63 [==============================] - 0s 2ms/step - loss: 0.0181 - accuracy: 0.9985 - val_loss: 0.0164 - val_accuracy: 1.0000\n",
            "Epoch 132/250\n",
            "63/63 [==============================] - 0s 2ms/step - loss: 0.0178 - accuracy: 0.9986 - val_loss: 0.0163 - val_accuracy: 1.0000\n",
            "Epoch 133/250\n",
            "63/63 [==============================] - 0s 2ms/step - loss: 0.0175 - accuracy: 0.9986 - val_loss: 0.0158 - val_accuracy: 1.0000\n",
            "Epoch 134/250\n",
            "63/63 [==============================] - 0s 2ms/step - loss: 0.0172 - accuracy: 0.9989 - val_loss: 0.0156 - val_accuracy: 1.0000\n",
            "Epoch 135/250\n",
            "63/63 [==============================] - 0s 2ms/step - loss: 0.0169 - accuracy: 0.9985 - val_loss: 0.0153 - val_accuracy: 1.0000\n",
            "Epoch 136/250\n",
            "63/63 [==============================] - 0s 2ms/step - loss: 0.0167 - accuracy: 0.9986 - val_loss: 0.0150 - val_accuracy: 1.0000\n",
            "Epoch 137/250\n",
            "63/63 [==============================] - 0s 2ms/step - loss: 0.0163 - accuracy: 0.9989 - val_loss: 0.0148 - val_accuracy: 1.0000\n",
            "Epoch 138/250\n",
            "63/63 [==============================] - 0s 2ms/step - loss: 0.0160 - accuracy: 0.9986 - val_loss: 0.0145 - val_accuracy: 1.0000\n",
            "Epoch 139/250\n",
            "63/63 [==============================] - 0s 2ms/step - loss: 0.0157 - accuracy: 0.9987 - val_loss: 0.0142 - val_accuracy: 1.0000\n",
            "Epoch 140/250\n",
            "63/63 [==============================] - 0s 2ms/step - loss: 0.0156 - accuracy: 0.9990 - val_loss: 0.0139 - val_accuracy: 1.0000\n",
            "Epoch 141/250\n",
            "63/63 [==============================] - 0s 2ms/step - loss: 0.0153 - accuracy: 0.9987 - val_loss: 0.0138 - val_accuracy: 1.0000\n",
            "Epoch 142/250\n",
            "63/63 [==============================] - 0s 2ms/step - loss: 0.0150 - accuracy: 0.9987 - val_loss: 0.0135 - val_accuracy: 1.0000\n",
            "Epoch 143/250\n",
            "63/63 [==============================] - 0s 2ms/step - loss: 0.0148 - accuracy: 0.9991 - val_loss: 0.0133 - val_accuracy: 1.0000\n",
            "Epoch 144/250\n",
            "63/63 [==============================] - 0s 2ms/step - loss: 0.0146 - accuracy: 0.9990 - val_loss: 0.0130 - val_accuracy: 1.0000\n",
            "Epoch 145/250\n",
            "63/63 [==============================] - 0s 2ms/step - loss: 0.0143 - accuracy: 0.9990 - val_loss: 0.0130 - val_accuracy: 1.0000\n",
            "Epoch 146/250\n",
            "63/63 [==============================] - 0s 2ms/step - loss: 0.0141 - accuracy: 0.9992 - val_loss: 0.0126 - val_accuracy: 1.0000\n",
            "Epoch 147/250\n",
            "63/63 [==============================] - 0s 2ms/step - loss: 0.0139 - accuracy: 0.9989 - val_loss: 0.0125 - val_accuracy: 1.0000\n",
            "Epoch 148/250\n",
            "63/63 [==============================] - 0s 2ms/step - loss: 0.0137 - accuracy: 0.9989 - val_loss: 0.0122 - val_accuracy: 1.0000\n",
            "Epoch 149/250\n",
            "63/63 [==============================] - 0s 2ms/step - loss: 0.0136 - accuracy: 0.9989 - val_loss: 0.0120 - val_accuracy: 1.0000\n",
            "Epoch 150/250\n",
            "63/63 [==============================] - 0s 2ms/step - loss: 0.0132 - accuracy: 0.9991 - val_loss: 0.0118 - val_accuracy: 1.0000\n",
            "Epoch 151/250\n",
            "63/63 [==============================] - 0s 2ms/step - loss: 0.0130 - accuracy: 0.9990 - val_loss: 0.0116 - val_accuracy: 1.0000\n",
            "Epoch 152/250\n",
            "63/63 [==============================] - 0s 2ms/step - loss: 0.0129 - accuracy: 0.9992 - val_loss: 0.0114 - val_accuracy: 1.0000\n",
            "Epoch 153/250\n",
            "63/63 [==============================] - 0s 2ms/step - loss: 0.0127 - accuracy: 0.9990 - val_loss: 0.0113 - val_accuracy: 1.0000\n",
            "Epoch 154/250\n",
            "63/63 [==============================] - 0s 2ms/step - loss: 0.0125 - accuracy: 0.9990 - val_loss: 0.0110 - val_accuracy: 1.0000\n",
            "Epoch 155/250\n",
            "63/63 [==============================] - 0s 2ms/step - loss: 0.0123 - accuracy: 0.9991 - val_loss: 0.0109 - val_accuracy: 1.0000\n",
            "Epoch 156/250\n",
            "63/63 [==============================] - 0s 2ms/step - loss: 0.0121 - accuracy: 0.9991 - val_loss: 0.0107 - val_accuracy: 1.0000\n",
            "Epoch 157/250\n",
            "63/63 [==============================] - 0s 2ms/step - loss: 0.0119 - accuracy: 0.9990 - val_loss: 0.0107 - val_accuracy: 1.0000\n",
            "Epoch 158/250\n",
            "63/63 [==============================] - 0s 2ms/step - loss: 0.0118 - accuracy: 0.9987 - val_loss: 0.0104 - val_accuracy: 1.0000\n",
            "Epoch 159/250\n",
            "63/63 [==============================] - 0s 2ms/step - loss: 0.0116 - accuracy: 0.9991 - val_loss: 0.0105 - val_accuracy: 1.0000\n",
            "Epoch 160/250\n",
            "63/63 [==============================] - 0s 2ms/step - loss: 0.0115 - accuracy: 0.9992 - val_loss: 0.0101 - val_accuracy: 1.0000\n",
            "Epoch 161/250\n",
            "63/63 [==============================] - 0s 2ms/step - loss: 0.0114 - accuracy: 0.9994 - val_loss: 0.0100 - val_accuracy: 1.0000\n",
            "Epoch 162/250\n",
            "63/63 [==============================] - 0s 2ms/step - loss: 0.0112 - accuracy: 0.9994 - val_loss: 0.0098 - val_accuracy: 1.0000\n",
            "Epoch 163/250\n",
            "63/63 [==============================] - 0s 2ms/step - loss: 0.0110 - accuracy: 0.9994 - val_loss: 0.0097 - val_accuracy: 1.0000\n",
            "Epoch 164/250\n",
            "63/63 [==============================] - 0s 2ms/step - loss: 0.0108 - accuracy: 0.9995 - val_loss: 0.0095 - val_accuracy: 1.0000\n",
            "Epoch 165/250\n",
            "63/63 [==============================] - 0s 2ms/step - loss: 0.0108 - accuracy: 0.9992 - val_loss: 0.0095 - val_accuracy: 1.0000\n",
            "Epoch 166/250\n",
            "63/63 [==============================] - 0s 2ms/step - loss: 0.0106 - accuracy: 0.9992 - val_loss: 0.0094 - val_accuracy: 1.0000\n",
            "Epoch 167/250\n",
            "63/63 [==============================] - 0s 2ms/step - loss: 0.0105 - accuracy: 0.9994 - val_loss: 0.0092 - val_accuracy: 1.0000\n",
            "Epoch 168/250\n",
            "63/63 [==============================] - 0s 2ms/step - loss: 0.0103 - accuracy: 0.9992 - val_loss: 0.0090 - val_accuracy: 1.0000\n",
            "Epoch 169/250\n",
            "63/63 [==============================] - 0s 2ms/step - loss: 0.0103 - accuracy: 0.9992 - val_loss: 0.0089 - val_accuracy: 1.0000\n",
            "Epoch 170/250\n",
            "63/63 [==============================] - 0s 2ms/step - loss: 0.0101 - accuracy: 0.9994 - val_loss: 0.0087 - val_accuracy: 1.0000\n",
            "Epoch 171/250\n",
            "63/63 [==============================] - 0s 2ms/step - loss: 0.0099 - accuracy: 0.9991 - val_loss: 0.0086 - val_accuracy: 1.0000\n",
            "Epoch 172/250\n",
            "63/63 [==============================] - 0s 2ms/step - loss: 0.0098 - accuracy: 0.9994 - val_loss: 0.0085 - val_accuracy: 1.0000\n",
            "Epoch 173/250\n",
            "63/63 [==============================] - 0s 2ms/step - loss: 0.0097 - accuracy: 0.9992 - val_loss: 0.0084 - val_accuracy: 1.0000\n",
            "Epoch 174/250\n",
            "63/63 [==============================] - 0s 2ms/step - loss: 0.0095 - accuracy: 0.9992 - val_loss: 0.0083 - val_accuracy: 1.0000\n",
            "Epoch 175/250\n",
            "63/63 [==============================] - 0s 2ms/step - loss: 0.0094 - accuracy: 0.9992 - val_loss: 0.0086 - val_accuracy: 1.0000\n",
            "Epoch 176/250\n",
            "63/63 [==============================] - 0s 2ms/step - loss: 0.0094 - accuracy: 0.9991 - val_loss: 0.0082 - val_accuracy: 1.0000\n",
            "Epoch 177/250\n",
            "63/63 [==============================] - 0s 2ms/step - loss: 0.0093 - accuracy: 0.9994 - val_loss: 0.0080 - val_accuracy: 1.0000\n",
            "Epoch 178/250\n",
            "63/63 [==============================] - 0s 2ms/step - loss: 0.0091 - accuracy: 0.9994 - val_loss: 0.0078 - val_accuracy: 1.0000\n",
            "Epoch 179/250\n",
            "63/63 [==============================] - 0s 2ms/step - loss: 0.0090 - accuracy: 0.9996 - val_loss: 0.0077 - val_accuracy: 1.0000\n",
            "Epoch 180/250\n",
            "63/63 [==============================] - 0s 2ms/step - loss: 0.0091 - accuracy: 0.9994 - val_loss: 0.0079 - val_accuracy: 1.0000\n",
            "Epoch 181/250\n",
            "63/63 [==============================] - 0s 2ms/step - loss: 0.0088 - accuracy: 0.9995 - val_loss: 0.0076 - val_accuracy: 1.0000\n",
            "Epoch 182/250\n",
            "63/63 [==============================] - 0s 2ms/step - loss: 0.0087 - accuracy: 0.9994 - val_loss: 0.0076 - val_accuracy: 1.0000\n",
            "Epoch 183/250\n",
            "63/63 [==============================] - 0s 2ms/step - loss: 0.0087 - accuracy: 0.9994 - val_loss: 0.0074 - val_accuracy: 1.0000\n",
            "Epoch 184/250\n",
            "63/63 [==============================] - 0s 2ms/step - loss: 0.0085 - accuracy: 0.9994 - val_loss: 0.0073 - val_accuracy: 1.0000\n",
            "Epoch 185/250\n",
            "63/63 [==============================] - 0s 4ms/step - loss: 0.0084 - accuracy: 0.9994 - val_loss: 0.0073 - val_accuracy: 1.0000\n",
            "Epoch 186/250\n",
            "63/63 [==============================] - 0s 2ms/step - loss: 0.0084 - accuracy: 0.9994 - val_loss: 0.0072 - val_accuracy: 1.0000\n",
            "Epoch 187/250\n",
            "63/63 [==============================] - 0s 2ms/step - loss: 0.0083 - accuracy: 0.9995 - val_loss: 0.0070 - val_accuracy: 1.0000\n",
            "Epoch 188/250\n",
            "63/63 [==============================] - 0s 2ms/step - loss: 0.0081 - accuracy: 0.9996 - val_loss: 0.0069 - val_accuracy: 1.0000\n",
            "Epoch 189/250\n",
            "63/63 [==============================] - 0s 2ms/step - loss: 0.0081 - accuracy: 0.9995 - val_loss: 0.0068 - val_accuracy: 1.0000\n",
            "Epoch 190/250\n",
            "63/63 [==============================] - 0s 2ms/step - loss: 0.0080 - accuracy: 0.9992 - val_loss: 0.0068 - val_accuracy: 1.0000\n",
            "Epoch 191/250\n",
            "63/63 [==============================] - 0s 2ms/step - loss: 0.0081 - accuracy: 0.9994 - val_loss: 0.0069 - val_accuracy: 1.0000\n",
            "Epoch 192/250\n",
            "63/63 [==============================] - 0s 2ms/step - loss: 0.0079 - accuracy: 0.9995 - val_loss: 0.0066 - val_accuracy: 1.0000\n",
            "Epoch 193/250\n",
            "63/63 [==============================] - 0s 2ms/step - loss: 0.0077 - accuracy: 0.9996 - val_loss: 0.0065 - val_accuracy: 1.0000\n",
            "Epoch 194/250\n",
            "63/63 [==============================] - 0s 2ms/step - loss: 0.0077 - accuracy: 0.9994 - val_loss: 0.0066 - val_accuracy: 1.0000\n",
            "Epoch 195/250\n",
            "63/63 [==============================] - 0s 2ms/step - loss: 0.0076 - accuracy: 0.9995 - val_loss: 0.0064 - val_accuracy: 1.0000\n",
            "Epoch 196/250\n",
            "63/63 [==============================] - 0s 2ms/step - loss: 0.0076 - accuracy: 0.9995 - val_loss: 0.0064 - val_accuracy: 1.0000\n",
            "Epoch 197/250\n",
            "63/63 [==============================] - 0s 2ms/step - loss: 0.0075 - accuracy: 0.9995 - val_loss: 0.0063 - val_accuracy: 1.0000\n",
            "Epoch 198/250\n",
            "63/63 [==============================] - 0s 2ms/step - loss: 0.0074 - accuracy: 0.9995 - val_loss: 0.0062 - val_accuracy: 1.0000\n",
            "Epoch 199/250\n",
            "63/63 [==============================] - 0s 2ms/step - loss: 0.0073 - accuracy: 0.9994 - val_loss: 0.0061 - val_accuracy: 1.0000\n",
            "Epoch 200/250\n",
            "63/63 [==============================] - 0s 2ms/step - loss: 0.0073 - accuracy: 0.9995 - val_loss: 0.0061 - val_accuracy: 1.0000\n",
            "Epoch 201/250\n",
            "63/63 [==============================] - 0s 2ms/step - loss: 0.0072 - accuracy: 0.9994 - val_loss: 0.0060 - val_accuracy: 1.0000\n",
            "Epoch 202/250\n",
            "63/63 [==============================] - 0s 2ms/step - loss: 0.0071 - accuracy: 0.9995 - val_loss: 0.0059 - val_accuracy: 1.0000\n",
            "Epoch 203/250\n",
            "63/63 [==============================] - 0s 2ms/step - loss: 0.0070 - accuracy: 0.9994 - val_loss: 0.0059 - val_accuracy: 1.0000\n",
            "Epoch 204/250\n",
            "63/63 [==============================] - 0s 2ms/step - loss: 0.0070 - accuracy: 0.9995 - val_loss: 0.0058 - val_accuracy: 1.0000\n",
            "Epoch 205/250\n",
            "63/63 [==============================] - 0s 2ms/step - loss: 0.0069 - accuracy: 0.9995 - val_loss: 0.0057 - val_accuracy: 1.0000\n",
            "Epoch 206/250\n",
            "63/63 [==============================] - 0s 2ms/step - loss: 0.0068 - accuracy: 0.9995 - val_loss: 0.0057 - val_accuracy: 1.0000\n",
            "Epoch 207/250\n",
            "63/63 [==============================] - 0s 2ms/step - loss: 0.0068 - accuracy: 0.9996 - val_loss: 0.0057 - val_accuracy: 1.0000\n",
            "Epoch 208/250\n",
            "63/63 [==============================] - 0s 2ms/step - loss: 0.0067 - accuracy: 0.9995 - val_loss: 0.0055 - val_accuracy: 1.0000\n",
            "Epoch 209/250\n",
            "63/63 [==============================] - 0s 2ms/step - loss: 0.0067 - accuracy: 0.9995 - val_loss: 0.0055 - val_accuracy: 1.0000\n",
            "Epoch 210/250\n",
            "63/63 [==============================] - 0s 2ms/step - loss: 0.0067 - accuracy: 0.9995 - val_loss: 0.0055 - val_accuracy: 1.0000\n",
            "Epoch 211/250\n",
            "63/63 [==============================] - 0s 2ms/step - loss: 0.0065 - accuracy: 0.9994 - val_loss: 0.0054 - val_accuracy: 1.0000\n",
            "Epoch 212/250\n",
            "63/63 [==============================] - 0s 2ms/step - loss: 0.0065 - accuracy: 0.9996 - val_loss: 0.0053 - val_accuracy: 1.0000\n",
            "Epoch 213/250\n",
            "63/63 [==============================] - 0s 2ms/step - loss: 0.0064 - accuracy: 0.9995 - val_loss: 0.0053 - val_accuracy: 1.0000\n",
            "Epoch 214/250\n",
            "63/63 [==============================] - 0s 2ms/step - loss: 0.0064 - accuracy: 0.9995 - val_loss: 0.0054 - val_accuracy: 1.0000\n",
            "Epoch 215/250\n",
            "63/63 [==============================] - 0s 2ms/step - loss: 0.0063 - accuracy: 0.9995 - val_loss: 0.0052 - val_accuracy: 1.0000\n",
            "Epoch 216/250\n",
            "63/63 [==============================] - 0s 2ms/step - loss: 0.0063 - accuracy: 0.9995 - val_loss: 0.0052 - val_accuracy: 1.0000\n",
            "Epoch 217/250\n",
            "63/63 [==============================] - 0s 2ms/step - loss: 0.0063 - accuracy: 0.9996 - val_loss: 0.0052 - val_accuracy: 1.0000\n",
            "Epoch 218/250\n",
            "63/63 [==============================] - 0s 2ms/step - loss: 0.0061 - accuracy: 0.9995 - val_loss: 0.0052 - val_accuracy: 1.0000\n",
            "Epoch 219/250\n",
            "63/63 [==============================] - 0s 2ms/step - loss: 0.0061 - accuracy: 0.9995 - val_loss: 0.0050 - val_accuracy: 1.0000\n",
            "Epoch 220/250\n",
            "63/63 [==============================] - 0s 2ms/step - loss: 0.0060 - accuracy: 0.9996 - val_loss: 0.0051 - val_accuracy: 1.0000\n",
            "Epoch 221/250\n",
            "63/63 [==============================] - 0s 2ms/step - loss: 0.0060 - accuracy: 0.9996 - val_loss: 0.0049 - val_accuracy: 1.0000\n",
            "Epoch 222/250\n",
            "63/63 [==============================] - 0s 2ms/step - loss: 0.0060 - accuracy: 0.9995 - val_loss: 0.0049 - val_accuracy: 1.0000\n",
            "Epoch 223/250\n",
            "63/63 [==============================] - 0s 2ms/step - loss: 0.0059 - accuracy: 0.9995 - val_loss: 0.0049 - val_accuracy: 1.0000\n",
            "Epoch 224/250\n",
            "63/63 [==============================] - 0s 2ms/step - loss: 0.0058 - accuracy: 0.9996 - val_loss: 0.0048 - val_accuracy: 1.0000\n",
            "Epoch 225/250\n",
            "63/63 [==============================] - 0s 2ms/step - loss: 0.0059 - accuracy: 0.9995 - val_loss: 0.0047 - val_accuracy: 1.0000\n",
            "Epoch 226/250\n",
            "63/63 [==============================] - 0s 2ms/step - loss: 0.0058 - accuracy: 0.9995 - val_loss: 0.0050 - val_accuracy: 1.0000\n",
            "Epoch 227/250\n",
            "63/63 [==============================] - 0s 2ms/step - loss: 0.0058 - accuracy: 0.9995 - val_loss: 0.0046 - val_accuracy: 1.0000\n",
            "Epoch 228/250\n",
            "63/63 [==============================] - 0s 2ms/step - loss: 0.0057 - accuracy: 0.9995 - val_loss: 0.0046 - val_accuracy: 1.0000\n",
            "Epoch 229/250\n",
            "63/63 [==============================] - 0s 2ms/step - loss: 0.0057 - accuracy: 0.9995 - val_loss: 0.0047 - val_accuracy: 1.0000\n",
            "Epoch 230/250\n",
            "63/63 [==============================] - 0s 2ms/step - loss: 0.0057 - accuracy: 0.9996 - val_loss: 0.0046 - val_accuracy: 1.0000\n",
            "Epoch 231/250\n",
            "63/63 [==============================] - 0s 2ms/step - loss: 0.0056 - accuracy: 0.9996 - val_loss: 0.0045 - val_accuracy: 1.0000\n",
            "Epoch 232/250\n",
            "63/63 [==============================] - 0s 2ms/step - loss: 0.0055 - accuracy: 0.9996 - val_loss: 0.0045 - val_accuracy: 1.0000\n",
            "Epoch 233/250\n",
            "63/63 [==============================] - 0s 2ms/step - loss: 0.0055 - accuracy: 0.9994 - val_loss: 0.0045 - val_accuracy: 1.0000\n",
            "Epoch 234/250\n",
            "63/63 [==============================] - 0s 2ms/step - loss: 0.0055 - accuracy: 0.9995 - val_loss: 0.0044 - val_accuracy: 1.0000\n",
            "Epoch 235/250\n",
            "63/63 [==============================] - 0s 2ms/step - loss: 0.0055 - accuracy: 0.9995 - val_loss: 0.0043 - val_accuracy: 1.0000\n",
            "Epoch 236/250\n",
            "63/63 [==============================] - 0s 2ms/step - loss: 0.0054 - accuracy: 0.9995 - val_loss: 0.0043 - val_accuracy: 1.0000\n",
            "Epoch 237/250\n",
            "63/63 [==============================] - 0s 2ms/step - loss: 0.0053 - accuracy: 0.9996 - val_loss: 0.0043 - val_accuracy: 1.0000\n",
            "Epoch 238/250\n",
            "63/63 [==============================] - 0s 2ms/step - loss: 0.0053 - accuracy: 0.9996 - val_loss: 0.0042 - val_accuracy: 1.0000\n",
            "Epoch 239/250\n",
            "63/63 [==============================] - 0s 2ms/step - loss: 0.0053 - accuracy: 0.9996 - val_loss: 0.0043 - val_accuracy: 1.0000\n",
            "Epoch 240/250\n",
            "63/63 [==============================] - 0s 2ms/step - loss: 0.0053 - accuracy: 0.9996 - val_loss: 0.0043 - val_accuracy: 1.0000\n",
            "Epoch 241/250\n",
            "63/63 [==============================] - 0s 2ms/step - loss: 0.0052 - accuracy: 0.9996 - val_loss: 0.0041 - val_accuracy: 1.0000\n",
            "Epoch 242/250\n",
            "63/63 [==============================] - 0s 2ms/step - loss: 0.0052 - accuracy: 0.9996 - val_loss: 0.0043 - val_accuracy: 1.0000\n",
            "Epoch 243/250\n",
            "63/63 [==============================] - 0s 2ms/step - loss: 0.0051 - accuracy: 0.9995 - val_loss: 0.0041 - val_accuracy: 1.0000\n",
            "Epoch 244/250\n",
            "63/63 [==============================] - 0s 2ms/step - loss: 0.0051 - accuracy: 0.9995 - val_loss: 0.0042 - val_accuracy: 1.0000\n",
            "Epoch 245/250\n",
            "63/63 [==============================] - 0s 2ms/step - loss: 0.0051 - accuracy: 0.9995 - val_loss: 0.0040 - val_accuracy: 1.0000\n",
            "Epoch 246/250\n",
            "63/63 [==============================] - 0s 2ms/step - loss: 0.0050 - accuracy: 0.9995 - val_loss: 0.0040 - val_accuracy: 1.0000\n",
            "Epoch 247/250\n",
            "63/63 [==============================] - 0s 2ms/step - loss: 0.0051 - accuracy: 0.9995 - val_loss: 0.0041 - val_accuracy: 1.0000\n",
            "Epoch 248/250\n",
            "63/63 [==============================] - 0s 2ms/step - loss: 0.0050 - accuracy: 0.9996 - val_loss: 0.0039 - val_accuracy: 1.0000\n",
            "Epoch 249/250\n",
            "63/63 [==============================] - 0s 2ms/step - loss: 0.0049 - accuracy: 0.9995 - val_loss: 0.0040 - val_accuracy: 1.0000\n",
            "Epoch 250/250\n",
            "63/63 [==============================] - 0s 2ms/step - loss: 0.0049 - accuracy: 0.9996 - val_loss: 0.0038 - val_accuracy: 1.0000\n",
            "Testing loss: 0.003836406162008643\n",
            "Testing accuracy: 1.0\n"
          ],
          "name": "stdout"
        }
      ]
    },
    {
      "cell_type": "code",
      "metadata": {
        "id": "kQjXPCVEu1GN",
        "colab_type": "code",
        "colab": {}
      },
      "source": [
        "# Extract weights and bias from layer.\n",
        "dense_layer = model.layers[0]\n",
        "weights, bias = dense_layer.get_weights()\n",
        "\n",
        "# Redefine weights and bias.\n",
        "w_1 = weights[0]\n",
        "w_2 = weights[1]\n",
        "b_1 = bias"
      ],
      "execution_count": 0,
      "outputs": []
    },
    {
      "cell_type": "markdown",
      "metadata": {
        "id": "V20zHWWTjQ0_",
        "colab_type": "text"
      },
      "source": [
        "### Plotting predictions"
      ]
    },
    {
      "cell_type": "markdown",
      "metadata": {
        "id": "qQeIcsdJnfSi",
        "colab_type": "text"
      },
      "source": [
        "Since we generate the data from known inputs and a certain formula, we know the true separating line of the network. That is, $y_t = x*w_t+b_t$. We can now compare the true separating line of the network with the predicted separating line of the network. This can be found using the outputs of the trained network with $y_p = x*\\frac{-w_1}{w_2}+\\frac{-b_1}{w_2}$."
      ]
    },
    {
      "cell_type": "code",
      "metadata": {
        "id": "WxgrMx1xyBXv",
        "colab_type": "code",
        "outputId": "399b77c1-7b60-40de-fc47-64423884bee5",
        "colab": {
          "base_uri": "https://localhost:8080/",
          "height": 281
        }
      },
      "source": [
        "# Creates a scatterplot of randomized data and\n",
        "# plots true and predicted separating lines\n",
        "# for a given input of weights and a bias.\n",
        "def plot_predictions(b_1, w_1, w_2):\n",
        "    # Get a scatterplot of our random data.\n",
        "    display_random_data(data, labels)\n",
        "\n",
        "    # Calculate the y values.\n",
        "    x = np.linspace(0, 1)\n",
        "    y_truth = x * truth_weight + truth_bias\n",
        "    y_pred = x * (-w_1 / w_2) + (-b_1 / w_2)\n",
        "\n",
        "    # Plot the functions.\n",
        "    plt.plot(x, y_truth, c='green', label='True Separating Line')\n",
        "    plt.plot(x, y_pred, c='purple', label='Trained Separating Line')\n",
        "\n",
        "    # Configure the plot.\n",
        "    plt.title('Network Prediction Scatterplot and Lines')\n",
        "    plt.legend()\n",
        "    plt.show()\n",
        "\n",
        "# Plot the predictions of the trained keras network.\n",
        "ax = plt.gca()\n",
        "plot_predictions(b_1, w_1, w_2)\n",
        "\n",
        "# Save the y limits for future reference.\n",
        "plt_pred_ylim = ax.get_ylim()"
      ],
      "execution_count": 0,
      "outputs": [
        {
          "output_type": "display_data",
          "data": {
            "image/png": "[encoded data removed]",
            "text/plain": [
              "<Figure size 432x288 with 1 Axes>"
            ]
          },
          "metadata": {
            "tags": []
          }
        }
      ]
    },
    {
      "cell_type": "markdown",
      "metadata": {
        "id": "iuol5UiAjmM1",
        "colab_type": "text"
      },
      "source": [
        "### Plotting the heatmap"
      ]
    },
    {
      "cell_type": "markdown",
      "metadata": {
        "id": "GgZ68KcHo41b",
        "colab_type": "text"
      },
      "source": [
        "In order to create a heatmap, we need to find an equation $f : R^2 \\rightarrow R$ where the input is the axes and the output is the 'heat' value. Understanding and utilizing the weights and bias from our trained network, we can construct the formula $z = w_1*x+w_2*y+b$ where $x$ and $y$ are the axes inputs and $w_1$, $w_2$, and $b$ are the weights and bias."
      ]
    },
    {
      "cell_type": "code",
      "metadata": {
        "id": "vAFJX7q76ZAB",
        "colab_type": "code",
        "outputId": "12130437-4706-48d8-d06d-148bce1a11d7",
        "colab": {
          "base_uri": "https://localhost:8080/",
          "height": 281
        }
      },
      "source": [
        "# Creates a heatmap of a network with\n",
        "# a given input of its weights and bias.\n",
        "def plot_heatmap(ylim, b_1, w_1, w_2):\n",
        "    # Define the boundaries of the heatmap.\n",
        "    y, x = np.meshgrid(np.linspace(ylim[0], ylim[1], 100), np.linspace(0, 1, 100))\n",
        "\n",
        "    # Define our z function, the heatmap color.\n",
        "    z = w_1 * x + w_2 * y + b_1\n",
        "\n",
        "    # Normalize z to a [0,1] interval.\n",
        "    z_min, z_max = z.min(), z.max()\n",
        "    z_range = abs(z_max) + abs(z_min)\n",
        "    z = (z + abs(z_min)) / z_range\n",
        "\n",
        "    # Define a subplot for a colorbar.\n",
        "    fig, ax = plt.subplots()\n",
        "\n",
        "    # Define the color mapping for the heatmap.\n",
        "    c = ax.pcolormesh(x, y, z, cmap='RdBu_r', vmin=0, vmax=1)\n",
        "    ax.axis([x.min(), x.max(), y.min(), y.max()])\n",
        "    fig.colorbar(c, ax=ax)\n",
        "\n",
        "    # Configure the plot.\n",
        "    plt.title('Network Prediction Heatmap')\n",
        "    plt.show()\n",
        "\n",
        "# Plot the heatmap of the trained keras network.\n",
        "plot_heatmap(plt_pred_ylim, b_1, w_1, w_2)"
      ],
      "execution_count": 0,
      "outputs": [
        {
          "output_type": "display_data",
          "data": {
            "image/png": "[encoded data removed]",
            "text/plain": [
              "<Figure size 432x288 with 2 Axes>"
            ]
          },
          "metadata": {
            "tags": []
          }
        }
      ]
    },
    {
      "cell_type": "markdown",
      "metadata": {
        "id": "ljLG6eJFD5mY",
        "colab_type": "text"
      },
      "source": [
        "## Problem 3"
      ]
    },
    {
      "cell_type": "markdown",
      "metadata": {
        "id": "DRu8449OEDO9",
        "colab_type": "text"
      },
      "source": [
        "### Network input parameters"
      ]
    },
    {
      "cell_type": "code",
      "metadata": {
        "id": "-n9YEL4JDKJC",
        "colab_type": "code",
        "colab": {}
      },
      "source": [
        "# Network input parameters.\n",
        "epochs = 250\n",
        "lr = 0.01"
      ],
      "execution_count": 0,
      "outputs": []
    },
    {
      "cell_type": "markdown",
      "metadata": {
        "colab_type": "text",
        "id": "Mzf_nHYFHrCk"
      },
      "source": [
        "### Stochastic gradient logistic regression"
      ]
    },
    {
      "cell_type": "markdown",
      "metadata": {
        "id": "IxEFzhuHEHPF",
        "colab_type": "text"
      },
      "source": [
        "##### Sigmoid function"
      ]
    },
    {
      "cell_type": "markdown",
      "metadata": {
        "id": "WM9ui3J4Fos8",
        "colab_type": "text"
      },
      "source": [
        "The sigmoid function is used in stochastic gradient logistic regression. It is defined as $\\sigma(z)=\\frac{1}{1+e^{-z}}$."
      ]
    },
    {
      "cell_type": "code",
      "metadata": {
        "id": "PL3T_ZZtrnAR",
        "colab_type": "code",
        "colab": {}
      },
      "source": [
        "# Performs the sigmoid function.\n",
        "def sigmoid(z):\n",
        "    return 1 / (1 + np.exp(-z))"
      ],
      "execution_count": 0,
      "outputs": []
    },
    {
      "cell_type": "markdown",
      "metadata": {
        "id": "fbvcL4rsEaes",
        "colab_type": "text"
      },
      "source": [
        "##### Network training"
      ]
    },
    {
      "cell_type": "code",
      "metadata": {
        "id": "AKXXmveHFjDc",
        "colab_type": "code",
        "colab": {}
      },
      "source": [
        "# Initialization of network weights and bias.\n",
        "w_1 = np.random.randn(1)\n",
        "w_2 = np.random.randn(1)\n",
        "b_1 = np.zeros(1)"
      ],
      "execution_count": 0,
      "outputs": []
    },
    {
      "cell_type": "markdown",
      "metadata": {
        "id": "PyoeDWoEIOLK",
        "colab_type": "text"
      },
      "source": [
        "In order to train the network, some steps need to be taken. We iterate through each epoch, continually updating the weights and the bias through a form of gradient descent.    \n",
        "    \n",
        "Gradient descent in the code here, includes three important formulas.    \n",
        "First, the $y_p = w_1 * x_1 + w_2 * x_2 + b_1$ formula is realized to find a prediction given certain input values $x_1$ and $x_2$. Once calculated, $y_p$ is used as input to the sigmoid function $a = \\sigma(z)$.    \n",
        "Next, $a$ is used as input to gradient descent formulas such as $g_{w1} = (a - y) * x_1$.    \n",
        "Lastly, gradients are used as input to 'descent' formulas such as $w_1 = w_1 - LR * g_{w1}$.\n",
        "\n",
        "Afterwards, we'd like to know how accurate the model is and so we pass on the resulting $w_1$, $w_2$, and $b_1$ values to be evaluated."
      ]
    },
    {
      "cell_type": "code",
      "metadata": {
        "id": "96zhsNynrfTv",
        "colab_type": "code",
        "outputId": "6897e941-fdd1-46bf-b3dc-9af0c967c13a",
        "colab": {
          "base_uri": "https://localhost:8080/",
          "height": 1000
        }
      },
      "source": [
        "# Training a stochastic gradient logistic regression model.\n",
        "for epoch in np.arange(epochs):\n",
        "    print(\"Epoch \" + str(epoch+1) + \"/\" + str(epochs))\n",
        "\n",
        "    # Iterate through all features.\n",
        "    for i in np.arange(len(training_data)):\n",
        "        # Calculate predictions.\n",
        "        y_pred = w_1 * training_data[i][0] + w_2 * training_data[i][1] + b_1\n",
        "        a = sigmoid(y_pred)\n",
        "        \n",
        "        # Perform gradient descent.\n",
        "        grad_w_1 = (a - training_labels[i]) * training_data[i][0]\n",
        "        grad_w_2 = (a - training_labels[i]) * training_data[i][1]\n",
        "        grad_b_1 = (a - training_labels[i])\n",
        "        \n",
        "        # Apply to weights and bias.\n",
        "        w_1 -= lr * grad_w_1\n",
        "        w_2 -= lr * grad_w_2\n",
        "        b_1 -= lr * grad_b_1"
      ],
      "execution_count": 0,
      "outputs": [
        {
          "output_type": "stream",
          "text": [
            "Epoch 1/250\n",
            "Epoch 2/250\n",
            "Epoch 3/250\n",
            "Epoch 4/250\n",
            "Epoch 5/250\n",
            "Epoch 6/250\n",
            "Epoch 7/250\n",
            "Epoch 8/250\n",
            "Epoch 9/250\n",
            "Epoch 10/250\n",
            "Epoch 11/250\n",
            "Epoch 12/250\n",
            "Epoch 13/250\n",
            "Epoch 14/250\n",
            "Epoch 15/250\n",
            "Epoch 16/250\n",
            "Epoch 17/250\n",
            "Epoch 18/250\n",
            "Epoch 19/250\n",
            "Epoch 20/250\n",
            "Epoch 21/250\n",
            "Epoch 22/250\n",
            "Epoch 23/250\n",
            "Epoch 24/250\n",
            "Epoch 25/250\n",
            "Epoch 26/250\n",
            "Epoch 27/250\n",
            "Epoch 28/250\n",
            "Epoch 29/250\n",
            "Epoch 30/250\n",
            "Epoch 31/250\n",
            "Epoch 32/250\n",
            "Epoch 33/250\n",
            "Epoch 34/250\n",
            "Epoch 35/250\n",
            "Epoch 36/250\n",
            "Epoch 37/250\n",
            "Epoch 38/250\n",
            "Epoch 39/250\n",
            "Epoch 40/250\n",
            "Epoch 41/250\n",
            "Epoch 42/250\n",
            "Epoch 43/250\n",
            "Epoch 44/250\n",
            "Epoch 45/250\n",
            "Epoch 46/250\n",
            "Epoch 47/250\n",
            "Epoch 48/250\n",
            "Epoch 49/250\n",
            "Epoch 50/250\n",
            "Epoch 51/250\n",
            "Epoch 52/250\n",
            "Epoch 53/250\n",
            "Epoch 54/250\n",
            "Epoch 55/250\n",
            "Epoch 56/250\n",
            "Epoch 57/250\n",
            "Epoch 58/250\n",
            "Epoch 59/250\n",
            "Epoch 60/250\n",
            "Epoch 61/250\n",
            "Epoch 62/250\n",
            "Epoch 63/250\n",
            "Epoch 64/250\n",
            "Epoch 65/250\n",
            "Epoch 66/250\n",
            "Epoch 67/250\n",
            "Epoch 68/250\n",
            "Epoch 69/250\n",
            "Epoch 70/250\n",
            "Epoch 71/250\n",
            "Epoch 72/250\n",
            "Epoch 73/250\n",
            "Epoch 74/250\n",
            "Epoch 75/250\n",
            "Epoch 76/250\n",
            "Epoch 77/250\n",
            "Epoch 78/250\n",
            "Epoch 79/250\n",
            "Epoch 80/250\n",
            "Epoch 81/250\n",
            "Epoch 82/250\n",
            "Epoch 83/250\n",
            "Epoch 84/250\n",
            "Epoch 85/250\n",
            "Epoch 86/250\n",
            "Epoch 87/250\n",
            "Epoch 88/250\n",
            "Epoch 89/250\n",
            "Epoch 90/250\n",
            "Epoch 91/250\n",
            "Epoch 92/250\n",
            "Epoch 93/250\n",
            "Epoch 94/250\n",
            "Epoch 95/250\n",
            "Epoch 96/250\n",
            "Epoch 97/250\n",
            "Epoch 98/250\n",
            "Epoch 99/250\n",
            "Epoch 100/250\n",
            "Epoch 101/250\n",
            "Epoch 102/250\n",
            "Epoch 103/250\n",
            "Epoch 104/250\n",
            "Epoch 105/250\n",
            "Epoch 106/250\n",
            "Epoch 107/250\n",
            "Epoch 108/250\n",
            "Epoch 109/250\n",
            "Epoch 110/250\n",
            "Epoch 111/250\n",
            "Epoch 112/250\n",
            "Epoch 113/250\n",
            "Epoch 114/250\n",
            "Epoch 115/250\n",
            "Epoch 116/250\n",
            "Epoch 117/250\n",
            "Epoch 118/250\n",
            "Epoch 119/250\n",
            "Epoch 120/250\n",
            "Epoch 121/250\n",
            "Epoch 122/250\n",
            "Epoch 123/250\n",
            "Epoch 124/250\n",
            "Epoch 125/250\n",
            "Epoch 126/250\n",
            "Epoch 127/250\n",
            "Epoch 128/250\n",
            "Epoch 129/250\n",
            "Epoch 130/250\n",
            "Epoch 131/250\n",
            "Epoch 132/250\n",
            "Epoch 133/250\n",
            "Epoch 134/250\n",
            "Epoch 135/250\n",
            "Epoch 136/250\n",
            "Epoch 137/250\n",
            "Epoch 138/250\n",
            "Epoch 139/250\n",
            "Epoch 140/250\n",
            "Epoch 141/250\n",
            "Epoch 142/250\n",
            "Epoch 143/250\n",
            "Epoch 144/250\n",
            "Epoch 145/250\n",
            "Epoch 146/250\n",
            "Epoch 147/250\n",
            "Epoch 148/250\n",
            "Epoch 149/250\n",
            "Epoch 150/250\n",
            "Epoch 151/250\n",
            "Epoch 152/250\n",
            "Epoch 153/250\n",
            "Epoch 154/250\n",
            "Epoch 155/250\n",
            "Epoch 156/250\n",
            "Epoch 157/250\n",
            "Epoch 158/250\n",
            "Epoch 159/250\n",
            "Epoch 160/250\n",
            "Epoch 161/250\n",
            "Epoch 162/250\n",
            "Epoch 163/250\n",
            "Epoch 164/250\n",
            "Epoch 165/250\n",
            "Epoch 166/250\n",
            "Epoch 167/250\n",
            "Epoch 168/250\n",
            "Epoch 169/250\n",
            "Epoch 170/250\n",
            "Epoch 171/250\n",
            "Epoch 172/250\n",
            "Epoch 173/250\n",
            "Epoch 174/250\n",
            "Epoch 175/250\n",
            "Epoch 176/250\n",
            "Epoch 177/250\n",
            "Epoch 178/250\n",
            "Epoch 179/250\n",
            "Epoch 180/250\n",
            "Epoch 181/250\n",
            "Epoch 182/250\n",
            "Epoch 183/250\n",
            "Epoch 184/250\n",
            "Epoch 185/250\n",
            "Epoch 186/250\n",
            "Epoch 187/250\n",
            "Epoch 188/250\n",
            "Epoch 189/250\n",
            "Epoch 190/250\n",
            "Epoch 191/250\n",
            "Epoch 192/250\n",
            "Epoch 193/250\n",
            "Epoch 194/250\n",
            "Epoch 195/250\n",
            "Epoch 196/250\n",
            "Epoch 197/250\n",
            "Epoch 198/250\n",
            "Epoch 199/250\n",
            "Epoch 200/250\n",
            "Epoch 201/250\n",
            "Epoch 202/250\n",
            "Epoch 203/250\n",
            "Epoch 204/250\n",
            "Epoch 205/250\n",
            "Epoch 206/250\n",
            "Epoch 207/250\n",
            "Epoch 208/250\n",
            "Epoch 209/250\n",
            "Epoch 210/250\n",
            "Epoch 211/250\n",
            "Epoch 212/250\n",
            "Epoch 213/250\n",
            "Epoch 214/250\n",
            "Epoch 215/250\n",
            "Epoch 216/250\n",
            "Epoch 217/250\n",
            "Epoch 218/250\n",
            "Epoch 219/250\n",
            "Epoch 220/250\n",
            "Epoch 221/250\n",
            "Epoch 222/250\n",
            "Epoch 223/250\n",
            "Epoch 224/250\n",
            "Epoch 225/250\n",
            "Epoch 226/250\n",
            "Epoch 227/250\n",
            "Epoch 228/250\n",
            "Epoch 229/250\n",
            "Epoch 230/250\n",
            "Epoch 231/250\n",
            "Epoch 232/250\n",
            "Epoch 233/250\n",
            "Epoch 234/250\n",
            "Epoch 235/250\n",
            "Epoch 236/250\n",
            "Epoch 237/250\n",
            "Epoch 238/250\n",
            "Epoch 239/250\n",
            "Epoch 240/250\n",
            "Epoch 241/250\n",
            "Epoch 242/250\n",
            "Epoch 243/250\n",
            "Epoch 244/250\n",
            "Epoch 245/250\n",
            "Epoch 246/250\n",
            "Epoch 247/250\n",
            "Epoch 248/250\n",
            "Epoch 249/250\n",
            "Epoch 250/250\n"
          ],
          "name": "stdout"
        }
      ]
    },
    {
      "cell_type": "markdown",
      "metadata": {
        "id": "g7b5sA5GElZ-",
        "colab_type": "text"
      },
      "source": [
        "### Network testing/evaluation"
      ]
    },
    {
      "cell_type": "markdown",
      "metadata": {
        "id": "Nk7MypbMMD_7",
        "colab_type": "text"
      },
      "source": [
        "In evaluation, we iterate through all testing data and use the given features, foreign to the network and determine how the network classifies them. There are two common benchmarks to reflect this: testing accuracy and testing loss.    \n",
        "    \n",
        "Testing accuracy can be calculated by finding the $y_p$ and $\\sigma(z)$ formulas. They are used to determine classification. If $a >= \\frac{1}{2}$, the network believes the features belong to class 1. If $a < \\frac{1}{2}$, the network believes the features belong to class 0. Then we check whether or not the network's classification holds up against the true classification $y$. Doing this for each iteration, gives us the testing accuracy.\n",
        "\n",
        "Testing loss is dependent on the loss function. The loss function we are using is binary cross entropy loss which is the function $\\mathcal{L}_{ce} = -y * log(a) - (1 - y) * log(1 - a)$ where $a = \\sigma(y_p)$ and $y$ is the true classification. The loss is added with each iteration and eventually divided by the quantity of testing data that was iterated through."
      ]
    },
    {
      "cell_type": "code",
      "metadata": {
        "id": "mUXI0P5Nrhzj",
        "colab_type": "code",
        "outputId": "06f8dcc5-be9c-492c-b5a1-26540e99d91e",
        "colab": {
          "base_uri": "https://localhost:8080/",
          "height": 52
        }
      },
      "source": [
        "testing_loss = 0\n",
        "testing_accuracy = 0\n",
        "\n",
        "# Iterate through all features.\n",
        "for i in np.arange(len(testing_data)):\n",
        "    # Calculate predictions.\n",
        "    y_pred = w_1 * testing_data[i][0] + w_2 * testing_data[i][1] + b_1\n",
        "    a = sigmoid(y_pred)\n",
        "    y = testing_labels[i]\n",
        "\n",
        "    # Determine accuracy.\n",
        "    if a >= 0.5:\n",
        "        if y == 1:\n",
        "            testing_accuracy += 1\n",
        "    else:\n",
        "        if y == 0:\n",
        "            testing_accuracy += 1\n",
        "    \n",
        "    # Apply testing loss with binary cross entropy.\n",
        "    testing_loss += (-y * np.log(a) - (1 - y) * np.log(max(1 - a, 0.0000001)))[0]\n",
        "\n",
        "testing_loss /= len(testing_data)\n",
        "testing_accuracy /= len(testing_data)\n",
        "\n",
        "# Display the results.\n",
        "print('Testing loss:', testing_loss)\n",
        "print('Testing accuracy:', testing_accuracy)"
      ],
      "execution_count": 0,
      "outputs": [
        {
          "output_type": "stream",
          "text": [
            "Testing loss: 0.0003052547330755031\n",
            "Testing accuracy: 1.0\n"
          ],
          "name": "stdout"
        }
      ]
    },
    {
      "cell_type": "markdown",
      "metadata": {
        "id": "Q5PsDJujEqlJ",
        "colab_type": "text"
      },
      "source": [
        "### Plotting predictions"
      ]
    },
    {
      "cell_type": "code",
      "metadata": {
        "id": "vRES7hVkBUto",
        "colab_type": "code",
        "outputId": "63c5e859-4e27-4bc4-ac03-08c22debea58",
        "colab": {
          "base_uri": "https://localhost:8080/",
          "height": 281
        }
      },
      "source": [
        "# Plot predictions of the custom stochastic gradient\n",
        "# logistic regression model.\n",
        "ax = plt.gca()\n",
        "plot_predictions(b_1, w_1, w_2)\n",
        "\n",
        "# Save the y limits for future reference.\n",
        "plt_pred_ylim = ax.get_ylim()"
      ],
      "execution_count": 0,
      "outputs": [
        {
          "output_type": "display_data",
          "data": {
            "image/png": "[encoded data removed]",
            "text/plain": [
              "<Figure size 432x288 with 1 Axes>"
            ]
          },
          "metadata": {
            "tags": []
          }
        }
      ]
    },
    {
      "cell_type": "markdown",
      "metadata": {
        "id": "yBtHndnEEx1X",
        "colab_type": "text"
      },
      "source": [
        "### Plotting the heatmap"
      ]
    },
    {
      "cell_type": "code",
      "metadata": {
        "id": "5Psw3nSLBgQ3",
        "colab_type": "code",
        "outputId": "eeb8c6b0-109b-474d-984b-bb4d65affea2",
        "colab": {
          "base_uri": "https://localhost:8080/",
          "height": 281
        }
      },
      "source": [
        "# Plot heatmap of the custom stochastic gradient\n",
        "# logistic regression model.\n",
        "plot_heatmap(plt_pred_ylim, b_1, w_1, w_2)"
      ],
      "execution_count": 0,
      "outputs": [
        {
          "output_type": "display_data",
          "data": {
            "image/png": "[encoded data removed]",
            "text/plain": [
              "<Figure size 432x288 with 2 Axes>"
            ]
          },
          "metadata": {
            "tags": []
          }
        }
      ]
    },
    {
      "cell_type": "markdown",
      "metadata": {
        "id": "iM1eyMqOfjt_",
        "colab_type": "text"
      },
      "source": [
        "# Sources"
      ]
    },
    {
      "cell_type": "markdown",
      "metadata": {
        "id": "jAtDQRMUfpCy",
        "colab_type": "text"
      },
      "source": [
        "- https://matplotlib.org/3.2.1/api/_as_gen/matplotlib.pyplot.scatter.html\n",
        "- https://www.science-emergence.com/Articles/How-to-create-a-scatter-plot-with-several-colors-in-matplotlib-/\n",
        "- https://docs.scipy.org/doc/numpy-1.15.1/reference/generated/numpy.random.randint.html\n",
        "- https://stackoverflow.com/questions/30030659/in-python-what-is-the-difference-between-random-uniform-and-random-random\n",
        "- https://matplotlib.org/3.1.1/gallery/lines_bars_and_markers/scatter_with_legend.html\n",
        "- https://medium.com/@the1ju/simple-logistic-regression-using-keras-249e0cc9a970\n",
        "- https://stackoverflow.com/questions/43715047/how-do-i-get-the-weights-of-a-layer-in-keras\n",
        "- https://stackoverflow.com/questions/33282368/plotting-a-2d-heatmap-with-matplotlib/54088910#54088910\n",
        "- https://matplotlib.org/api/_as_gen/matplotlib.pyplot.title.html\n",
        "- https://github.com/schneider128k/machine_learning_course/blob/master/slides/logistic_regression.pdf\n",
        "- https://colab.research.google.com/drive/1ZKa5sIiSgS8P1RuNyH6yYcZ6F9S7Yiwu\n",
        "- https://stackoverflow.com/questions/26131607/matplotlib-get-ylim-values"
      ]
    }
  ]
}